{
 "cells": [
  {
   "cell_type": "code",
   "execution_count": 545,
   "metadata": {},
   "outputs": [
    {
     "data": {
      "text/plain": [
       "'00:02:55.305'"
      ]
     },
     "execution_count": 545,
     "metadata": {},
     "output_type": "execute_result"
    }
   ],
   "source": [
    "import numpy as np\n",
    "import pandas as pd\n",
    "import matplotlib as plt\n",
    "import datetime\n",
    "#turns seconds into a string format ffmpeg uses\n",
    "def seconds_formatter(sec):\n",
    "    x = \"0\" + str(datetime.timedelta(seconds=sec))[:-3]\n",
    "    return x\n",
    "seconds_formatter(175.305)"
   ]
  },
  {
   "cell_type": "code",
   "execution_count": 546,
   "metadata": {},
   "outputs": [
    {
     "data": {
      "text/html": [
       "<div>\n",
       "<style scoped>\n",
       "    .dataframe tbody tr th:only-of-type {\n",
       "        vertical-align: middle;\n",
       "    }\n",
       "\n",
       "    .dataframe tbody tr th {\n",
       "        vertical-align: top;\n",
       "    }\n",
       "\n",
       "    .dataframe thead tr th {\n",
       "        text-align: left;\n",
       "    }\n",
       "</style>\n",
       "<table border=\"1\" class=\"dataframe\">\n",
       "  <thead>\n",
       "    <tr>\n",
       "      <th>bodyparts</th>\n",
       "      <th colspan=\"3\" halign=\"left\">leftEar</th>\n",
       "      <th colspan=\"3\" halign=\"left\">rightEar</th>\n",
       "      <th colspan=\"3\" halign=\"left\">Nose</th>\n",
       "      <th>leftHand</th>\n",
       "      <th>...</th>\n",
       "      <th>rightHand</th>\n",
       "      <th colspan=\"3\" halign=\"left\">leftFoot</th>\n",
       "      <th colspan=\"3\" halign=\"left\">rightFoot</th>\n",
       "      <th colspan=\"3\" halign=\"left\">pellet</th>\n",
       "    </tr>\n",
       "    <tr>\n",
       "      <th>coords</th>\n",
       "      <th>x</th>\n",
       "      <th>y</th>\n",
       "      <th>likelihood</th>\n",
       "      <th>x</th>\n",
       "      <th>y</th>\n",
       "      <th>likelihood</th>\n",
       "      <th>x</th>\n",
       "      <th>y</th>\n",
       "      <th>likelihood</th>\n",
       "      <th>x</th>\n",
       "      <th>...</th>\n",
       "      <th>likelihood</th>\n",
       "      <th>x</th>\n",
       "      <th>y</th>\n",
       "      <th>likelihood</th>\n",
       "      <th>x</th>\n",
       "      <th>y</th>\n",
       "      <th>likelihood</th>\n",
       "      <th>x</th>\n",
       "      <th>y</th>\n",
       "      <th>likelihood</th>\n",
       "    </tr>\n",
       "  </thead>\n",
       "  <tbody>\n",
       "    <tr>\n",
       "      <th>count</th>\n",
       "      <td>24320.000000</td>\n",
       "      <td>24320.000000</td>\n",
       "      <td>24320.000000</td>\n",
       "      <td>24320.000000</td>\n",
       "      <td>24320.000000</td>\n",
       "      <td>24320.000000</td>\n",
       "      <td>24320.000000</td>\n",
       "      <td>24320.000000</td>\n",
       "      <td>24320.000000</td>\n",
       "      <td>24320.000000</td>\n",
       "      <td>...</td>\n",
       "      <td>24320.000000</td>\n",
       "      <td>24320.000000</td>\n",
       "      <td>24320.000000</td>\n",
       "      <td>24320.000000</td>\n",
       "      <td>24320.000000</td>\n",
       "      <td>24320.000000</td>\n",
       "      <td>24320.000000</td>\n",
       "      <td>24320.000000</td>\n",
       "      <td>24320.000000</td>\n",
       "      <td>24320.000000</td>\n",
       "    </tr>\n",
       "    <tr>\n",
       "      <th>mean</th>\n",
       "      <td>418.129470</td>\n",
       "      <td>104.092916</td>\n",
       "      <td>0.819854</td>\n",
       "      <td>342.438231</td>\n",
       "      <td>101.684238</td>\n",
       "      <td>0.801598</td>\n",
       "      <td>375.327111</td>\n",
       "      <td>208.523040</td>\n",
       "      <td>0.789948</td>\n",
       "      <td>401.102718</td>\n",
       "      <td>...</td>\n",
       "      <td>0.459706</td>\n",
       "      <td>400.000369</td>\n",
       "      <td>211.809658</td>\n",
       "      <td>0.563731</td>\n",
       "      <td>325.880319</td>\n",
       "      <td>193.638297</td>\n",
       "      <td>0.801919</td>\n",
       "      <td>391.551464</td>\n",
       "      <td>295.535599</td>\n",
       "      <td>0.634827</td>\n",
       "    </tr>\n",
       "    <tr>\n",
       "      <th>std</th>\n",
       "      <td>59.484658</td>\n",
       "      <td>55.269955</td>\n",
       "      <td>0.345757</td>\n",
       "      <td>61.201473</td>\n",
       "      <td>58.679316</td>\n",
       "      <td>0.350441</td>\n",
       "      <td>59.976627</td>\n",
       "      <td>70.090319</td>\n",
       "      <td>0.335402</td>\n",
       "      <td>42.124632</td>\n",
       "      <td>...</td>\n",
       "      <td>0.409989</td>\n",
       "      <td>106.976893</td>\n",
       "      <td>68.213118</td>\n",
       "      <td>0.431094</td>\n",
       "      <td>36.197824</td>\n",
       "      <td>42.793461</td>\n",
       "      <td>0.327147</td>\n",
       "      <td>38.246815</td>\n",
       "      <td>62.200636</td>\n",
       "      <td>0.460287</td>\n",
       "    </tr>\n",
       "    <tr>\n",
       "      <th>min</th>\n",
       "      <td>-0.232820</td>\n",
       "      <td>0.058952</td>\n",
       "      <td>0.000652</td>\n",
       "      <td>1.185614</td>\n",
       "      <td>-2.496538</td>\n",
       "      <td>0.001448</td>\n",
       "      <td>0.344874</td>\n",
       "      <td>18.644475</td>\n",
       "      <td>0.002590</td>\n",
       "      <td>64.313986</td>\n",
       "      <td>...</td>\n",
       "      <td>0.001246</td>\n",
       "      <td>70.790897</td>\n",
       "      <td>4.613057</td>\n",
       "      <td>0.002174</td>\n",
       "      <td>1.576407</td>\n",
       "      <td>1.647910</td>\n",
       "      <td>0.003355</td>\n",
       "      <td>1.279912</td>\n",
       "      <td>0.627747</td>\n",
       "      <td>0.001884</td>\n",
       "    </tr>\n",
       "    <tr>\n",
       "      <th>25%</th>\n",
       "      <td>410.203378</td>\n",
       "      <td>75.918766</td>\n",
       "      <td>0.963633</td>\n",
       "      <td>317.790530</td>\n",
       "      <td>64.836136</td>\n",
       "      <td>0.799568</td>\n",
       "      <td>366.916633</td>\n",
       "      <td>149.775522</td>\n",
       "      <td>0.663167</td>\n",
       "      <td>382.997393</td>\n",
       "      <td>...</td>\n",
       "      <td>0.045521</td>\n",
       "      <td>395.883299</td>\n",
       "      <td>152.843292</td>\n",
       "      <td>0.087321</td>\n",
       "      <td>305.209249</td>\n",
       "      <td>152.980904</td>\n",
       "      <td>0.679855</td>\n",
       "      <td>392.289892</td>\n",
       "      <td>267.040393</td>\n",
       "      <td>0.025175</td>\n",
       "    </tr>\n",
       "    <tr>\n",
       "      <th>50%</th>\n",
       "      <td>431.752412</td>\n",
       "      <td>109.551635</td>\n",
       "      <td>0.999844</td>\n",
       "      <td>332.283849</td>\n",
       "      <td>103.500209</td>\n",
       "      <td>0.999885</td>\n",
       "      <td>382.856600</td>\n",
       "      <td>222.712812</td>\n",
       "      <td>0.996328</td>\n",
       "      <td>403.306821</td>\n",
       "      <td>...</td>\n",
       "      <td>0.325276</td>\n",
       "      <td>438.449283</td>\n",
       "      <td>214.538742</td>\n",
       "      <td>0.681825</td>\n",
       "      <td>319.431005</td>\n",
       "      <td>211.355771</td>\n",
       "      <td>0.997711</td>\n",
       "      <td>395.490041</td>\n",
       "      <td>325.472089</td>\n",
       "      <td>0.999050</td>\n",
       "    </tr>\n",
       "    <tr>\n",
       "      <th>75%</th>\n",
       "      <td>443.193016</td>\n",
       "      <td>141.584548</td>\n",
       "      <td>0.999973</td>\n",
       "      <td>346.850670</td>\n",
       "      <td>142.310630</td>\n",
       "      <td>0.999981</td>\n",
       "      <td>389.395545</td>\n",
       "      <td>261.157506</td>\n",
       "      <td>0.999806</td>\n",
       "      <td>426.271711</td>\n",
       "      <td>...</td>\n",
       "      <td>0.952850</td>\n",
       "      <td>455.452176</td>\n",
       "      <td>224.842714</td>\n",
       "      <td>0.999839</td>\n",
       "      <td>335.237931</td>\n",
       "      <td>224.876223</td>\n",
       "      <td>0.999907</td>\n",
       "      <td>397.825792</td>\n",
       "      <td>335.043683</td>\n",
       "      <td>0.999830</td>\n",
       "    </tr>\n",
       "    <tr>\n",
       "      <th>max</th>\n",
       "      <td>651.580333</td>\n",
       "      <td>398.199630</td>\n",
       "      <td>0.999999</td>\n",
       "      <td>609.912476</td>\n",
       "      <td>346.226936</td>\n",
       "      <td>0.999999</td>\n",
       "      <td>623.018394</td>\n",
       "      <td>397.013597</td>\n",
       "      <td>0.999998</td>\n",
       "      <td>652.821492</td>\n",
       "      <td>...</td>\n",
       "      <td>0.999980</td>\n",
       "      <td>654.890787</td>\n",
       "      <td>395.073073</td>\n",
       "      <td>0.999997</td>\n",
       "      <td>646.668256</td>\n",
       "      <td>396.876828</td>\n",
       "      <td>0.999999</td>\n",
       "      <td>641.452611</td>\n",
       "      <td>395.651502</td>\n",
       "      <td>0.999988</td>\n",
       "    </tr>\n",
       "  </tbody>\n",
       "</table>\n",
       "<p>8 rows × 24 columns</p>\n",
       "</div>"
      ],
      "text/plain": [
       "bodyparts       leftEar                                  rightEar  \\\n",
       "coords                x             y    likelihood             x   \n",
       "count      24320.000000  24320.000000  24320.000000  24320.000000   \n",
       "mean         418.129470    104.092916      0.819854    342.438231   \n",
       "std           59.484658     55.269955      0.345757     61.201473   \n",
       "min           -0.232820      0.058952      0.000652      1.185614   \n",
       "25%          410.203378     75.918766      0.963633    317.790530   \n",
       "50%          431.752412    109.551635      0.999844    332.283849   \n",
       "75%          443.193016    141.584548      0.999973    346.850670   \n",
       "max          651.580333    398.199630      0.999999    609.912476   \n",
       "\n",
       "bodyparts                                      Nose                \\\n",
       "coords                y    likelihood             x             y   \n",
       "count      24320.000000  24320.000000  24320.000000  24320.000000   \n",
       "mean         101.684238      0.801598    375.327111    208.523040   \n",
       "std           58.679316      0.350441     59.976627     70.090319   \n",
       "min           -2.496538      0.001448      0.344874     18.644475   \n",
       "25%           64.836136      0.799568    366.916633    149.775522   \n",
       "50%          103.500209      0.999885    382.856600    222.712812   \n",
       "75%          142.310630      0.999981    389.395545    261.157506   \n",
       "max          346.226936      0.999999    623.018394    397.013597   \n",
       "\n",
       "bodyparts                    leftHand      ...          rightHand  \\\n",
       "coords       likelihood             x      ...         likelihood   \n",
       "count      24320.000000  24320.000000      ...       24320.000000   \n",
       "mean           0.789948    401.102718      ...           0.459706   \n",
       "std            0.335402     42.124632      ...           0.409989   \n",
       "min            0.002590     64.313986      ...           0.001246   \n",
       "25%            0.663167    382.997393      ...           0.045521   \n",
       "50%            0.996328    403.306821      ...           0.325276   \n",
       "75%            0.999806    426.271711      ...           0.952850   \n",
       "max            0.999998    652.821492      ...           0.999980   \n",
       "\n",
       "bodyparts      leftFoot                                 rightFoot  \\\n",
       "coords                x             y    likelihood             x   \n",
       "count      24320.000000  24320.000000  24320.000000  24320.000000   \n",
       "mean         400.000369    211.809658      0.563731    325.880319   \n",
       "std          106.976893     68.213118      0.431094     36.197824   \n",
       "min           70.790897      4.613057      0.002174      1.576407   \n",
       "25%          395.883299    152.843292      0.087321    305.209249   \n",
       "50%          438.449283    214.538742      0.681825    319.431005   \n",
       "75%          455.452176    224.842714      0.999839    335.237931   \n",
       "max          654.890787    395.073073      0.999997    646.668256   \n",
       "\n",
       "bodyparts                                    pellet                \\\n",
       "coords                y    likelihood             x             y   \n",
       "count      24320.000000  24320.000000  24320.000000  24320.000000   \n",
       "mean         193.638297      0.801919    391.551464    295.535599   \n",
       "std           42.793461      0.327147     38.246815     62.200636   \n",
       "min            1.647910      0.003355      1.279912      0.627747   \n",
       "25%          152.980904      0.679855    392.289892    267.040393   \n",
       "50%          211.355771      0.997711    395.490041    325.472089   \n",
       "75%          224.876223      0.999907    397.825792    335.043683   \n",
       "max          396.876828      0.999999    641.452611    395.651502   \n",
       "\n",
       "bodyparts                \n",
       "coords       likelihood  \n",
       "count      24320.000000  \n",
       "mean           0.634827  \n",
       "std            0.460287  \n",
       "min            0.001884  \n",
       "25%            0.025175  \n",
       "50%            0.999050  \n",
       "75%            0.999830  \n",
       "max            0.999988  \n",
       "\n",
       "[8 rows x 24 columns]"
      ]
     },
     "execution_count": 546,
     "metadata": {},
     "output_type": "execute_result"
    }
   ],
   "source": [
    "df = pd.read_hdf(r\"C:\\Users\\vjj14\\Desktop\\DeepLabCut\\goprofrontview-vj-2019-06-17\\videos\\gpDeepCut_resnet50_goprofrontviewJun17shuffle1_30001.h5\")\n",
    "#remove extra level \"scorer\"\n",
    "df.columns = df.columns.droplevel()\n",
    "df.describe()"
   ]
  },
  {
   "cell_type": "code",
   "execution_count": 547,
   "metadata": {},
   "outputs": [],
   "source": [
    "def frame_to_time(frame):\n",
    "    total_seconds = (frame/24320)*202\n",
    "    return round(total_seconds, 3)\n",
    "def time_to_frame(time):\n",
    "    return 24320*(time/202)\n",
    "def dist_from_dispenser(x, y):\n",
    "    return ((x-390)**2 + (y-341)**2)**0.5"
   ]
  },
  {
   "cell_type": "code",
   "execution_count": 548,
   "metadata": {},
   "outputs": [
    {
     "data": {
      "text/plain": [
       "<matplotlib.axes._subplots.AxesSubplot at 0x156cc6be438>"
      ]
     },
     "execution_count": 548,
     "metadata": {},
     "output_type": "execute_result"
    },
    {
     "data": {
      "image/png": "[encoded data removed]",
      "text/plain": [
       "<Figure size 432x288 with 1 Axes>"
      ]
     },
     "metadata": {
      "needs_background": "light"
     },
     "output_type": "display_data"
    },
    {
     "data": {
      "image/png": "[encoded data removed]",
      "text/plain": [
       "<Figure size 432x288 with 1 Axes>"
      ]
     },
     "metadata": {
      "needs_background": "light"
     },
     "output_type": "display_data"
    },
    {
     "data": {
      "image/png": "[encoded data removed]",
      "text/plain": [
       "<Figure size 432x288 with 1 Axes>"
      ]
     },
     "metadata": {
      "needs_background": "light"
     },
     "output_type": "display_data"
    }
   ],
   "source": [
    "labels = {key: df[df[key, 'likelihood'] > 0.9][key] for key in list(df.columns.levels[0])}\n",
    "{labels[key].insert(0, \"frame\", labels[key].index, True) for key in labels.keys()}\n",
    "{labels[key].insert(0, \"time\", labels[key]['frame'].map(frame_to_time), True) for key in labels.keys()}\n",
    "leftEar = labels['leftEar']\n",
    "rightEar = labels['rightEar']\n",
    "nose = labels['Nose']\n",
    "leftHand = labels['leftHand']\n",
    "rightHand = labels['rightHand']\n",
    "leftFoot = labels['leftFoot']\n",
    "rightFoot = labels['rightFoot']\n",
    "pellet = labels['pellet']\n",
    "pellet[(pellet['time'] > 39) & (pellet['time'] < 40)].plot(kind='scatter', x='x', y='y')\n",
    "rightHand.plot(kind='scatter', x='x', y='y')\n",
    "nose.plot(kind='scatter', x='x', y='y')"
   ]
  },
  {
   "cell_type": "code",
   "execution_count": 549,
   "metadata": {},
   "outputs": [
    {
     "data": {
      "text/plain": [
       "<matplotlib.axes._subplots.AxesSubplot at 0x156cc13e908>"
      ]
     },
     "execution_count": 549,
     "metadata": {},
     "output_type": "execute_result"
    },
    {
     "data": {
      "image/png": "[encoded data removed]",
      "text/plain": [
       "<Figure size 432x288 with 1 Axes>"
      ]
     },
     "metadata": {
      "needs_background": "light"
     },
     "output_type": "display_data"
    }
   ],
   "source": [
    "#add distance from dispenser column to the hand dataframe\n",
    "rightHand['d_from_dispenser'] = rightHand.apply(lambda row: dist_from_dispenser(x = row['x'], y = row['y']), axis=1)\n",
    "hand_reach2 = rightHand[rightHand['d_from_dispenser'] < 35]\n",
    "hand_reach2['time'].hist(bins=300)"
   ]
  },
  {
   "cell_type": "code",
   "execution_count": 550,
   "metadata": {},
   "outputs": [
    {
     "data": {
      "text/plain": [
       "<matplotlib.axes._subplots.AxesSubplot at 0x156cc13e8d0>"
      ]
     },
     "execution_count": 550,
     "metadata": {},
     "output_type": "execute_result"
    },
    {
     "data": {
      "image/png": "[encoded data removed]",
      "text/plain": [
       "<Figure size 432x288 with 1 Axes>"
      ]
     },
     "metadata": {
      "needs_background": "light"
     },
     "output_type": "display_data"
    }
   ],
   "source": [
    "hand_reach2 = rightHand[(rightHand['d_from_dispenser'] < 30)& (rightHand['time'] < 120) & (rightHand['time'] > 109)]\n",
    "hand_reach2['frame'].hist(bins=50)"
   ]
  },
  {
   "cell_type": "markdown",
   "metadata": {},
   "source": [
    "## Determining when the mouse is reaching\n",
    "### First Method: Basing it off of the distance from dispenser*\n",
    "*where the pellet is SUPPPOSED to be, currently hard coded pixel coordinates."
   ]
  },
  {
   "cell_type": "code",
   "execution_count": 625,
   "metadata": {
    "scrolled": true
   },
   "outputs": [
    {
     "data": {
      "text/plain": [
       "[(18.904, 0.208),\n",
       " (26.778, 0.033),\n",
       " (27.401, 0.183),\n",
       " (28.157, 0.266),\n",
       " (28.722, 0.324),\n",
       " (30.333, 0.291),\n",
       " (30.981, 0.473),\n",
       " (33.406, 0.266),\n",
       " (34.088, 0.266),\n",
       " (34.827, 0.988),\n",
       " (36.098, 0.224),\n",
       " (44.935, 0.241),\n",
       " (45.658, 0.166),\n",
       " (47.701, 0.341),\n",
       " (48.457, 0.374),\n",
       " (51.023, 0.249),\n",
       " (68.499, 0.266),\n",
       " (69.138, 0.199),\n",
       " (75.102, 0.108),\n",
       " (75.592, 0.174),\n",
       " (84.546, 0.216),\n",
       " (85.119, 0.158),\n",
       " (89.604, 0.257),\n",
       " (93.118, 0.141),\n",
       " (100.452, 0.133),\n",
       " (105.618, 0.042),\n",
       " (110.676, 0.208),\n",
       " (111.274, 0.133),\n",
       " (114.962, 0.1),\n",
       " (118.509, 0.158),\n",
       " (137.488, 0.15),\n",
       " (145.985, 0.066),\n",
       " (149.897, 0.174),\n",
       " (175.238, 0.199)]"
      ]
     },
     "execution_count": 625,
     "metadata": {},
     "output_type": "execute_result"
    }
   ],
   "source": [
    "hand_reach2 = rightHand[rightHand['d_from_dispenser'] < 40]\n",
    "def get_reaches():\n",
    "    \"\"\"Returns: List of Tuples, where each tuple is a reach, \n",
    "    1st element of tuple is start time, 2nd element of tuple is the duration\n",
    "    \n",
    "    Given frames where hand is within a set radius, loop through, \n",
    "    bunch approximately consecutive frames (within x frames of each other)\n",
    "    as a single reach. Filter out 'reaches' that are impossibly short.\n",
    "    \"\"\"\n",
    "    reaches = []\n",
    "    last_frame = hand_reach2['frame'].values[0]\n",
    "    consec_frames_ct = 1 #number of consecutive frames\n",
    "    first_frame_of_reach = last_frame\n",
    "    for frame in hand_reach2['frame'].values:\n",
    "        if (frame - last_frame < 10):\n",
    "            consec_frames_ct += 1\n",
    "        else:\n",
    "            reaches.append((first_frame_of_reach, consec_frames_ct))\n",
    "            consec_frames_ct = 1\n",
    "            first_frame_of_reach = frame\n",
    "        last_frame = frame\n",
    "    reaches.append((first_frame_of_reach, consec_frames_ct))\n",
    "    \n",
    "    #filter out false positives: reaches that only lasted 3 or less frames\n",
    "    reaches2 = [x for x in reaches if x[1] >= 3]\n",
    "    reaches2_time = [(frame_to_time(x[0]), frame_to_time(x[1])) for x in reaches2]\n",
    "    return reaches2_time\n",
    "get_reaches()"
   ]
  },
  {
   "cell_type": "code",
   "execution_count": 590,
   "metadata": {
    "collapsed": true
   },
   "outputs": [
    {
     "data": {
      "text/plain": [
       "<matplotlib.axes._subplots.AxesSubplot at 0x156cda855c0>"
      ]
     },
     "execution_count": 590,
     "metadata": {},
     "output_type": "execute_result"
    },
    {
     "data": {
      "image/png": "[encoded data removed]",
      "text/plain": [
       "<Figure size 432x288 with 1 Axes>"
      ]
     },
     "metadata": {
      "needs_background": "light"
     },
     "output_type": "display_data"
    }
   ],
   "source": [
    "#add distance from dispenser column to the hand dataframe\n",
    "pellet['d_from_dispenser'] = pellet.apply(lambda row: dist_from_dispenser(x = row['x'], y = row['y']), axis=1)\n",
    "pellet2 = pellet[pellet['d_from_dispenser'] < 20]\n",
    "pellet2['time'].hist(bins=200)"
   ]
  },
  {
   "cell_type": "code",
   "execution_count": 554,
   "metadata": {
    "collapsed": true
   },
   "outputs": [
    {
     "data": {
      "text/plain": [
       "<matplotlib.axes._subplots.AxesSubplot at 0x156cbbf9e80>"
      ]
     },
     "execution_count": 554,
     "metadata": {},
     "output_type": "execute_result"
    },
    {
     "data": {
      "image/png": "[encoded data removed]",
      "text/plain": [
       "<Figure size 432x288 with 1 Axes>"
      ]
     },
     "metadata": {
      "needs_background": "light"
     },
     "output_type": "display_data"
    }
   ],
   "source": [
    "pellet[pellet['likelihood']>0.99]['time'].hist(bins=200)"
   ]
  },
  {
   "cell_type": "markdown",
   "metadata": {},
   "source": [
    "### Second Method: Using (averaged) likelihood\n",
    "Based off the observation that pellets in position have much higher likelihoods. I think that this is a bad idea and may not generalize, but the way I did it (averaging frames around it) is an alternate and possibly better way to deal with outliers."
   ]
  },
  {
   "cell_type": "code",
   "execution_count": 559,
   "metadata": {
    "scrolled": true
   },
   "outputs": [
    {
     "name": "stderr",
     "output_type": "stream",
     "text": [
      "C:\\Users\\vjj14\\.conda\\envs\\dlc-windowsGPU\\lib\\site-packages\\numpy\\core\\fromnumeric.py:2957: RuntimeWarning: Mean of empty slice.\n",
      "  out=out, **kwargs)\n",
      "C:\\Users\\vjj14\\.conda\\envs\\dlc-windowsGPU\\lib\\site-packages\\numpy\\core\\_methods.py:80: RuntimeWarning: invalid value encountered in double_scalars\n",
      "  ret = ret.dtype.type(ret / rcount)\n",
      "C:\\Users\\vjj14\\.conda\\envs\\dlc-windowsGPU\\lib\\site-packages\\ipykernel_launcher.py:8: RuntimeWarning: invalid value encountered in greater\n",
      "  \n"
     ]
    },
    {
     "data": {
      "text/plain": [
       "[<matplotlib.lines.Line2D at 0x156c6682f28>]"
      ]
     },
     "execution_count": 559,
     "metadata": {},
     "output_type": "execute_result"
    },
    {
     "data": {
      "image/png": "[encoded data removed]",
      "text/plain": [
       "<Figure size 432x288 with 1 Axes>"
      ]
     },
     "metadata": {
      "needs_background": "light"
     },
     "output_type": "display_data"
    }
   ],
   "source": [
    "temp = array.copy()\n",
    "\n",
    "for i in range(50, len(array)):\n",
    "    temp[i] = np.mean(array[i-100:i+100])\n",
    "#     print(np.mean(array[i-50:i+50]))\n",
    "array = temp\n",
    "# np.histogram(array, bins=200, range=(0, 25000))\n",
    "plt.pyplot.plot((array > 0.5))"
   ]
  },
  {
   "cell_type": "code",
   "execution_count": 601,
   "metadata": {},
   "outputs": [
    {
     "name": "stdout",
     "output_type": "stream",
     "text": [
      "1631\n"
     ]
    },
    {
     "data": {
      "text/plain": [
       "<matplotlib.axes._subplots.AxesSubplot at 0x156cebc7cf8>"
      ]
     },
     "execution_count": 601,
     "metadata": {},
     "output_type": "execute_result"
    },
    {
     "data": {
      "image/png": "[encoded data removed]",
      "text/plain": [
       "<Figure size 432x288 with 1 Axes>"
      ]
     },
     "metadata": {
      "needs_background": "light"
     },
     "output_type": "display_data"
    }
   ],
   "source": [
    "# c999 = pellet[pellet['likelihood'] > 0.999]\n",
    "# c999.plot(kind='scatter', x='x', y='y')\n",
    "c99 = pellet[pellet['likelihood'] > 0.99]\n",
    "# c99.plot(kind='scatter', x='x', y='y')\n",
    "# c95 = pellet[pellet['likelihood'] > 0.95]\n",
    "# c95.plot(kind='scatter', x='x', y='y')\n",
    "# c90 = pellet[pellet['likelihood'] > 0.90]\n",
    "# c90.plot(kind='scatter', x='x', y='y')\n",
    "subset = c99.diff().reset_index()\n",
    "# subset[(subset['y'] < 1) & (subset['y'] > -1)].plot(kind='scatter', x='index', y='y')\n",
    "# subset.diff()\n",
    "# subset['index'].hist(bins=500)\n",
    "print(min(subset['index']))\n",
    "max(subset['index'])\n",
    "subset.plot(kind = 'scatter', x='x', y='y')"
   ]
  },
  {
   "cell_type": "code",
   "execution_count": 627,
   "metadata": {},
   "outputs": [
    {
     "name": "stdout",
     "output_type": "stream",
     "text": [
      "[(13.613, 2.467), (17.351, 1.595), (22.924, 5.266), (32.509, 1.62), (36.305, 2.018), (39.719, 5.415), (47.07, 0.806), (50.051, 4.867), (56.023, 2.251), (61.854, 5.332), (68.549, 0.664), (75.293, 0.374), (78.831, 6.479), (87.295, 2.334), (91.805, 1.346), (97.669, 2.824), (108.043, 3.281), (112.022, 2.99), (115.826, 2.724), (119.148, 1.57), (121.823, 15.731), (138.958, 7.068), (146.707, 5.083), (153.078, 2.741), (158.253, 3.621), (163.76, 1.478), (170.388, 0.856), (172.813, 0.606), (174.765, 0.615), (175.986, 15.158), (192.772, 2.126), (197.938, 3.331)]\n"
     ]
    },
    {
     "data": {
      "text/plain": [
       "[(13.547, 2.558),\n",
       " (17.343, 1.454),\n",
       " (22.916, 5.15),\n",
       " (28.448, 0.158),\n",
       " (32.493, 1.611),\n",
       " (39.711, 5.582),\n",
       " (45.699, 0.116),\n",
       " (47.061, 0.864),\n",
       " (50.018, 1.08),\n",
       " (55.907, 2.284),\n",
       " (59.686, 0.183),\n",
       " (61.838, 5.357),\n",
       " (68.432, 0.772),\n",
       " (97.653, 0.116),\n",
       " (107.138, 0.116),\n",
       " (108.027, 1.993),\n",
       " (112.014, 1.62),\n",
       " (115.818, 1.802),\n",
       " (119.132, 1.595),\n",
       " (121.815, 1.885),\n",
       " (126.64, 4.768),\n",
       " (138.95, 1.703),\n",
       " (146.691, 1.454),\n",
       " (148.975, 1.495),\n",
       " (158.211, 0.116),\n",
       " (159.216, 2.002),\n",
       " (175.978, 1.62),\n",
       " (182.763, 5.922),\n",
       " (189.209, 2.193)]"
      ]
     },
     "execution_count": 627,
     "metadata": {},
     "output_type": "execute_result"
    }
   ],
   "source": [
    "array = np.zeros(25000)\n",
    "for frame in c99['frame']:\n",
    "    array[frame] = 1.0\n",
    "temp = array.copy()\n",
    "for i in range(50, len(array)):\n",
    "    temp[i] = np.mean(array[i-50:i+50])\n",
    "#     print(np.mean(array[i-50:i+50]))\n",
    "array = temp\n",
    "# np.histogram(array, bins=200, range=(0, 25000))\n",
    "def experiment():\n",
    "    results = []\n",
    "    temp = array > 0.5\n",
    "    curr_start = 0\n",
    "    curr_len = 0\n",
    "    for i in range(len(temp)):\n",
    "        if temp[i] and curr_len == 0:\n",
    "            curr_start = i\n",
    "            curr_len = 1\n",
    "        elif temp[i]:\n",
    "            curr_len += 1\n",
    "        elif not temp[i] and curr_len != 0:\n",
    "            results.append((curr_start, curr_len))\n",
    "            curr_len = 0\n",
    "    \n",
    "    #filter out false positives: 'reaches' that lasted for less than 0.1 seconds\n",
    "    results2 = [x for x in results if x[1] > 12] #assuming 120 fps\n",
    "    results2_time = [(frame_to_time(x[0]), frame_to_time(x[1])) for x in results2]\n",
    "    return results2_time\n",
    "print(experiment())\n",
    "pellet_times"
   ]
  },
  {
   "cell_type": "markdown",
   "metadata": {},
   "source": [
    "## Compile Hand Reaches into Video"
   ]
  },
  {
   "cell_type": "code",
   "execution_count": null,
   "metadata": {},
   "outputs": [],
   "source": [
    "#Open up new batch file\n",
    "project_name = \"goprofrontview\"\n",
    "bat_file= r\"C:\\Users\\vjj14\\Desktop\\DeepLabCut\\goprofrontview-vj-2019-06-17\\videos\\{}_create_videos.bat\".format(project_name)\n",
    "script_writer= open(bat_file,\"w\")\n",
    "\n",
    "#write series of shell commands to create videos for each attempt, connected by '&&' for the batch file\n",
    "reaches = get_reaches()\n",
    "vids = []\n",
    "for tpl in reaches:\n",
    "    start_time = seconds_formatter(max(0, tpl[0] - 2))\n",
    "    cmd = \"ffmpeg -i gp.mp4 -ss {0} -t {1} -c copy {2}.mp4\".format(start_time, 2.5 + tpl[1], np.round(tpl[0], 3))\n",
    "    vids.append(str(np.round(tpl[0], 3)) + \".mp4\")\n",
    "    script_writer.write(cmd + \" && \")\n",
    "script_writer.close()\n",
    "\n",
    "#open and write a list of videos to concatenate (.txt file) for ffmpeg to use\n",
    "list_file = r\"C:\\Users\\vjj14\\Desktop\\DeepLabCut\\goprofrontview-vj-2019-06-17\\videos\\{}_video_list.txt\".format(project_name)\n",
    "list_writer = open(list_file, \"w+\")\n",
    "for v in vids:\n",
    "    list_writer.write('file ' + \"\\'\" + r\"C:\\Users\\vjj14\\Desktop\\DeepLabCut\\goprofrontview-vj-2019-06-17\\videos\\{}\".format(v) + \"\\'\\n\")\n",
    "list_writer.close()\n",
    "\n",
    "#open batch file again and write command to produce a concatenated video, the final product\n",
    "script_writer = open(bat_file, \"a+\")\n",
    "script_writer.write(\"ffmpeg -f concat -safe 0 -i {0} -c copy output.mp4\".format(list_file))\n",
    "script_writer.close()"
   ]
  },
  {
   "cell_type": "code",
   "execution_count": 565,
   "metadata": {},
   "outputs": [
    {
     "name": "stderr",
     "output_type": "stream",
     "text": [
      "C:\\Users\\vjj14\\.conda\\envs\\dlc-windowsGPU\\lib\\site-packages\\ipykernel_launcher.py:1: RuntimeWarning: invalid value encountered in greater\n",
      "  \"\"\"Entry point for launching an IPython kernel.\n"
     ]
    }
   ],
   "source": [
    "np.argwhere(array > 0.5)\n",
    "pellet2 = pellet[pellet['likelihood'] > 0.99]\n",
    "def get_pellet_times():\n",
    "    pellet2 = pellet[(pellet['d_from_dispenser'] < 12)]\n",
    "    pellets = []\n",
    "    last_frame = pellet2['frame'].values[0]\n",
    "    consec_frames_ct = 1 #number of consecutive frames\n",
    "    first_frame_of_pellet = last_frame\n",
    "    for frame in pellet2['frame'].values:\n",
    "        if (frame - last_frame < 18):\n",
    "            consec_frames_ct += 1\n",
    "        else:\n",
    "            pellets.append((first_frame_of_pellet, consec_frames_ct))\n",
    "            consec_frames_ct = 1\n",
    "            first_frame_of_pellet = frame\n",
    "        last_frame = frame\n",
    "    pellets.append((first_frame_of_pellet, consec_frames_ct))\n",
    "    \n",
    "    #filter out false positives: 'reaches' that lasted for less than 0.1 seconds\n",
    "    pellet2 = [x for x in pellets if x[1] > 12] #assuming 120 fps\n",
    "    pellets2_time = [(frame_to_time(x[0]), frame_to_time(x[1])) for x in pellet2]\n",
    "    return pellets2_time\n",
    "pellet_times = get_pellet_times()"
   ]
  },
  {
   "cell_type": "code",
   "execution_count": 589,
   "metadata": {
    "scrolled": true
   },
   "outputs": [
    {
     "name": "stdout",
     "output_type": "stream",
     "text": [
      "(18.904, 0.208)\n",
      "No Pellet There[(17.343, 1.454)]\n",
      "(26.778, 0.033)\n",
      "(22.916, 5.15)\n",
      "(27.401, 0.183)\n",
      "(22.916, 5.15)\n",
      "(28.157, 0.266)\n",
      "No Pellet There[(22.916, 5.15)]\n",
      "(28.722, 0.324)\n",
      "No Pellet There[(28.448, 0.158)]\n",
      "(30.333, 0.291)\n",
      "No Pellet There[(28.448, 0.158)]\n",
      "(30.981, 0.473)\n",
      "No Pellet There[(28.448, 0.158)]\n",
      "(33.406, 0.266)\n",
      "(32.493, 1.611)\n",
      "(34.088, 0.266)\n",
      "(32.493, 1.611)\n",
      "(34.827, 0.988)\n",
      "No Pellet There[(32.493, 1.611)]\n",
      "(36.098, 0.224)\n",
      "No Pellet There[(32.493, 1.611)]\n",
      "(44.935, 0.241)\n",
      "(39.711, 5.582)\n",
      "(45.658, 0.166)\n",
      "No Pellet There[(39.711, 5.582)]\n",
      "(47.701, 0.341)\n",
      "(47.061, 0.864)\n",
      "(48.457, 0.374)\n",
      "No Pellet There[(47.061, 0.864)]\n",
      "(51.023, 0.249)\n",
      "(50.018, 1.08)\n",
      "(68.499, 0.266)\n",
      "(68.432, 0.772)\n",
      "(69.138, 0.199)\n",
      "(68.432, 0.772)\n",
      "(75.102, 0.108)\n",
      "No Pellet There[(68.432, 0.772)]\n",
      "(75.592, 0.174)\n",
      "No Pellet There[(68.432, 0.772)]\n",
      "(84.546, 0.216)\n",
      "No Pellet There[(68.432, 0.772)]\n",
      "(85.119, 0.158)\n",
      "No Pellet There[(68.432, 0.772)]\n",
      "(89.604, 0.257)\n",
      "No Pellet There[(68.432, 0.772)]\n",
      "(93.118, 0.141)\n",
      "No Pellet There[(68.432, 0.772)]\n",
      "(100.452, 0.133)\n",
      "No Pellet There[(97.653, 0.116)]\n",
      "(105.618, 0.042)\n",
      "No Pellet There[(97.653, 0.116)]\n",
      "(110.676, 0.208)\n",
      "No Pellet There[(108.027, 1.993)]\n",
      "(111.274, 0.133)\n",
      "No Pellet There[(108.027, 1.993)]\n",
      "(114.962, 0.1)\n",
      "No Pellet There[(112.014, 1.62)]\n",
      "(118.509, 0.158)\n",
      "No Pellet There[(115.818, 1.802)]\n",
      "(137.488, 0.15)\n",
      "No Pellet There[(126.64, 4.768)]\n",
      "(145.985, 0.066)\n",
      "No Pellet There[(138.95, 1.703)]\n",
      "(149.897, 0.174)\n",
      "(148.975, 1.495)\n",
      "(175.238, 0.199)\n",
      "No Pellet There[(159.216, 2.002)]\n"
     ]
    }
   ],
   "source": [
    "for r in reaches:\n",
    "    print(r)\n",
    "    print(binary_search(pellet_times, r))"
   ]
  },
  {
   "cell_type": "code",
   "execution_count": 588,
   "metadata": {},
   "outputs": [],
   "source": [
    "def binary_search(p_times, r_time):\n",
    "    if len(p_times) == 1:\n",
    "        if (r_time[0] < p_times[0][0]) or (r_time[0] > p_times[0][0] + p_times[0][1]):\n",
    "            return \"No Pellet There\" + str(p_times)\n",
    "        return p_times[0]\n",
    "    elif r_time[0] > p_times[len(p_times)//2][0]:\n",
    "        return binary_search(p_times[len(p_times)//2:], r_time)\n",
    "    else:\n",
    "        return binary_search(p_times[:len(p_times)//2], r_time)"
   ]
  },
  {
   "cell_type": "code",
   "execution_count": null,
   "metadata": {},
   "outputs": [],
   "source": [
    "print(frame_to_time(13300))\n",
    "time_to_frame(100)"
   ]
  }
 ],
 "metadata": {
  "kernelspec": {
   "display_name": "Python 3",
   "language": "python",
   "name": "python3"
  },
  "language_info": {
   "codemirror_mode": {
    "name": "ipython",
    "version": 3
   },
   "file_extension": ".py",
   "mimetype": "text/x-python",
   "name": "python",
   "nbconvert_exporter": "python",
   "pygments_lexer": "ipython3",
   "version": "3.6.6"
  }
 },
 "nbformat": 4,
 "nbformat_minor": 2
}

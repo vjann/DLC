{
 "cells": [
  {
   "cell_type": "code",
   "execution_count": 2,
   "metadata": {},
   "outputs": [
    {
     "data": {
      "text/plain": [
       "'00:02:55.305'"
      ]
     },
     "execution_count": 2,
     "metadata": {},
     "output_type": "execute_result"
    }
   ],
   "source": [
    "import numpy as np\n",
    "import pandas as pd\n",
    "import matplotlib as plt\n",
    "import datetime\n",
    "#turns seconds into a string format ffmpeg uses\n",
    "def seconds_formatter(sec):\n",
    "    x = \"0\" + str(datetime.timedelta(seconds=sec))[:-3]\n",
    "    return x"
   ]
  },
  {
   "cell_type": "code",
   "execution_count": 3,
   "metadata": {},
   "outputs": [
    {
     "data": {
      "text/html": [
       "<div>\n",
       "<style scoped>\n",
       "    .dataframe tbody tr th:only-of-type {\n",
       "        vertical-align: middle;\n",
       "    }\n",
       "\n",
       "    .dataframe tbody tr th {\n",
       "        vertical-align: top;\n",
       "    }\n",
       "\n",
       "    .dataframe thead tr th {\n",
       "        text-align: left;\n",
       "    }\n",
       "</style>\n",
       "<table border=\"1\" class=\"dataframe\">\n",
       "  <thead>\n",
       "    <tr>\n",
       "      <th>bodyparts</th>\n",
       "      <th colspan=\"3\" halign=\"left\">LeftEar</th>\n",
       "      <th colspan=\"3\" halign=\"left\">RightEar</th>\n",
       "      <th colspan=\"3\" halign=\"left\">Nose</th>\n",
       "      <th>OtherHand</th>\n",
       "      <th>...</th>\n",
       "      <th>Middle</th>\n",
       "      <th colspan=\"3\" halign=\"left\">Ring</th>\n",
       "      <th colspan=\"3\" halign=\"left\">Pinky</th>\n",
       "      <th colspan=\"3\" halign=\"left\">Pellet</th>\n",
       "    </tr>\n",
       "    <tr>\n",
       "      <th>coords</th>\n",
       "      <th>x</th>\n",
       "      <th>y</th>\n",
       "      <th>likelihood</th>\n",
       "      <th>x</th>\n",
       "      <th>y</th>\n",
       "      <th>likelihood</th>\n",
       "      <th>x</th>\n",
       "      <th>y</th>\n",
       "      <th>likelihood</th>\n",
       "      <th>x</th>\n",
       "      <th>...</th>\n",
       "      <th>likelihood</th>\n",
       "      <th>x</th>\n",
       "      <th>y</th>\n",
       "      <th>likelihood</th>\n",
       "      <th>x</th>\n",
       "      <th>y</th>\n",
       "      <th>likelihood</th>\n",
       "      <th>x</th>\n",
       "      <th>y</th>\n",
       "      <th>likelihood</th>\n",
       "    </tr>\n",
       "  </thead>\n",
       "  <tbody>\n",
       "    <tr>\n",
       "      <th>count</th>\n",
       "      <td>7172.000000</td>\n",
       "      <td>7172.000000</td>\n",
       "      <td>7172.000000</td>\n",
       "      <td>7172.000000</td>\n",
       "      <td>7172.000000</td>\n",
       "      <td>7172.000000</td>\n",
       "      <td>7172.000000</td>\n",
       "      <td>7172.000000</td>\n",
       "      <td>7172.000000</td>\n",
       "      <td>7172.000000</td>\n",
       "      <td>...</td>\n",
       "      <td>7172.000000</td>\n",
       "      <td>7172.000000</td>\n",
       "      <td>7172.000000</td>\n",
       "      <td>7172.000000</td>\n",
       "      <td>7172.000000</td>\n",
       "      <td>7172.000000</td>\n",
       "      <td>7172.000000</td>\n",
       "      <td>7172.000000</td>\n",
       "      <td>7172.000000</td>\n",
       "      <td>7172.000000</td>\n",
       "    </tr>\n",
       "    <tr>\n",
       "      <th>mean</th>\n",
       "      <td>1447.610699</td>\n",
       "      <td>324.825819</td>\n",
       "      <td>0.695893</td>\n",
       "      <td>1249.633308</td>\n",
       "      <td>347.611072</td>\n",
       "      <td>0.704018</td>\n",
       "      <td>1435.982365</td>\n",
       "      <td>632.775915</td>\n",
       "      <td>0.554368</td>\n",
       "      <td>1499.345172</td>\n",
       "      <td>...</td>\n",
       "      <td>0.225168</td>\n",
       "      <td>1314.228380</td>\n",
       "      <td>609.751499</td>\n",
       "      <td>0.203282</td>\n",
       "      <td>1294.526957</td>\n",
       "      <td>568.711787</td>\n",
       "      <td>0.226218</td>\n",
       "      <td>1374.035665</td>\n",
       "      <td>644.358714</td>\n",
       "      <td>0.293775</td>\n",
       "    </tr>\n",
       "    <tr>\n",
       "      <th>std</th>\n",
       "      <td>275.999967</td>\n",
       "      <td>220.339389</td>\n",
       "      <td>0.374031</td>\n",
       "      <td>222.098638</td>\n",
       "      <td>220.044128</td>\n",
       "      <td>0.343025</td>\n",
       "      <td>255.233105</td>\n",
       "      <td>213.622666</td>\n",
       "      <td>0.409419</td>\n",
       "      <td>159.479855</td>\n",
       "      <td>...</td>\n",
       "      <td>0.270437</td>\n",
       "      <td>197.576042</td>\n",
       "      <td>217.054450</td>\n",
       "      <td>0.255011</td>\n",
       "      <td>196.819925</td>\n",
       "      <td>217.287375</td>\n",
       "      <td>0.255207</td>\n",
       "      <td>167.832209</td>\n",
       "      <td>314.739297</td>\n",
       "      <td>0.296357</td>\n",
       "    </tr>\n",
       "    <tr>\n",
       "      <th>min</th>\n",
       "      <td>-2.840416</td>\n",
       "      <td>0.655670</td>\n",
       "      <td>0.001389</td>\n",
       "      <td>-0.432687</td>\n",
       "      <td>2.516414</td>\n",
       "      <td>0.001993</td>\n",
       "      <td>1.106292</td>\n",
       "      <td>0.598420</td>\n",
       "      <td>0.002518</td>\n",
       "      <td>794.677431</td>\n",
       "      <td>...</td>\n",
       "      <td>0.000815</td>\n",
       "      <td>1.937029</td>\n",
       "      <td>0.461762</td>\n",
       "      <td>0.000931</td>\n",
       "      <td>1.554063</td>\n",
       "      <td>0.838611</td>\n",
       "      <td>0.001811</td>\n",
       "      <td>1.319653</td>\n",
       "      <td>0.348341</td>\n",
       "      <td>0.001191</td>\n",
       "    </tr>\n",
       "    <tr>\n",
       "      <th>25%</th>\n",
       "      <td>1411.663523</td>\n",
       "      <td>211.710243</td>\n",
       "      <td>0.328204</td>\n",
       "      <td>1173.337527</td>\n",
       "      <td>213.355287</td>\n",
       "      <td>0.452193</td>\n",
       "      <td>1342.532770</td>\n",
       "      <td>542.479073</td>\n",
       "      <td>0.073454</td>\n",
       "      <td>1438.794670</td>\n",
       "      <td>...</td>\n",
       "      <td>0.031068</td>\n",
       "      <td>1204.095433</td>\n",
       "      <td>492.243961</td>\n",
       "      <td>0.030280</td>\n",
       "      <td>1188.712610</td>\n",
       "      <td>387.718984</td>\n",
       "      <td>0.036124</td>\n",
       "      <td>1354.630916</td>\n",
       "      <td>301.557061</td>\n",
       "      <td>0.026675</td>\n",
       "    </tr>\n",
       "    <tr>\n",
       "      <th>50%</th>\n",
       "      <td>1501.286919</td>\n",
       "      <td>265.948117</td>\n",
       "      <td>0.921644</td>\n",
       "      <td>1225.999567</td>\n",
       "      <td>300.430737</td>\n",
       "      <td>0.889158</td>\n",
       "      <td>1364.174641</td>\n",
       "      <td>670.976285</td>\n",
       "      <td>0.684272</td>\n",
       "      <td>1500.252394</td>\n",
       "      <td>...</td>\n",
       "      <td>0.079597</td>\n",
       "      <td>1339.465654</td>\n",
       "      <td>667.336055</td>\n",
       "      <td>0.074709</td>\n",
       "      <td>1301.841749</td>\n",
       "      <td>603.861638</td>\n",
       "      <td>0.094873</td>\n",
       "      <td>1371.236729</td>\n",
       "      <td>895.250200</td>\n",
       "      <td>0.100831</td>\n",
       "    </tr>\n",
       "    <tr>\n",
       "      <th>75%</th>\n",
       "      <td>1563.750430</td>\n",
       "      <td>345.325982</td>\n",
       "      <td>0.973329</td>\n",
       "      <td>1339.909323</td>\n",
       "      <td>380.151613</td>\n",
       "      <td>0.963042</td>\n",
       "      <td>1497.383919</td>\n",
       "      <td>793.396533</td>\n",
       "      <td>0.971583</td>\n",
       "      <td>1556.644067</td>\n",
       "      <td>...</td>\n",
       "      <td>0.360920</td>\n",
       "      <td>1369.136425</td>\n",
       "      <td>762.293292</td>\n",
       "      <td>0.284400</td>\n",
       "      <td>1356.624405</td>\n",
       "      <td>703.508074</td>\n",
       "      <td>0.360657</td>\n",
       "      <td>1431.637924</td>\n",
       "      <td>911.136758</td>\n",
       "      <td>0.588597</td>\n",
       "    </tr>\n",
       "    <tr>\n",
       "      <th>max</th>\n",
       "      <td>2704.912989</td>\n",
       "      <td>988.133272</td>\n",
       "      <td>0.997210</td>\n",
       "      <td>2356.795898</td>\n",
       "      <td>969.878196</td>\n",
       "      <td>0.999006</td>\n",
       "      <td>2698.840271</td>\n",
       "      <td>1404.923229</td>\n",
       "      <td>0.999141</td>\n",
       "      <td>2696.982943</td>\n",
       "      <td>...</td>\n",
       "      <td>0.986650</td>\n",
       "      <td>2601.789390</td>\n",
       "      <td>1023.831366</td>\n",
       "      <td>0.992256</td>\n",
       "      <td>2699.372733</td>\n",
       "      <td>1019.383763</td>\n",
       "      <td>0.978696</td>\n",
       "      <td>2688.311764</td>\n",
       "      <td>1022.317992</td>\n",
       "      <td>0.911185</td>\n",
       "    </tr>\n",
       "  </tbody>\n",
       "</table>\n",
       "<p>8 rows × 30 columns</p>\n",
       "</div>"
      ],
      "text/plain": [
       "bodyparts      LeftEar                               RightEar               \\\n",
       "coords               x            y   likelihood            x            y   \n",
       "count      7172.000000  7172.000000  7172.000000  7172.000000  7172.000000   \n",
       "mean       1447.610699   324.825819     0.695893  1249.633308   347.611072   \n",
       "std         275.999967   220.339389     0.374031   222.098638   220.044128   \n",
       "min          -2.840416     0.655670     0.001389    -0.432687     2.516414   \n",
       "25%        1411.663523   211.710243     0.328204  1173.337527   213.355287   \n",
       "50%        1501.286919   265.948117     0.921644  1225.999567   300.430737   \n",
       "75%        1563.750430   345.325982     0.973329  1339.909323   380.151613   \n",
       "max        2704.912989   988.133272     0.997210  2356.795898   969.878196   \n",
       "\n",
       "bodyparts                      Nose                              OtherHand  \\\n",
       "coords      likelihood            x            y   likelihood            x   \n",
       "count      7172.000000  7172.000000  7172.000000  7172.000000  7172.000000   \n",
       "mean          0.704018  1435.982365   632.775915     0.554368  1499.345172   \n",
       "std           0.343025   255.233105   213.622666     0.409419   159.479855   \n",
       "min           0.001993     1.106292     0.598420     0.002518   794.677431   \n",
       "25%           0.452193  1342.532770   542.479073     0.073454  1438.794670   \n",
       "50%           0.889158  1364.174641   670.976285     0.684272  1500.252394   \n",
       "75%           0.963042  1497.383919   793.396533     0.971583  1556.644067   \n",
       "max           0.999006  2698.840271  1404.923229     0.999141  2696.982943   \n",
       "\n",
       "bodyparts     ...            Middle         Ring                            \\\n",
       "coords        ...        likelihood            x            y   likelihood   \n",
       "count         ...       7172.000000  7172.000000  7172.000000  7172.000000   \n",
       "mean          ...          0.225168  1314.228380   609.751499     0.203282   \n",
       "std           ...          0.270437   197.576042   217.054450     0.255011   \n",
       "min           ...          0.000815     1.937029     0.461762     0.000931   \n",
       "25%           ...          0.031068  1204.095433   492.243961     0.030280   \n",
       "50%           ...          0.079597  1339.465654   667.336055     0.074709   \n",
       "75%           ...          0.360920  1369.136425   762.293292     0.284400   \n",
       "max           ...          0.986650  2601.789390  1023.831366     0.992256   \n",
       "\n",
       "bodyparts        Pinky                                 Pellet               \\\n",
       "coords               x            y   likelihood            x            y   \n",
       "count      7172.000000  7172.000000  7172.000000  7172.000000  7172.000000   \n",
       "mean       1294.526957   568.711787     0.226218  1374.035665   644.358714   \n",
       "std         196.819925   217.287375     0.255207   167.832209   314.739297   \n",
       "min           1.554063     0.838611     0.001811     1.319653     0.348341   \n",
       "25%        1188.712610   387.718984     0.036124  1354.630916   301.557061   \n",
       "50%        1301.841749   603.861638     0.094873  1371.236729   895.250200   \n",
       "75%        1356.624405   703.508074     0.360657  1431.637924   911.136758   \n",
       "max        2699.372733  1019.383763     0.978696  2688.311764  1022.317992   \n",
       "\n",
       "bodyparts               \n",
       "coords      likelihood  \n",
       "count      7172.000000  \n",
       "mean          0.293775  \n",
       "std           0.296357  \n",
       "min           0.001191  \n",
       "25%           0.026675  \n",
       "50%           0.100831  \n",
       "75%           0.588597  \n",
       "max           0.911185  \n",
       "\n",
       "[8 rows x 30 columns]"
      ]
     },
     "execution_count": 3,
     "metadata": {},
     "output_type": "execute_result"
    }
   ],
   "source": [
    "df = pd.read_hdf(r\"C:\\Users\\vjj14\\Desktop\\DeepLabCut\\goprolensfront-vj-2019-06-25\\videos\\Not_Injured_Straight_2.7k_120fps_Trim_284DeepCut_resnet50_goprolensfrontJun25shuffle1_60000.h5\")\n",
    "#remove extra level \"scorer\"\n",
    "df.columns = df.columns.droplevel()\n",
    "df.describe()"
   ]
  },
  {
   "cell_type": "code",
   "execution_count": 4,
   "metadata": {},
   "outputs": [],
   "source": [
    "def frame_to_time(frame):\n",
    "    total_seconds = (frame/24320)*202\n",
    "    return round(total_seconds, 3)\n",
    "def time_to_frame(time):\n",
    "    return 24320*(time/202)\n",
    "def dist_from_dispenser(x, y):\n",
    "    return ((x-396)**2 + (y-325)**2)**0.5\n",
    "def outside_box(x, y):\n",
    "    return y > 300"
   ]
  },
  {
   "cell_type": "code",
   "execution_count": 10,
   "metadata": {},
   "outputs": [
    {
     "data": {
      "text/plain": [
       "<matplotlib.axes._subplots.AxesSubplot at 0x151691b1358>"
      ]
     },
     "execution_count": 10,
     "metadata": {},
     "output_type": "execute_result"
    },
    {
     "data": {
      "image/png": "[encoded data removed]",
      "text/plain": [
       "<Figure size 432x288 with 1 Axes>"
      ]
     },
     "metadata": {
      "needs_background": "light"
     },
     "output_type": "display_data"
    },
    {
     "data": {
      "image/png": "[encoded data removed]",
      "text/plain": [
       "<Figure size 432x288 with 1 Axes>"
      ]
     },
     "metadata": {
      "needs_background": "light"
     },
     "output_type": "display_data"
    },
    {
     "data": {
      "image/png": "[encoded data removed]",
      "text/plain": [
       "<Figure size 432x288 with 1 Axes>"
      ]
     },
     "metadata": {
      "needs_background": "light"
     },
     "output_type": "display_data"
    }
   ],
   "source": [
    "labels = {key: df[df[key, 'likelihood'] > 0.9][key] for key in list(df.columns.levels[0])}\n",
    "{labels[key].insert(0, \"frame\", labels[key].index, True) for key in labels.keys()}\n",
    "{labels[key].insert(0, \"time\", labels[key]['frame'].map(frame_to_time), True) for key in labels.keys()}\n",
    "leftEar = labels['LeftEar']\n",
    "rightEar = labels['RightEar']\n",
    "nose = labels['Nose']\n",
    "leftHand = labels['OtherHand']\n",
    "rightHand = labels['DomHand']\n",
    "index = labels['Index']\n",
    "middle = labels['Middle']\n",
    "ring = labels['Ring']\n",
    "pinky = labels['Pinky']\n",
    "pellet = labels['Pellet']\n",
    "pellet.plot(kind='scatter', x='x', y='y')\n",
    "pellet.plot(kind='scatter', x='x', y='y')\n",
    "nose.plot(kind='scatter', x='x', y='y')"
   ]
  },
  {
   "cell_type": "code",
   "execution_count": 6,
   "metadata": {},
   "outputs": [
    {
     "data": {
      "text/plain": [
       "<matplotlib.axes._subplots.AxesSubplot at 0x1cba8194b70>"
      ]
     },
     "execution_count": 6,
     "metadata": {},
     "output_type": "execute_result"
    }
   ],
   "source": [
    "#add distance from dispenser column to the hand dataframe\n",
    "rightHand['d_from_dispenser'] = rightHand.apply(lambda row: dist_from_dispenser(x = row['x'], y = row['y']), axis=1)\n",
    "rightHand['outside_of_box'] = rightHand.apply(lambda row: outside_box(x = row['x'], y = row['y']), axis=1)\n",
    "hand_reach = rightHand[rightHand['d_from_dispenser'] < 40]\n",
    "# hand_reach = rightHand[rightHand['outside_of_box']]\n",
    "hand_reach['time'].hist(bins=300)"
   ]
  },
  {
   "cell_type": "code",
   "execution_count": 7,
   "metadata": {},
   "outputs": [
    {
     "data": {
      "text/plain": [
       "<matplotlib.axes._subplots.AxesSubplot at 0x1cba6ce52b0>"
      ]
     },
     "execution_count": 7,
     "metadata": {},
     "output_type": "execute_result"
    },
    {
     "data": {
      "image/png": "[encoded data removed]",
      "text/plain": [
       "<Figure size 432x288 with 1 Axes>"
      ]
     },
     "metadata": {
      "needs_background": "light"
     },
     "output_type": "display_data"
    }
   ],
   "source": [
    "rightHand[rightHand['y'] > 315]['time'].hist(bins=300)"
   ]
  },
  {
   "cell_type": "code",
   "execution_count": 8,
   "metadata": {},
   "outputs": [
    {
     "data": {
      "text/plain": [
       "<matplotlib.axes._subplots.AxesSubplot at 0x1cbaaa3bfd0>"
      ]
     },
     "execution_count": 8,
     "metadata": {},
     "output_type": "execute_result"
    },
    {
     "data": {
      "image/png": "[encoded data removed]",
      "text/plain": [
       "<Figure size 432x288 with 1 Axes>"
      ]
     },
     "metadata": {
      "needs_background": "light"
     },
     "output_type": "display_data"
    },
    {
     "data": {
      "image/png": "[encoded data removed]",
      "text/plain": [
       "<Figure size 432x288 with 1 Axes>"
      ]
     },
     "metadata": {
      "needs_background": "light"
     },
     "output_type": "display_data"
    }
   ],
   "source": [
    "hand_reach = rightHand[(rightHand['d_from_dispenser'] < 40)& (rightHand['time'] < 155) & (rightHand['time'] > 109)]\n",
    "hand_reach['time'].hist(bins=50)\n",
    "pellet[(pellet['time'] < 155) & (pellet['time'] > 109)].plot(kind= 'scatter', x='x', y='y')"
   ]
  },
  {
   "cell_type": "code",
   "execution_count": 9,
   "metadata": {},
   "outputs": [
    {
     "data": {
      "text/plain": [
       "0"
      ]
     },
     "execution_count": 9,
     "metadata": {},
     "output_type": "execute_result"
    }
   ],
   "source": [
    "sum(hand_reach['y'] > 330)"
   ]
  },
  {
   "cell_type": "markdown",
   "metadata": {},
   "source": [
    "## Determining when the mouse is reaching\n",
    "### First Method: Basing it off of the distance from dispenser*\n",
    "*where the pellet is SUPPPOSED to be, currently hard coded pixel coordinates."
   ]
  },
  {
   "cell_type": "code",
   "execution_count": 10,
   "metadata": {
    "scrolled": true
   },
   "outputs": [
    {
     "name": "stdout",
     "output_type": "stream",
     "text": [
      "0\n",
      "1\n",
      "1\n",
      "1\n",
      "1\n",
      "1\n",
      "1\n",
      "1\n",
      "1\n",
      "1\n",
      "1\n",
      "1\n",
      "1\n",
      "1\n",
      "4\n",
      "1\n",
      "1\n",
      "1\n",
      "1\n",
      "1\n",
      "1\n",
      "1\n",
      "1\n",
      "1\n",
      "1\n",
      "1\n",
      "1\n",
      "1\n",
      "1\n",
      "1\n",
      "2\n",
      "1\n",
      "1\n",
      "1\n",
      "2\n",
      "2\n",
      "1\n",
      "1\n",
      "1\n",
      "1\n",
      "1\n",
      "1\n",
      "1\n",
      "1\n",
      "1\n",
      "1\n",
      "1\n",
      "1\n",
      "1\n",
      "1\n",
      "1\n",
      "1\n",
      "1\n",
      "1\n",
      "1\n",
      "4\n",
      "1\n",
      "2\n",
      "1\n",
      "2\n",
      "1\n",
      "1\n",
      "1\n",
      "1\n",
      "1\n",
      "1\n",
      "1\n",
      "1\n",
      "1\n",
      "1\n",
      "1\n",
      "1\n",
      "1\n",
      "1\n",
      "1\n",
      "1\n",
      "1\n",
      "1\n",
      "1\n",
      "1\n",
      "1\n",
      "1\n",
      "1\n",
      "1\n",
      "1\n",
      "1\n",
      "1\n",
      "1\n",
      "1\n",
      "1\n",
      "1\n",
      "1\n",
      "1\n",
      "1\n",
      "1\n",
      "1\n",
      "1\n",
      "1\n",
      "1\n",
      "1\n",
      "1\n",
      "1\n",
      "5\n",
      "1\n",
      "1\n",
      "1\n",
      "1\n",
      "1\n",
      "1\n",
      "1\n",
      "1\n",
      "1\n",
      "2\n",
      "1\n",
      "1\n",
      "1\n",
      "1\n",
      "1\n",
      "1\n",
      "8\n",
      "4\n",
      "1\n",
      "1\n",
      "1\n",
      "1\n",
      "1\n",
      "1\n",
      "1\n",
      "1\n",
      "1\n",
      "1\n",
      "1\n",
      "1\n",
      "1\n",
      "1\n",
      "1\n",
      "1\n",
      "1\n",
      "1\n",
      "1\n",
      "1\n",
      "1\n",
      "1\n",
      "1\n",
      "1\n",
      "1\n",
      "1\n",
      "1\n",
      "1\n",
      "1\n",
      "1\n",
      "1\n",
      "1\n",
      "1\n",
      "1\n",
      "1\n",
      "1\n",
      "1\n",
      "1\n",
      "1\n",
      "1\n",
      "2\n",
      "1\n",
      "2\n",
      "1\n",
      "1\n",
      "1\n",
      "1\n",
      "1\n",
      "1\n",
      "1\n",
      "4\n",
      "1\n",
      "1\n",
      "1\n",
      "1\n",
      "1\n",
      "1\n",
      "1\n",
      "1\n",
      "1\n",
      "1\n",
      "1\n",
      "1\n",
      "1\n",
      "1\n",
      "1\n",
      "1\n",
      "9\n",
      "1\n",
      "1\n",
      "1\n",
      "1\n",
      "1\n",
      "1\n",
      "1\n",
      "1\n",
      "1\n",
      "1\n",
      "1\n",
      "1\n",
      "1\n",
      "1\n",
      "1\n",
      "1\n",
      "1\n",
      "1\n",
      "1\n",
      "1\n",
      "1\n",
      "1\n",
      "2\n",
      "1\n",
      "2\n",
      "1\n",
      "1\n",
      "1\n",
      "5\n",
      "1\n",
      "1\n",
      "1\n",
      "1\n",
      "1\n",
      "1\n",
      "1\n",
      "1\n",
      "1\n",
      "1\n",
      "1\n",
      "1\n",
      "1\n",
      "1\n",
      "1\n",
      "1\n",
      "1\n",
      "1\n",
      "1\n",
      "1\n",
      "1\n",
      "1\n",
      "1\n",
      "1\n",
      "1\n",
      "1\n",
      "1\n",
      "1\n",
      "1\n",
      "1\n",
      "1\n",
      "1\n",
      "1\n",
      "1\n",
      "1\n",
      "1\n",
      "1\n",
      "1\n",
      "1\n",
      "1\n",
      "1\n",
      "1\n",
      "1\n",
      "1\n",
      "1\n",
      "1\n",
      "1\n",
      "1\n",
      "1\n",
      "1\n",
      "1\n",
      "1\n",
      "1\n",
      "1\n",
      "1\n",
      "1\n",
      "1\n",
      "1\n",
      "1\n",
      "1\n",
      "1\n",
      "1\n",
      "1\n",
      "1\n",
      "1\n",
      "1\n",
      "1\n",
      "1\n",
      "1\n",
      "1\n",
      "1\n",
      "1\n",
      "1\n",
      "1\n",
      "1\n",
      "1\n",
      "1\n",
      "1\n",
      "1\n",
      "1\n",
      "1\n",
      "1\n",
      "1\n",
      "1\n",
      "1\n",
      "1\n",
      "1\n",
      "1\n",
      "1\n",
      "1\n",
      "1\n",
      "1\n",
      "1\n",
      "1\n",
      "1\n",
      "1\n",
      "1\n",
      "1\n",
      "1\n",
      "1\n",
      "1\n",
      "5\n",
      "2\n",
      "2\n",
      "1\n",
      "1\n",
      "1\n",
      "1\n",
      "1\n",
      "1\n",
      "1\n",
      "1\n",
      "1\n",
      "1\n",
      "1\n",
      "1\n",
      "1\n",
      "1\n",
      "1\n",
      "1\n",
      "1\n",
      "1\n",
      "1\n",
      "1\n",
      "4\n",
      "1\n",
      "1\n",
      "1\n",
      "1\n",
      "1\n",
      "1\n",
      "6\n",
      "1\n",
      "1\n",
      "1\n",
      "1\n",
      "1\n",
      "1\n",
      "1\n",
      "1\n",
      "1\n",
      "1\n",
      "1\n",
      "1\n",
      "1\n",
      "1\n",
      "2\n",
      "1\n",
      "1\n",
      "1\n",
      "1\n",
      "1\n",
      "4\n",
      "1\n",
      "1\n",
      "1\n",
      "1\n",
      "1\n",
      "1\n",
      "1\n",
      "1\n",
      "1\n",
      "1\n",
      "1\n",
      "1\n",
      "1\n",
      "1\n",
      "1\n",
      "1\n",
      "1\n",
      "1\n",
      "1\n",
      "1\n",
      "1\n",
      "1\n",
      "1\n",
      "1\n",
      "1\n",
      "2\n",
      "1\n",
      "1\n",
      "1\n",
      "4\n",
      "1\n",
      "1\n",
      "1\n",
      "1\n",
      "1\n",
      "1\n",
      "1\n"
     ]
    },
    {
     "data": {
      "text/plain": [
       "34"
      ]
     },
     "execution_count": 10,
     "metadata": {},
     "output_type": "execute_result"
    }
   ],
   "source": [
    "hand_reach = rightHand[rightHand['d_from_dispenser'] < 15]\n",
    "def get_reaches():\n",
    "    \"\"\"Returns: List of Tuples, where each tuple is a reach, \n",
    "    1st element of tuple is start time, 2nd element of tuple is the duration\n",
    "    \n",
    "    Given frames where hand is within a set radius, loop through, \n",
    "    bunch approximately consecutive frames (within x frames of each other)\n",
    "    as a single reach. Filter out 'reaches' that are impossibly short.\n",
    "    \"\"\"\n",
    "    reaches = []\n",
    "    last_frame = hand_reach['frame'].values[0]\n",
    "    consec_frames_ct = 1 #number of consecutive frames\n",
    "    first_frame_of_reach = last_frame\n",
    "    for frame in hand_reach['frame'].values:\n",
    "        if (frame - last_frame < 10):\n",
    "            print(frame-last_frame)\n",
    "            consec_frames_ct += 1\n",
    "        else:\n",
    "            reaches.append((first_frame_of_reach, consec_frames_ct))\n",
    "            consec_frames_ct = 1\n",
    "            first_frame_of_reach = frame\n",
    "        last_frame = frame\n",
    "    reaches.append((first_frame_of_reach, consec_frames_ct))\n",
    "    \n",
    "    #filter out false positives: reaches that only lasted 2 or less frames\n",
    "    reaches_filtered = [x for x in reaches if x[1] >= 2]\n",
    "    reaches_with_time = [(frame_to_time(x[0]), frame_to_time(x[1])) for x in reaches_filtered]\n",
    "    return reaches_with_time\n",
    "len(get_reaches())"
   ]
  },
  {
   "cell_type": "markdown",
   "metadata": {},
   "source": [
    "## Second Method: When the hand crosses the line, or outside of the acrylic\n",
    "Hard coded line"
   ]
  },
  {
   "cell_type": "code",
   "execution_count": 11,
   "metadata": {},
   "outputs": [
    {
     "data": {
      "text/plain": [
       "37"
      ]
     },
     "execution_count": 11,
     "metadata": {},
     "output_type": "execute_result"
    }
   ],
   "source": [
    "hand_reach = rightHand[rightHand['outside_of_box']]\n",
    "def get_reaches():\n",
    "    \"\"\"Returns: List of Tuples, where each tuple is a reach, \n",
    "    1st element of tuple is start time, 2nd element of tuple is the duration\n",
    "    \n",
    "    Given frames where hand is within a set radius, loop through, \n",
    "    bunch approximately consecutive frames (within x frames of each other)\n",
    "    as a single reach. Filter out 'reaches' that are impossibly short.\n",
    "    \"\"\"\n",
    "    reaches = []\n",
    "    last_frame = hand_reach['frame'].values[0]\n",
    "    consec_frames_ct = 1 #number of consecutive frames\n",
    "    first_frame_of_reach = last_frame\n",
    "    for frame in hand_reach['frame'].values:\n",
    "        if (frame - last_frame < 10):\n",
    "            consec_frames_ct += 1\n",
    "        else:\n",
    "            reaches.append((first_frame_of_reach, consec_frames_ct))\n",
    "            consec_frames_ct = 1\n",
    "            first_frame_of_reach = frame\n",
    "        last_frame = frame\n",
    "    reaches.append((first_frame_of_reach, consec_frames_ct))\n",
    "    \n",
    "    #filter out false positives: reaches that only lasted 2 or less frames\n",
    "    reaches_filtered = [x for x in reaches if x[1] >= 2]\n",
    "    reaches_with_time = [(frame_to_time(x[0]), frame_to_time(x[1])) for x in reaches_filtered]\n",
    "    return reaches_with_time\n",
    "len(get_reaches())"
   ]
  },
  {
   "cell_type": "markdown",
   "metadata": {},
   "source": [
    "## Create Compilation of Hand Reaches\n",
    "Creates a windows batch file"
   ]
  },
  {
   "cell_type": "code",
   "execution_count": 12,
   "metadata": {},
   "outputs": [],
   "source": [
    "#Open up new batch file\n",
    "project_name = \"goprofrontview\"\n",
    "bat_file= r\"C:\\Users\\vjj14\\Desktop\\DeepLabCut\\goprofrontview-vj-2019-06-17\\videos\\{}_create_videos.bat\".format(project_name)\n",
    "script_writer= open(bat_file,\"w\")\n",
    "\n",
    "#write series of shell commands to create videos for each attempt, connected by '&&' for the batch file\n",
    "reaches = get_reaches()\n",
    "vids = []\n",
    "for tpl in reaches:\n",
    "    start_time = seconds_formatter(max(0, tpl[0] - 2.0))\n",
    "    cmd = \"ffmpeg -i gp.mp4 -ss {0} -t {1} -c copy {2}.mp4\".format(start_time, 2.5 + tpl[1], np.round(tpl[0], 3))\n",
    "    vids.append(str(np.round(tpl[0], 3)) + \".mp4\")\n",
    "    script_writer.write(cmd + \" && \")\n",
    "script_writer.close()\n",
    "\n",
    "#open and write a list of videos to concatenate (.txt file) for ffmpeg to use\n",
    "list_file = r\"C:\\Users\\vjj14\\Desktop\\DeepLabCut\\goprofrontview-vj-2019-06-17\\videos\\{}_video_list.txt\".format(project_name)\n",
    "list_writer = open(list_file, \"w+\")\n",
    "for v in vids:\n",
    "    list_writer.write('file ' + \"\\'\" + r\"C:\\Users\\vjj14\\Desktop\\DeepLabCut\\goprofrontview-vj-2019-06-17\\videos\\{}\".format(v) + \"\\'\\n\")\n",
    "list_writer.close()\n",
    "\n",
    "#open batch file again and write command to produce a concatenated video, the final product\n",
    "script_writer = open(bat_file, \"a+\")\n",
    "script_writer.write(\"ffmpeg -f concat -safe 0 -i {0} -c copy output.mp4\".format(list_file))\n",
    "script_writer.close()"
   ]
  },
  {
   "cell_type": "markdown",
   "metadata": {},
   "source": [
    "## Determining when the pellet is there\n",
    "### First Method: Based off of distance from dispenser*\n",
    "*Where the pellet is SUPPOSED to be."
   ]
  },
  {
   "cell_type": "code",
   "execution_count": 13,
   "metadata": {},
   "outputs": [
    {
     "data": {
      "text/plain": [
       "<matplotlib.axes._subplots.AxesSubplot at 0x1cbaa64d048>"
      ]
     },
     "execution_count": 13,
     "metadata": {},
     "output_type": "execute_result"
    },
    {
     "data": {
      "image/png": "[encoded data removed]",
      "text/plain": [
       "<Figure size 432x288 with 1 Axes>"
      ]
     },
     "metadata": {
      "needs_background": "light"
     },
     "output_type": "display_data"
    }
   ],
   "source": [
    "#add distance from dispenser column to the hand dataframe\n",
    "pellet['d_from_dispenser'] = pellet.apply(lambda row: dist_from_dispenser(x = row['x'], y = row['y']), axis=1)\n",
    "pellet2 = pellet[pellet['d_from_dispenser'] < 20]\n",
    "pellet2['time'].hist(bins=200)"
   ]
  },
  {
   "cell_type": "code",
   "execution_count": 14,
   "metadata": {},
   "outputs": [
    {
     "data": {
      "text/plain": [
       "<matplotlib.axes._subplots.AxesSubplot at 0x1cbaab10d68>"
      ]
     },
     "execution_count": 14,
     "metadata": {},
     "output_type": "execute_result"
    },
    {
     "data": {
      "image/png": "[encoded data removed]",
      "text/plain": [
       "<Figure size 432x288 with 1 Axes>"
      ]
     },
     "metadata": {
      "needs_background": "light"
     },
     "output_type": "display_data"
    }
   ],
   "source": [
    "pellet[pellet['likelihood']>0.99]['time'].hist(bins=200)"
   ]
  },
  {
   "cell_type": "markdown",
   "metadata": {},
   "source": [
    "### Second Method: Using (averaged) likelihood\n",
    "Based off the observation that pellets in position have much higher likelihoods. I think that this is a bad idea and may not generalize, but the way I did it (averaging frames around it) is an alternate and possibly better way to deal with outliers."
   ]
  },
  {
   "cell_type": "code",
   "execution_count": 15,
   "metadata": {},
   "outputs": [
    {
     "name": "stdout",
     "output_type": "stream",
     "text": [
      "1631\n"
     ]
    },
    {
     "data": {
      "text/plain": [
       "<matplotlib.axes._subplots.AxesSubplot at 0x1cbaae14cf8>"
      ]
     },
     "execution_count": 15,
     "metadata": {},
     "output_type": "execute_result"
    },
    {
     "data": {
      "image/png": "[encoded data removed]",
      "text/plain": [
       "<Figure size 432x288 with 1 Axes>"
      ]
     },
     "metadata": {
      "needs_background": "light"
     },
     "output_type": "display_data"
    }
   ],
   "source": [
    "c99 = pellet[pellet['likelihood'] > 0.99]\n",
    "subset = c99.diff().reset_index()\n",
    "# subset[(subset['y'] < 1) & (subset['y'] > -1)].plot(kind='scatter', x='index', y='y')\n",
    "# subset.diff()\n",
    "# subset['index'].hist(bins=500)\n",
    "print(min(subset['index']))\n",
    "max(subset['index'])\n",
    "subset.plot(kind = 'scatter', x='x', y='y')"
   ]
  },
  {
   "cell_type": "code",
   "execution_count": 22,
   "metadata": {},
   "outputs": [
    {
     "name": "stdout",
     "output_type": "stream",
     "text": [
      "33\n"
     ]
    }
   ],
   "source": [
    "array = np.zeros(25000)\n",
    "for frame in c99['frame']:\n",
    "    array[frame] = 1.0\n",
    "temp = array.copy()\n",
    "for i in range(25, len(array)):\n",
    "    temp[i] = np.mean(array[i-25:i+25])\n",
    "#     print(np.mean(array[i-50:i+50]))\n",
    "array = temp\n",
    "# np.histogram(array, bins=200, range=(0, 25000))\n",
    "def experiment():\n",
    "    results = []\n",
    "    temp = array > 0.5\n",
    "    curr_start = 0\n",
    "    curr_len = 0\n",
    "    for i in range(len(temp)):\n",
    "        if temp[i] and curr_len == 0:\n",
    "            curr_start = i\n",
    "            curr_len = 1\n",
    "        elif temp[i]:\n",
    "            curr_len += 1\n",
    "        elif not temp[i] and curr_len != 0:\n",
    "            results.append((curr_start, curr_len))\n",
    "            curr_len = 0\n",
    "    \n",
    "    #filter out false positives: 'reaches' that lasted for less than 0.1 seconds\n",
    "    results2 = [x for x in results if x[1] > 12] #assuming 120 fps\n",
    "    results2_time = [(frame_to_time(x[0]), frame_to_time(x[1])) for x in results2]\n",
    "    return results2_time\n",
    "print(len(experiment()))\n",
    "pellet_times = experiment()"
   ]
  },
  {
   "cell_type": "code",
   "execution_count": 17,
   "metadata": {},
   "outputs": [],
   "source": [
    "np.argwhere(array > 0.5)\n",
    "pellet2 = pellet[pellet['likelihood'] > 0.99]\n",
    "def get_pellet_times():\n",
    "    pellet2 = pellet[(pellet['d_from_dispenser'] < 12)]\n",
    "    pellets = []\n",
    "    last_frame = pellet2['frame'].values[0]\n",
    "    consec_frames_ct = 1 #number of consecutive frames\n",
    "    first_frame_of_pellet = last_frame\n",
    "    for frame in pellet2['frame'].values:\n",
    "        if (frame - last_frame < 18):\n",
    "            consec_frames_ct += 1\n",
    "        else:\n",
    "            pellets.append((first_frame_of_pellet, consec_frames_ct))\n",
    "            consec_frames_ct = 1\n",
    "            first_frame_of_pellet = frame\n",
    "        last_frame = frame\n",
    "    pellets.append((first_frame_of_pellet, consec_frames_ct))\n",
    "    \n",
    "    #filter out false positives: 'reaches' that lasted for less than 0.1 seconds\n",
    "    pellet2 = [x for x in pellets if x[1] > 12] #assuming 120 fps\n",
    "    pellets2_time = [(frame_to_time(x[0]), frame_to_time(x[1])) for x in pellet2]\n",
    "    return pellets2_time\n",
    "pellet_times = get_pellet_times()"
   ]
  },
  {
   "cell_type": "code",
   "execution_count": 19,
   "metadata": {},
   "outputs": [],
   "source": [
    "def binary_search(p_times, r_time):\n",
    "    if len(p_times) == 1:\n",
    "        if (r_time[0] < p_times[0][0]) or (r_time[0] > p_times[0][0] + p_times[0][1]):\n",
    "            return \"No Pellet There \" + str(p_times[0])\n",
    "        return p_times[0]\n",
    "    elif r_time[0] > p_times[len(p_times)//2][0]:\n",
    "        return binary_search(p_times[len(p_times)//2:], r_time)\n",
    "    else:\n",
    "        return binary_search(p_times[:len(p_times)//2], r_time)"
   ]
  },
  {
   "cell_type": "code",
   "execution_count": 21,
   "metadata": {
    "scrolled": true
   },
   "outputs": [
    {
     "name": "stdout",
     "output_type": "stream",
     "text": [
      "(18.904, 0.208)\n",
      "(17.484, 1.487)\n",
      "(19.212, 0.299)\n",
      "No Pellet There (17.484, 1.487)\n",
      "(26.778, 0.033)\n",
      "(22.949, 5.465)\n",
      "(27.401, 0.183)\n",
      "(22.949, 5.465)\n",
      "(28.157, 0.266)\n",
      "(22.949, 5.465)\n",
      "(28.722, 0.324)\n",
      "No Pellet There (22.949, 5.465)\n",
      "(30.333, 0.291)\n",
      "No Pellet There (22.949, 5.465)\n",
      "(30.981, 0.473)\n",
      "No Pellet There (22.949, 5.465)\n",
      "(32.127, 0.025)\n",
      "No Pellet There (22.949, 5.465)\n",
      "(33.406, 0.266)\n",
      "No Pellet There (32.651, 0.723)\n",
      "(34.088, 0.266)\n",
      "No Pellet There (32.651, 0.723)\n",
      "(34.827, 0.988)\n",
      "No Pellet There (32.651, 0.723)\n",
      "(36.098, 0.224)\n",
      "No Pellet There (32.651, 0.723)\n",
      "(44.935, 0.241)\n",
      "(39.835, 5.224)\n",
      "(45.658, 0.166)\n",
      "No Pellet There (39.835, 5.224)\n",
      "(47.701, 0.341)\n",
      "(47.169, 0.864)\n",
      "(48.457, 0.374)\n",
      "No Pellet There (47.169, 0.864)\n",
      "(51.023, 0.249)\n",
      "No Pellet There (47.169, 0.864)\n",
      "(51.92, 0.033)\n",
      "No Pellet There (47.169, 0.864)\n",
      "(68.499, 0.266)\n",
      "No Pellet There (61.962, 4.909)\n",
      "(69.138, 0.216)\n",
      "(68.516, 0.689)\n",
      "(75.102, 0.116)\n",
      "No Pellet There (68.516, 0.689)\n",
      "(75.592, 0.174)\n",
      "No Pellet There (75.144, 0.44)\n",
      "(84.538, 0.224)\n",
      "(78.881, 6.371)\n",
      "(85.119, 0.158)\n",
      "(78.881, 6.371)\n",
      "(89.604, 0.257)\n",
      "(87.32, 2.342)\n",
      "(93.109, 0.15)\n",
      "(91.839, 1.362)\n",
      "(100.452, 0.141)\n",
      "(97.711, 2.799)\n",
      "(105.593, 0.091)\n",
      "No Pellet There (97.711, 2.799)\n",
      "(110.676, 0.208)\n",
      "(109.97, 1.346)\n",
      "(111.274, 0.133)\n",
      "(109.97, 1.346)\n",
      "(114.954, 0.158)\n",
      "(113.583, 1.454)\n",
      "(118.509, 0.166)\n",
      "(117.545, 1.055)\n",
      "(137.488, 0.15)\n",
      "No Pellet There (123.642, 13.481)\n",
      "(145.985, 0.075)\n",
      "(138.95, 7.135)\n",
      "(149.897, 0.174)\n",
      "(146.691, 4.975)\n",
      "(175.238, 0.199)\n",
      "(174.765, 0.689)\n"
     ]
    }
   ],
   "source": [
    "for r in reaches:\n",
    "    print(r)\n",
    "    print(binary_search(pellet_times, r))"
   ]
  },
  {
   "cell_type": "markdown",
   "metadata": {},
   "source": [
    "## Trying to identify pellet position automatically"
   ]
  },
  {
   "cell_type": "code",
   "execution_count": 32,
   "metadata": {},
   "outputs": [
    {
     "data": {
      "text/plain": [
       "<matplotlib.axes._subplots.AxesSubplot at 0x1cbac125940>"
      ]
     },
     "execution_count": 32,
     "metadata": {},
     "output_type": "execute_result"
    },
    {
     "data": {
      "image/png": "[encoded data removed]",
      "text/plain": [
       "<Figure size 432x288 with 1 Axes>"
      ]
     },
     "metadata": {
      "needs_background": "light"
     },
     "output_type": "display_data"
    }
   ],
   "source": [
    "x = pellet.diff()\n",
    "x = x[(x['x'] < 0.16) & (x['x'] > -0.16)]\n",
    "x = x[(x['y'] > 0) & (x['y'] < 0.3)]\n",
    "x.plot(kind='scatter', x = 'time', y='y')"
   ]
  }
 ],
 "metadata": {
  "kernelspec": {
   "display_name": "Python 3",
   "language": "python",
   "name": "python3"
  },
  "language_info": {
   "codemirror_mode": {
    "name": "ipython",
    "version": 3
   },
   "file_extension": ".py",
   "mimetype": "text/x-python",
   "name": "python",
   "nbconvert_exporter": "python",
   "pygments_lexer": "ipython3",
   "version": "3.6.6"
  }
 },
 "nbformat": 4,
 "nbformat_minor": 2
}

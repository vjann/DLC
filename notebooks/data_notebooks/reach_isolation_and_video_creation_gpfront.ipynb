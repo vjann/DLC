{
 "cells": [
  {
   "cell_type": "code",
   "execution_count": 27,
   "metadata": {},
   "outputs": [],
   "source": [
    "import numpy as np\n",
    "import pandas as pd\n",
    "import matplotlib as plt\n",
    "import datetime\n",
    "#turns seconds into a string format ffmpeg uses\n",
    "def seconds_formatter(sec):\n",
    "    x = \"0\" + str(datetime.timedelta(seconds=sec))[:-3]\n",
    "    return x"
   ]
  },
  {
   "cell_type": "code",
   "execution_count": 28,
   "metadata": {},
   "outputs": [
    {
     "data": {
      "text/html": [
       "<div>\n",
       "<style scoped>\n",
       "    .dataframe tbody tr th:only-of-type {\n",
       "        vertical-align: middle;\n",
       "    }\n",
       "\n",
       "    .dataframe tbody tr th {\n",
       "        vertical-align: top;\n",
       "    }\n",
       "\n",
       "    .dataframe thead tr th {\n",
       "        text-align: left;\n",
       "    }\n",
       "</style>\n",
       "<table border=\"1\" class=\"dataframe\">\n",
       "  <thead>\n",
       "    <tr>\n",
       "      <th>bodyparts</th>\n",
       "      <th colspan=\"3\" halign=\"left\">leftEar</th>\n",
       "      <th colspan=\"3\" halign=\"left\">rightEar</th>\n",
       "      <th colspan=\"3\" halign=\"left\">Nose</th>\n",
       "      <th>leftHand</th>\n",
       "      <th>...</th>\n",
       "      <th>rightHand</th>\n",
       "      <th colspan=\"3\" halign=\"left\">leftFoot</th>\n",
       "      <th colspan=\"3\" halign=\"left\">rightFoot</th>\n",
       "      <th colspan=\"3\" halign=\"left\">pellet</th>\n",
       "    </tr>\n",
       "    <tr>\n",
       "      <th>coords</th>\n",
       "      <th>x</th>\n",
       "      <th>y</th>\n",
       "      <th>likelihood</th>\n",
       "      <th>x</th>\n",
       "      <th>y</th>\n",
       "      <th>likelihood</th>\n",
       "      <th>x</th>\n",
       "      <th>y</th>\n",
       "      <th>likelihood</th>\n",
       "      <th>x</th>\n",
       "      <th>...</th>\n",
       "      <th>likelihood</th>\n",
       "      <th>x</th>\n",
       "      <th>y</th>\n",
       "      <th>likelihood</th>\n",
       "      <th>x</th>\n",
       "      <th>y</th>\n",
       "      <th>likelihood</th>\n",
       "      <th>x</th>\n",
       "      <th>y</th>\n",
       "      <th>likelihood</th>\n",
       "    </tr>\n",
       "  </thead>\n",
       "  <tbody>\n",
       "    <tr>\n",
       "      <th>count</th>\n",
       "      <td>24320.000000</td>\n",
       "      <td>24320.000000</td>\n",
       "      <td>24320.000000</td>\n",
       "      <td>24320.000000</td>\n",
       "      <td>24320.000000</td>\n",
       "      <td>24320.000000</td>\n",
       "      <td>24320.000000</td>\n",
       "      <td>24320.000000</td>\n",
       "      <td>24320.000000</td>\n",
       "      <td>24320.000000</td>\n",
       "      <td>...</td>\n",
       "      <td>24320.000000</td>\n",
       "      <td>24320.000000</td>\n",
       "      <td>24320.000000</td>\n",
       "      <td>24320.000000</td>\n",
       "      <td>24320.000000</td>\n",
       "      <td>24320.000000</td>\n",
       "      <td>24320.000000</td>\n",
       "      <td>24320.000000</td>\n",
       "      <td>24320.000000</td>\n",
       "      <td>24320.000000</td>\n",
       "    </tr>\n",
       "    <tr>\n",
       "      <th>mean</th>\n",
       "      <td>418.129470</td>\n",
       "      <td>104.092916</td>\n",
       "      <td>0.819854</td>\n",
       "      <td>342.438231</td>\n",
       "      <td>101.684238</td>\n",
       "      <td>0.801598</td>\n",
       "      <td>375.327111</td>\n",
       "      <td>208.523040</td>\n",
       "      <td>0.789948</td>\n",
       "      <td>401.102718</td>\n",
       "      <td>...</td>\n",
       "      <td>0.459706</td>\n",
       "      <td>400.000369</td>\n",
       "      <td>211.809658</td>\n",
       "      <td>0.563731</td>\n",
       "      <td>325.880319</td>\n",
       "      <td>193.638297</td>\n",
       "      <td>0.801919</td>\n",
       "      <td>391.551464</td>\n",
       "      <td>295.535599</td>\n",
       "      <td>0.634827</td>\n",
       "    </tr>\n",
       "    <tr>\n",
       "      <th>std</th>\n",
       "      <td>59.484658</td>\n",
       "      <td>55.269955</td>\n",
       "      <td>0.345757</td>\n",
       "      <td>61.201473</td>\n",
       "      <td>58.679316</td>\n",
       "      <td>0.350441</td>\n",
       "      <td>59.976627</td>\n",
       "      <td>70.090319</td>\n",
       "      <td>0.335402</td>\n",
       "      <td>42.124632</td>\n",
       "      <td>...</td>\n",
       "      <td>0.409989</td>\n",
       "      <td>106.976893</td>\n",
       "      <td>68.213118</td>\n",
       "      <td>0.431094</td>\n",
       "      <td>36.197824</td>\n",
       "      <td>42.793461</td>\n",
       "      <td>0.327147</td>\n",
       "      <td>38.246815</td>\n",
       "      <td>62.200636</td>\n",
       "      <td>0.460287</td>\n",
       "    </tr>\n",
       "    <tr>\n",
       "      <th>min</th>\n",
       "      <td>-0.232820</td>\n",
       "      <td>0.058952</td>\n",
       "      <td>0.000652</td>\n",
       "      <td>1.185614</td>\n",
       "      <td>-2.496538</td>\n",
       "      <td>0.001448</td>\n",
       "      <td>0.344874</td>\n",
       "      <td>18.644475</td>\n",
       "      <td>0.002590</td>\n",
       "      <td>64.313986</td>\n",
       "      <td>...</td>\n",
       "      <td>0.001246</td>\n",
       "      <td>70.790897</td>\n",
       "      <td>4.613057</td>\n",
       "      <td>0.002174</td>\n",
       "      <td>1.576407</td>\n",
       "      <td>1.647910</td>\n",
       "      <td>0.003355</td>\n",
       "      <td>1.279912</td>\n",
       "      <td>0.627747</td>\n",
       "      <td>0.001884</td>\n",
       "    </tr>\n",
       "    <tr>\n",
       "      <th>25%</th>\n",
       "      <td>410.203378</td>\n",
       "      <td>75.918766</td>\n",
       "      <td>0.963633</td>\n",
       "      <td>317.790530</td>\n",
       "      <td>64.836136</td>\n",
       "      <td>0.799568</td>\n",
       "      <td>366.916633</td>\n",
       "      <td>149.775522</td>\n",
       "      <td>0.663167</td>\n",
       "      <td>382.997393</td>\n",
       "      <td>...</td>\n",
       "      <td>0.045521</td>\n",
       "      <td>395.883299</td>\n",
       "      <td>152.843292</td>\n",
       "      <td>0.087321</td>\n",
       "      <td>305.209249</td>\n",
       "      <td>152.980904</td>\n",
       "      <td>0.679855</td>\n",
       "      <td>392.289892</td>\n",
       "      <td>267.040393</td>\n",
       "      <td>0.025175</td>\n",
       "    </tr>\n",
       "    <tr>\n",
       "      <th>50%</th>\n",
       "      <td>431.752412</td>\n",
       "      <td>109.551635</td>\n",
       "      <td>0.999844</td>\n",
       "      <td>332.283849</td>\n",
       "      <td>103.500209</td>\n",
       "      <td>0.999885</td>\n",
       "      <td>382.856600</td>\n",
       "      <td>222.712812</td>\n",
       "      <td>0.996328</td>\n",
       "      <td>403.306821</td>\n",
       "      <td>...</td>\n",
       "      <td>0.325276</td>\n",
       "      <td>438.449283</td>\n",
       "      <td>214.538742</td>\n",
       "      <td>0.681825</td>\n",
       "      <td>319.431005</td>\n",
       "      <td>211.355771</td>\n",
       "      <td>0.997711</td>\n",
       "      <td>395.490041</td>\n",
       "      <td>325.472089</td>\n",
       "      <td>0.999050</td>\n",
       "    </tr>\n",
       "    <tr>\n",
       "      <th>75%</th>\n",
       "      <td>443.193016</td>\n",
       "      <td>141.584548</td>\n",
       "      <td>0.999973</td>\n",
       "      <td>346.850670</td>\n",
       "      <td>142.310630</td>\n",
       "      <td>0.999981</td>\n",
       "      <td>389.395545</td>\n",
       "      <td>261.157506</td>\n",
       "      <td>0.999806</td>\n",
       "      <td>426.271711</td>\n",
       "      <td>...</td>\n",
       "      <td>0.952850</td>\n",
       "      <td>455.452176</td>\n",
       "      <td>224.842714</td>\n",
       "      <td>0.999839</td>\n",
       "      <td>335.237931</td>\n",
       "      <td>224.876223</td>\n",
       "      <td>0.999907</td>\n",
       "      <td>397.825792</td>\n",
       "      <td>335.043683</td>\n",
       "      <td>0.999830</td>\n",
       "    </tr>\n",
       "    <tr>\n",
       "      <th>max</th>\n",
       "      <td>651.580333</td>\n",
       "      <td>398.199630</td>\n",
       "      <td>0.999999</td>\n",
       "      <td>609.912476</td>\n",
       "      <td>346.226936</td>\n",
       "      <td>0.999999</td>\n",
       "      <td>623.018394</td>\n",
       "      <td>397.013597</td>\n",
       "      <td>0.999998</td>\n",
       "      <td>652.821492</td>\n",
       "      <td>...</td>\n",
       "      <td>0.999980</td>\n",
       "      <td>654.890787</td>\n",
       "      <td>395.073073</td>\n",
       "      <td>0.999997</td>\n",
       "      <td>646.668256</td>\n",
       "      <td>396.876828</td>\n",
       "      <td>0.999999</td>\n",
       "      <td>641.452611</td>\n",
       "      <td>395.651502</td>\n",
       "      <td>0.999988</td>\n",
       "    </tr>\n",
       "  </tbody>\n",
       "</table>\n",
       "<p>8 rows × 24 columns</p>\n",
       "</div>"
      ],
      "text/plain": [
       "bodyparts       leftEar                                  rightEar  \\\n",
       "coords                x             y    likelihood             x   \n",
       "count      24320.000000  24320.000000  24320.000000  24320.000000   \n",
       "mean         418.129470    104.092916      0.819854    342.438231   \n",
       "std           59.484658     55.269955      0.345757     61.201473   \n",
       "min           -0.232820      0.058952      0.000652      1.185614   \n",
       "25%          410.203378     75.918766      0.963633    317.790530   \n",
       "50%          431.752412    109.551635      0.999844    332.283849   \n",
       "75%          443.193016    141.584548      0.999973    346.850670   \n",
       "max          651.580333    398.199630      0.999999    609.912476   \n",
       "\n",
       "bodyparts                                      Nose                \\\n",
       "coords                y    likelihood             x             y   \n",
       "count      24320.000000  24320.000000  24320.000000  24320.000000   \n",
       "mean         101.684238      0.801598    375.327111    208.523040   \n",
       "std           58.679316      0.350441     59.976627     70.090319   \n",
       "min           -2.496538      0.001448      0.344874     18.644475   \n",
       "25%           64.836136      0.799568    366.916633    149.775522   \n",
       "50%          103.500209      0.999885    382.856600    222.712812   \n",
       "75%          142.310630      0.999981    389.395545    261.157506   \n",
       "max          346.226936      0.999999    623.018394    397.013597   \n",
       "\n",
       "bodyparts                    leftHand      ...          rightHand  \\\n",
       "coords       likelihood             x      ...         likelihood   \n",
       "count      24320.000000  24320.000000      ...       24320.000000   \n",
       "mean           0.789948    401.102718      ...           0.459706   \n",
       "std            0.335402     42.124632      ...           0.409989   \n",
       "min            0.002590     64.313986      ...           0.001246   \n",
       "25%            0.663167    382.997393      ...           0.045521   \n",
       "50%            0.996328    403.306821      ...           0.325276   \n",
       "75%            0.999806    426.271711      ...           0.952850   \n",
       "max            0.999998    652.821492      ...           0.999980   \n",
       "\n",
       "bodyparts      leftFoot                                 rightFoot  \\\n",
       "coords                x             y    likelihood             x   \n",
       "count      24320.000000  24320.000000  24320.000000  24320.000000   \n",
       "mean         400.000369    211.809658      0.563731    325.880319   \n",
       "std          106.976893     68.213118      0.431094     36.197824   \n",
       "min           70.790897      4.613057      0.002174      1.576407   \n",
       "25%          395.883299    152.843292      0.087321    305.209249   \n",
       "50%          438.449283    214.538742      0.681825    319.431005   \n",
       "75%          455.452176    224.842714      0.999839    335.237931   \n",
       "max          654.890787    395.073073      0.999997    646.668256   \n",
       "\n",
       "bodyparts                                    pellet                \\\n",
       "coords                y    likelihood             x             y   \n",
       "count      24320.000000  24320.000000  24320.000000  24320.000000   \n",
       "mean         193.638297      0.801919    391.551464    295.535599   \n",
       "std           42.793461      0.327147     38.246815     62.200636   \n",
       "min            1.647910      0.003355      1.279912      0.627747   \n",
       "25%          152.980904      0.679855    392.289892    267.040393   \n",
       "50%          211.355771      0.997711    395.490041    325.472089   \n",
       "75%          224.876223      0.999907    397.825792    335.043683   \n",
       "max          396.876828      0.999999    641.452611    395.651502   \n",
       "\n",
       "bodyparts                \n",
       "coords       likelihood  \n",
       "count      24320.000000  \n",
       "mean           0.634827  \n",
       "std            0.460287  \n",
       "min            0.001884  \n",
       "25%            0.025175  \n",
       "50%            0.999050  \n",
       "75%            0.999830  \n",
       "max            0.999988  \n",
       "\n",
       "[8 rows x 24 columns]"
      ]
     },
     "execution_count": 28,
     "metadata": {},
     "output_type": "execute_result"
    }
   ],
   "source": [
    "df = pd.read_hdf(r\"C:\\Users\\vjj14\\Desktop\\DeepLabCut\\goprofrontview-vj-2019-06-17\\videos\\gpDeepCut_resnet50_goprofrontviewJun17shuffle1_30001.h5\")\n",
    "#remove extra level \"scorer\"\n",
    "df.columns = df.columns.droplevel()\n",
    "df.describe()"
   ]
  },
  {
   "cell_type": "code",
   "execution_count": 29,
   "metadata": {},
   "outputs": [],
   "source": [
    "def frame_to_time(frame):\n",
    "    total_seconds = (frame/24320)*202\n",
    "    return round(total_seconds, 3)\n",
    "def time_to_frame(time):\n",
    "    return 24320*(time/202)\n",
    "def dist_from_dispenser(x, y):\n",
    "    return ((x-396)**2 + (y-325)**2)**0.5\n",
    "def outside_box(x, y):\n",
    "    return y > 300"
   ]
  },
  {
   "cell_type": "code",
   "execution_count": 30,
   "metadata": {},
   "outputs": [],
   "source": [
    "labels = {key: df[df[key, 'likelihood'] > 0.9][key] for key in list(df.columns.levels[0])}\n",
    "{labels[key].insert(0, \"frame\", labels[key].index, True) for key in labels.keys()}\n",
    "{labels[key].insert(0, \"time\", labels[key]['frame'].map(frame_to_time), True) for key in labels.keys()}\n",
    "leftEar = labels['leftEar']\n",
    "rightEar = labels['rightEar']\n",
    "nose = labels['Nose']\n",
    "leftHand = labels['leftHand']\n",
    "rightHand = labels['rightHand']\n",
    "leftFoot = labels['leftFoot']\n",
    "rightFoot = labels['rightFoot']\n",
    "pellet = labels['pellet']\n",
    "# pellet[(pellet['time'] > 39) & (pellet['time'] < 40)].plot(kind='scatter', x='x', y='y')\n",
    "# pellet.plot(kind='scatter', x='x', y='y')\n",
    "# nose.plot(kind='scatter', x='x', y='y')"
   ]
  },
  {
   "cell_type": "code",
   "execution_count": 31,
   "metadata": {},
   "outputs": [
    {
     "data": {
      "text/plain": [
       "<matplotlib.axes._subplots.AxesSubplot at 0x1f55ce31b38>"
      ]
     },
     "execution_count": 31,
     "metadata": {},
     "output_type": "execute_result"
    },
    {
     "data": {
      "image/png": "[encoded data removed]",
      "text/plain": [
       "<Figure size 432x288 with 1 Axes>"
      ]
     },
     "metadata": {
      "needs_background": "light"
     },
     "output_type": "display_data"
    }
   ],
   "source": [
    "#add distance from dispenser column to the hand dataframe\n",
    "rightHand['d_from_dispenser'] = rightHand.apply(lambda row: dist_from_dispenser(x = row['x'], y = row['y']), axis=1)\n",
    "rightHand['outside_of_box'] = rightHand.apply(lambda row: outside_box(x = row['x'], y = row['y']), axis=1)\n",
    "hand_reach = rightHand[rightHand['d_from_dispenser'] < 40]\n",
    "# hand_reach = rightHand[rightHand['outside_of_box']]\n",
    "hand_reach['time'].hist(bins=300)"
   ]
  },
  {
   "cell_type": "code",
   "execution_count": 32,
   "metadata": {},
   "outputs": [
    {
     "data": {
      "text/plain": [
       "<matplotlib.axes._subplots.AxesSubplot at 0x1f5562c3a90>"
      ]
     },
     "execution_count": 32,
     "metadata": {},
     "output_type": "execute_result"
    },
    {
     "data": {
      "image/png": "[encoded data removed]",
      "text/plain": [
       "<Figure size 432x288 with 1 Axes>"
      ]
     },
     "metadata": {
      "needs_background": "light"
     },
     "output_type": "display_data"
    }
   ],
   "source": [
    "rightHand[rightHand['y'] > 315]['time'].hist(bins=300)"
   ]
  },
  {
   "cell_type": "code",
   "execution_count": 33,
   "metadata": {},
   "outputs": [
    {
     "data": {
      "text/plain": [
       "<matplotlib.axes._subplots.AxesSubplot at 0x1f55d6a6d30>"
      ]
     },
     "execution_count": 33,
     "metadata": {},
     "output_type": "execute_result"
    },
    {
     "data": {
      "image/png": "[encoded data removed]",
      "text/plain": [
       "<Figure size 432x288 with 1 Axes>"
      ]
     },
     "metadata": {
      "needs_background": "light"
     },
     "output_type": "display_data"
    },
    {
     "data": {
      "image/png": "[encoded data removed]",
      "text/plain": [
       "<Figure size 432x288 with 1 Axes>"
      ]
     },
     "metadata": {
      "needs_background": "light"
     },
     "output_type": "display_data"
    }
   ],
   "source": [
    "hand_reach = rightHand[(rightHand['d_from_dispenser'] < 40)& (rightHand['time'] < 155) & (rightHand['time'] > 109)]\n",
    "hand_reach['time'].hist(bins=50)\n",
    "pellet[(pellet['time'] < 155) & (pellet['time'] > 109)].plot(kind= 'scatter', x='x', y='y')"
   ]
  },
  {
   "cell_type": "code",
   "execution_count": 34,
   "metadata": {},
   "outputs": [
    {
     "data": {
      "text/plain": [
       "0"
      ]
     },
     "execution_count": 34,
     "metadata": {},
     "output_type": "execute_result"
    }
   ],
   "source": [
    "sum(hand_reach['y'] > 330)"
   ]
  },
  {
   "cell_type": "markdown",
   "metadata": {},
   "source": [
    "## Determining when the mouse is reaching\n"
   ]
  },
  {
   "cell_type": "code",
   "execution_count": 35,
   "metadata": {},
   "outputs": [],
   "source": [
    "def get_reaches_frames(hand_df, filter_function):\n",
    "    \"\"\"Returns: List of Tuples, where each tuple is a reach, \n",
    "    1st element of tuple is start time, 2nd element of tuple is the duration\n",
    "    \n",
    "    Given frames where hand is within a set radius, loop through, \n",
    "    bunch approximately consecutive frames (within x frames of each other)\n",
    "    as a single reach. Filter out 'reaches' that are impossibly short.\n",
    "    \"\"\"\n",
    "    hand_reach = hand_df[hand_df.apply(filter_function, axis=1)]\n",
    "    reaches = []\n",
    "    last_frame = hand_reach['frame'].values[0]\n",
    "    consec_frames_ct = 1 #number of consecutive frames\n",
    "    first_frame_of_reach = last_frame\n",
    "    for frame in hand_reach['frame'].values:\n",
    "        if (frame - last_frame < 10):\n",
    "            consec_frames_ct += 1\n",
    "        else:\n",
    "            reaches.append((first_frame_of_reach, consec_frames_ct))\n",
    "            consec_frames_ct = 1\n",
    "            first_frame_of_reach = frame\n",
    "        last_frame = frame\n",
    "    reaches.append((first_frame_of_reach, consec_frames_ct))\n",
    "    \n",
    "    #filter out false positives: reaches that only lasted 2 or less frames\n",
    "    reaches_filtered = [x for x in reaches if x[1] >= 2]\n",
    "    return reaches_filtered"
   ]
  },
  {
   "cell_type": "markdown",
   "metadata": {},
   "source": [
    "### First Method: Basing it off of the distance from dispenser*\n",
    "*where the pellet is SUPPPOSED to be, currently hard coded pixel coordinates."
   ]
  },
  {
   "cell_type": "code",
   "execution_count": 36,
   "metadata": {
    "scrolled": true
   },
   "outputs": [
    {
     "data": {
      "text/plain": [
       "[(2276, 18),\n",
       " (3303, 14),\n",
       " (3390, 29),\n",
       " (3458, 34),\n",
       " (3652, 35),\n",
       " (3730, 48),\n",
       " (4024, 30),\n",
       " (4104, 29),\n",
       " (4193, 114),\n",
       " (4352, 21),\n",
       " (5410, 29),\n",
       " (5497, 16),\n",
       " (5743, 41),\n",
       " (5834, 43),\n",
       " (6143, 29),\n",
       " (8247, 32),\n",
       " (8324, 18),\n",
       " (9046, 9),\n",
       " (9101, 13),\n",
       " (10179, 19),\n",
       " (10248, 17),\n",
       " (10789, 30),\n",
       " (11213, 13),\n",
       " (12098, 9),\n",
       " (13326, 20),\n",
       " (13397, 16),\n",
       " (13843, 7),\n",
       " (14268, 11),\n",
       " (16557, 12),\n",
       " (17577, 5),\n",
       " (18048, 14),\n",
       " (21101, 19)]"
      ]
     },
     "execution_count": 36,
     "metadata": {},
     "output_type": "execute_result"
    }
   ],
   "source": [
    "def is_near_dispenser(row):\n",
    "    dist = ((row['x']-396)**2 + (row['y']-325)**2)**0.5\n",
    "    return dist < 20\n",
    "get_reaches_frames(rightHand, is_near_dispenser)"
   ]
  },
  {
   "cell_type": "markdown",
   "metadata": {},
   "source": [
    "### Second Method: When the hand crosses the line, or outside of the acrylic\n",
    "Hard coded line"
   ]
  },
  {
   "cell_type": "code",
   "execution_count": 37,
   "metadata": {},
   "outputs": [
    {
     "data": {
      "text/plain": [
       "[(2276, 18),\n",
       " (3303, 14),\n",
       " (3390, 29),\n",
       " (3458, 34),\n",
       " (3652, 35),\n",
       " (3730, 48),\n",
       " (4024, 30),\n",
       " (4104, 29),\n",
       " (4193, 114),\n",
       " (4352, 21),\n",
       " (5410, 29),\n",
       " (5497, 16),\n",
       " (5743, 41),\n",
       " (5834, 43),\n",
       " (6143, 29),\n",
       " (8247, 32),\n",
       " (8324, 18),\n",
       " (9046, 9),\n",
       " (9101, 13),\n",
       " (10179, 19),\n",
       " (10248, 17),\n",
       " (10789, 30),\n",
       " (11213, 13),\n",
       " (12098, 9),\n",
       " (13326, 20),\n",
       " (13397, 16),\n",
       " (13843, 7),\n",
       " (14268, 11),\n",
       " (16557, 12),\n",
       " (17577, 5),\n",
       " (18048, 14),\n",
       " (21101, 19)]"
      ]
     },
     "execution_count": 37,
     "metadata": {},
     "output_type": "execute_result"
    }
   ],
   "source": [
    "def get_reaches(hand_df, filter_function):\n",
    "    return [(frame_to_time(x[0]), frame_to_time(x[1])) for x in get_reaches_frames(hand_df, filter_function)]\n",
    "get_reaches_frames(rightHand, is_near_dispenser)"
   ]
  },
  {
   "cell_type": "code",
   "execution_count": 38,
   "metadata": {},
   "outputs": [
    {
     "data": {
      "text/plain": [
       "37"
      ]
     },
     "execution_count": 38,
     "metadata": {},
     "output_type": "execute_result"
    }
   ],
   "source": [
    "def outside_box(row):\n",
    "    return row['y'] > 300\n",
    "len(get_reaches(rightHand, outside_box))"
   ]
  },
  {
   "cell_type": "markdown",
   "metadata": {},
   "source": [
    "## Create Compilation of Hand Reaches\n",
    "Creates a windows batch file"
   ]
  },
  {
   "cell_type": "code",
   "execution_count": 39,
   "metadata": {},
   "outputs": [],
   "source": [
    "#Open up new batch file\n",
    "project_name = \"goprofrontview\"\n",
    "bat_file= r\"C:\\Users\\vjj14\\Desktop\\DeepLabCut\\goprofrontview-vj-2019-06-17\\videos\\{}_create_videos.bat\".format(project_name)\n",
    "script_writer= open(bat_file,\"w\")\n",
    "\n",
    "#write series of shell commands to create videos for each attempt, connected by '&&' for the batch file\n",
    "reaches = get_reaches(rightHand, is_near_dispenser)\n",
    "vids = []\n",
    "for tpl in reaches:\n",
    "    start_time = seconds_formatter(max(0, tpl[0] - 2.0))\n",
    "    cmd = \"ffmpeg -i gp.mp4 -ss {0} -t {1} -c copy {2}.mp4\".format(start_time, 2.5 + tpl[1], np.round(tpl[0], 3))\n",
    "    vids.append(str(np.round(tpl[0], 3)) + \".mp4\")\n",
    "    script_writer.write(cmd + \" && \")\n",
    "script_writer.close()\n",
    "\n",
    "#open and write a list of videos to concatenate (.txt file) for ffmpeg to use\n",
    "list_file = r\"C:\\Users\\vjj14\\Desktop\\DeepLabCut\\goprofrontview-vj-2019-06-17\\videos\\{}_video_list.txt\".format(project_name)\n",
    "list_writer = open(list_file, \"w+\")\n",
    "for v in vids:\n",
    "    list_writer.write('file ' + \"\\'\" + r\"C:\\Users\\vjj14\\Desktop\\DeepLabCut\\goprofrontview-vj-2019-06-17\\videos\\{}\".format(v) + \"\\'\\n\")\n",
    "list_writer.close()\n",
    "\n",
    "#open batch file again and write command to produce a concatenated video, the final product\n",
    "script_writer = open(bat_file, \"a+\")\n",
    "script_writer.write(\"ffmpeg -f concat -safe 0 -i {0} -c copy output.mp4\".format(list_file))\n",
    "script_writer.close()"
   ]
  },
  {
   "cell_type": "markdown",
   "metadata": {},
   "source": [
    "## Determining when the pellet is there\n",
    "### First Method: Based off of distance from dispenser*\n",
    "*Where the pellet is SUPPOSED to be."
   ]
  },
  {
   "cell_type": "code",
   "execution_count": 40,
   "metadata": {},
   "outputs": [
    {
     "data": {
      "text/plain": [
       "<matplotlib.axes._subplots.AxesSubplot at 0x1f55d6654a8>"
      ]
     },
     "execution_count": 40,
     "metadata": {},
     "output_type": "execute_result"
    },
    {
     "data": {
      "image/png": "[encoded data removed]",
      "text/plain": [
       "<Figure size 432x288 with 1 Axes>"
      ]
     },
     "metadata": {
      "needs_background": "light"
     },
     "output_type": "display_data"
    }
   ],
   "source": [
    "#add distance from dispenser column to the hand dataframe\n",
    "pellet['d_from_dispenser'] = pellet.apply(lambda row: dist_from_dispenser(x = row['x'], y = row['y']), axis=1)\n",
    "pellet2 = pellet[pellet['d_from_dispenser'] < 20]\n",
    "pellet2['time'].hist(bins=200)"
   ]
  },
  {
   "cell_type": "code",
   "execution_count": 41,
   "metadata": {},
   "outputs": [
    {
     "data": {
      "text/plain": [
       "<matplotlib.axes._subplots.AxesSubplot at 0x1f55d76b438>"
      ]
     },
     "execution_count": 41,
     "metadata": {},
     "output_type": "execute_result"
    },
    {
     "data": {
      "image/png": "[encoded data removed]",
      "text/plain": [
       "<Figure size 432x288 with 1 Axes>"
      ]
     },
     "metadata": {
      "needs_background": "light"
     },
     "output_type": "display_data"
    }
   ],
   "source": [
    "pellet[pellet['likelihood']>0.99]['time'].hist(bins=200)"
   ]
  },
  {
   "cell_type": "markdown",
   "metadata": {},
   "source": [
    "### Second Method: Using (averaged) likelihood\n",
    "Based off the observation that pellets in position have much higher likelihoods. I think that this is a bad idea and may not generalize, but the way I did it (averaging frames around it) is an alternate and possibly better way to deal with outliers."
   ]
  },
  {
   "cell_type": "code",
   "execution_count": 42,
   "metadata": {},
   "outputs": [
    {
     "name": "stdout",
     "output_type": "stream",
     "text": [
      "1631\n"
     ]
    },
    {
     "data": {
      "text/plain": [
       "<matplotlib.axes._subplots.AxesSubplot at 0x1f55da0f668>"
      ]
     },
     "execution_count": 42,
     "metadata": {},
     "output_type": "execute_result"
    },
    {
     "data": {
      "image/png": "[encoded data removed]",
      "text/plain": [
       "<Figure size 432x288 with 1 Axes>"
      ]
     },
     "metadata": {
      "needs_background": "light"
     },
     "output_type": "display_data"
    }
   ],
   "source": [
    "c99 = pellet[pellet['likelihood'] > 0.99]\n",
    "subset = c99.diff().reset_index()\n",
    "# subset[(subset['y'] < 1) & (subset['y'] > -1)].plot(kind='scatter', x='index', y='y')\n",
    "# subset.diff()\n",
    "# subset['index'].hist(bins=500)\n",
    "print(min(subset['index']))\n",
    "max(subset['index'])\n",
    "subset.plot(kind = 'scatter', x='x', y='y')"
   ]
  },
  {
   "cell_type": "code",
   "execution_count": 43,
   "metadata": {},
   "outputs": [
    {
     "name": "stdout",
     "output_type": "stream",
     "text": [
      "33\n"
     ]
    }
   ],
   "source": [
    "array = np.zeros(25000)\n",
    "for frame in c99['frame']:\n",
    "    array[frame] = 1.0\n",
    "temp = array.copy()\n",
    "for i in range(25, len(array)):\n",
    "    temp[i] = np.mean(array[i-25:i+25])\n",
    "#     print(np.mean(array[i-50:i+50]))\n",
    "array = temp\n",
    "# np.histogram(array, bins=200, range=(0, 25000))\n",
    "def experiment():\n",
    "    results = []\n",
    "    temp = array > 0.5\n",
    "    curr_start = 0\n",
    "    curr_len = 0\n",
    "    for i in range(len(temp)):\n",
    "        if temp[i] and curr_len == 0:\n",
    "            curr_start = i\n",
    "            curr_len = 1\n",
    "        elif temp[i]:\n",
    "            curr_len += 1\n",
    "        elif not temp[i] and curr_len != 0:\n",
    "            results.append((curr_start, curr_len))\n",
    "            curr_len = 0\n",
    "    \n",
    "    #filter out false positives: 'reaches' that lasted for less than 0.1 seconds\n",
    "    results2 = [x for x in results if x[1] > 12] #assuming 120 fps\n",
    "    results2_time = [(frame_to_time(x[0]), frame_to_time(x[1])) for x in results2]\n",
    "    return results2_time\n",
    "print(len(experiment()))\n",
    "pellet_times = experiment()"
   ]
  },
  {
   "cell_type": "code",
   "execution_count": 44,
   "metadata": {},
   "outputs": [],
   "source": [
    "def get_reaches_frames(hand_df, filter_function):\n",
    "    \"\"\"Returns: List of Tuples, where each tuple is a reach, \n",
    "    1st element of tuple is start time, 2nd element of tuple is the duration\n",
    "    \n",
    "    Given frames where hand is within a set radius, loop through, \n",
    "    bunch approximately consecutive frames (within x frames of each other)\n",
    "    as a single reach. Filter out 'reaches' that are impossibly short.\n",
    "    \"\"\"\n",
    "    hand_reach = hand_df[hand_df.apply(filter_function, axis=1)]\n",
    "    reaches = []\n",
    "    last_frame = hand_reach['frame'].values[0]\n",
    "    consec_frames_ct = 1 #number of consecutive frames\n",
    "    first_frame_of_reach = last_frame\n",
    "    for frame in hand_reach['frame'].values:\n",
    "        if (frame - last_frame < 10):\n",
    "            consec_frames_ct += 1\n",
    "        else:\n",
    "            reaches.append((first_frame_of_reach, consec_frames_ct))\n",
    "            consec_frames_ct = 1\n",
    "            first_frame_of_reach = frame\n",
    "        last_frame = frame\n",
    "    reaches.append((first_frame_of_reach, consec_frames_ct))\n",
    "    \n",
    "    #filter out false positives: reaches that only lasted 2 or less frames\n",
    "    reaches_filtered = [x for x in reaches if x[1] >= 2]\n",
    "    return reaches_filtered"
   ]
  },
  {
   "cell_type": "code",
   "execution_count": 45,
   "metadata": {},
   "outputs": [
    {
     "data": {
      "text/plain": [
       "[(13.58, 2.525),\n",
       " (17.376, 1.595),\n",
       " (22.916, 5.507),\n",
       " (32.559, 1.586),\n",
       " (39.777, 5.723),\n",
       " (47.111, 0.947),\n",
       " (50.085, 1.063),\n",
       " (56.048, 0.465),\n",
       " (59.686, 0.183),\n",
       " (61.904, 5.233),\n",
       " (68.474, 0.739),\n",
       " (75.144, 0.482),\n",
       " (78.823, 6.454),\n",
       " (87.279, 2.384),\n",
       " (91.789, 1.412),\n",
       " (97.653, 2.899),\n",
       " (107.138, 0.116),\n",
       " (108.027, 3.297),\n",
       " (112.014, 3.032),\n",
       " (115.818, 2.807),\n",
       " (119.132, 1.595),\n",
       " (121.815, 15.756),\n",
       " (138.95, 7.185),\n",
       " (146.691, 5.025),\n",
       " (153.053, 2.807),\n",
       " (158.211, 3.779),\n",
       " (163.751, 1.495),\n",
       " (170.379, 0.864),\n",
       " (172.788, 0.623),\n",
       " (174.757, 0.698),\n",
       " (175.978, 15.441),\n",
       " (192.756, 2.143),\n",
       " (197.922, 3.356)]"
      ]
     },
     "execution_count": 45,
     "metadata": {},
     "output_type": "execute_result"
    }
   ],
   "source": [
    "np.argwhere(array > 0.5)\n",
    "pellet2 = pellet[pellet['likelihood'] > 0.99]\n",
    "def get_pellet_frames(pellet_df, filter_function):\n",
    "    close_pellets = pellet_df[pellet_df.apply(filter_function, axis=1)]\n",
    "    pellet_times = []\n",
    "    last_frame = close_pellets['frame'].values[0]\n",
    "    consec_frames_ct = 1 #number of consecutive frames\n",
    "    first_frame_of_pellet = last_frame\n",
    "    for frame in close_pellets['frame'].values:\n",
    "        if (frame - last_frame < 18):\n",
    "            consec_frames_ct += 1\n",
    "        else:\n",
    "            pellet_times.append((first_frame_of_pellet, consec_frames_ct))\n",
    "            consec_frames_ct = 1\n",
    "            first_frame_of_pellet = frame\n",
    "        last_frame = frame\n",
    "    pellet_times.append((first_frame_of_pellet, consec_frames_ct))\n",
    "    \n",
    "    #filter out false positives: 'reaches' that lasted for less than 0.1 seconds\n",
    "    pellet_times_filtered = [x for x in pellet_times if x[1] > 12] #assuming 120 fps\n",
    "    return pellet_times_filtered\n",
    "def get_pellet_times(pellet_df, filter_function):\n",
    "    pellet_times = get_pellet_frames(pellet_df, filter_function)\n",
    "    return [(frame_to_time(x[0]), frame_to_time(x[1])) for x in pellet_times]\n",
    "pellet_times = get_pellet_times(pellet, is_near_dispenser)\n",
    "pellet_times"
   ]
  },
  {
   "cell_type": "code",
   "execution_count": 46,
   "metadata": {},
   "outputs": [],
   "source": [
    "def binary_search(p_times, r_time):\n",
    "    if len(p_times) == 1:\n",
    "        if (r_time[0] < p_times[0][0]) or (r_time[0] > p_times[0][0] + p_times[0][1]):\n",
    "            print(\"No Pellet There \" + str(p_times[0]))\n",
    "            return\n",
    "        return p_times[0]\n",
    "    elif r_time[0] > p_times[len(p_times)//2][0]:\n",
    "        return binary_search(p_times[len(p_times)//2:], r_time)\n",
    "    else:\n",
    "        return binary_search(p_times[:len(p_times)//2], r_time)"
   ]
  },
  {
   "cell_type": "code",
   "execution_count": 47,
   "metadata": {
    "scrolled": true
   },
   "outputs": [
    {
     "name": "stdout",
     "output_type": "stream",
     "text": [
      "(18.904, 0.15)\n",
      "(17.376, 1.595)\n",
      "(27.434, 0.116)\n",
      "(22.916, 5.507)\n",
      "(28.157, 0.241)\n",
      "(22.916, 5.507)\n",
      "(28.722, 0.282)\n",
      "No Pellet There (22.916, 5.507)\n",
      "None\n",
      "(30.333, 0.291)\n",
      "No Pellet There (22.916, 5.507)\n",
      "None\n",
      "(30.981, 0.399)\n",
      "No Pellet There (22.916, 5.507)\n",
      "None\n",
      "(33.423, 0.249)\n",
      "(32.559, 1.586)\n",
      "(34.088, 0.241)\n",
      "(32.559, 1.586)\n",
      "(34.827, 0.947)\n",
      "No Pellet There (32.559, 1.586)\n",
      "None\n",
      "(36.147, 0.174)\n",
      "No Pellet There (32.559, 1.586)\n",
      "None\n",
      "(44.935, 0.241)\n",
      "(39.777, 5.723)\n",
      "(45.658, 0.133)\n",
      "No Pellet There (39.777, 5.723)\n",
      "None\n",
      "(47.701, 0.341)\n",
      "(47.111, 0.947)\n",
      "(48.457, 0.357)\n",
      "No Pellet There (47.111, 0.947)\n",
      "None\n",
      "(51.023, 0.241)\n",
      "(50.085, 1.063)\n",
      "(68.499, 0.266)\n",
      "(68.474, 0.739)\n",
      "(69.138, 0.15)\n",
      "(68.474, 0.739)\n",
      "(75.135, 0.075)\n",
      "No Pellet There (68.474, 0.739)\n",
      "None\n",
      "(75.592, 0.108)\n",
      "(75.144, 0.482)\n",
      "(84.546, 0.158)\n",
      "(78.823, 6.454)\n",
      "(85.119, 0.141)\n",
      "(78.823, 6.454)\n",
      "(89.613, 0.249)\n",
      "(87.279, 2.384)\n",
      "(93.134, 0.108)\n",
      "(91.789, 1.412)\n",
      "(100.485, 0.075)\n",
      "(97.653, 2.899)\n",
      "(110.685, 0.166)\n",
      "(108.027, 3.297)\n",
      "(111.274, 0.133)\n",
      "(108.027, 3.297)\n",
      "(114.979, 0.058)\n",
      "(112.014, 3.032)\n",
      "(118.509, 0.091)\n",
      "(115.818, 2.807)\n",
      "(137.521, 0.1)\n",
      "(121.815, 15.756)\n",
      "(145.993, 0.042)\n",
      "(138.95, 7.185)\n",
      "(149.905, 0.116)\n",
      "(146.691, 5.025)\n",
      "(175.263, 0.158)\n",
      "(174.757, 0.698)\n"
     ]
    },
    {
     "data": {
      "text/plain": [
       "[(18.904, 0.15),\n",
       " (27.434, 0.116),\n",
       " (28.157, 0.241),\n",
       " (33.423, 0.249),\n",
       " (34.088, 0.241),\n",
       " (44.935, 0.241),\n",
       " (47.701, 0.341),\n",
       " (51.023, 0.241),\n",
       " (68.499, 0.266),\n",
       " (69.138, 0.15),\n",
       " (75.592, 0.108),\n",
       " (84.546, 0.158),\n",
       " (85.119, 0.141),\n",
       " (89.613, 0.249),\n",
       " (93.134, 0.108),\n",
       " (100.485, 0.075),\n",
       " (110.685, 0.166),\n",
       " (111.274, 0.133),\n",
       " (114.979, 0.058),\n",
       " (118.509, 0.091),\n",
       " (137.521, 0.1),\n",
       " (145.993, 0.042),\n",
       " (149.905, 0.116),\n",
       " (175.263, 0.158)]"
      ]
     },
     "execution_count": 47,
     "metadata": {},
     "output_type": "execute_result"
    }
   ],
   "source": [
    "def find_attempts(reaches, pellet_times):\n",
    "    attempts = []\n",
    "    for r in reaches:\n",
    "        print(r)\n",
    "        closest_pellet_time_before_reach = binary_search(pellet_times, r)\n",
    "        print(closest_pellet_time_before_reach)\n",
    "        if closest_pellet_time_before_reach is not None:\n",
    "            attempts.append(r)\n",
    "    return attempts\n",
    "find_attempts(reaches, pellet_times)"
   ]
  },
  {
   "cell_type": "markdown",
   "metadata": {},
   "source": [
    "## Trying to identify pellet position automatically"
   ]
  },
  {
   "cell_type": "code",
   "execution_count": 48,
   "metadata": {},
   "outputs": [
    {
     "data": {
      "text/plain": [
       "<matplotlib.axes._subplots.AxesSubplot at 0x1f55db0f898>"
      ]
     },
     "execution_count": 48,
     "metadata": {},
     "output_type": "execute_result"
    },
    {
     "data": {
      "image/png": "[encoded data removed]",
      "text/plain": [
       "<Figure size 432x288 with 1 Axes>"
      ]
     },
     "metadata": {
      "needs_background": "light"
     },
     "output_type": "display_data"
    }
   ],
   "source": [
    "x = pellet.diff()\n",
    "x = x[(x['x'] < 0.16) & (x['x'] > -0.16)]\n",
    "x = x[(x['y'] > 0) & (x['y'] < 0.3)]\n",
    "x.plot(kind='scatter', x = 'time', y='y')"
   ]
  },
  {
   "cell_type": "markdown",
   "metadata": {},
   "source": [
    "## Random Forest Generator"
   ]
  },
  {
   "cell_type": "code",
   "execution_count": 54,
   "metadata": {},
   "outputs": [
    {
     "name": "stdout",
     "output_type": "stream",
     "text": [
      "32\n",
      "no\n",
      "no\n",
      "33\n",
      "65\n",
      "66\n"
     ]
    }
   ],
   "source": [
    "import random\n",
    "reaches = get_reaches_frames(rightHand, is_near_dispenser)\n",
    "standardized_reaches = []\n",
    "df2 = df.reset_index()\n",
    "for x, y in reaches:\n",
    "    if abs(frame_to_time(x) - 105.593) < 0.2:\n",
    "        print('hi')\n",
    "        continue\n",
    "    rh = df2[(df2['index'] > x-3) & (df2['index'] < x + 10)]['rightHand'].values.flatten()\n",
    "    plt = df2[(df2['index'] > x-3) & (df2['index'] < x + 10)]['pellet'].values.flatten()\n",
    "    standardized_reaches.append(np.append(rh, plt))\n",
    "print(len(standardized_reaches))\n",
    "non_reaches = []\n",
    "random.seed(46)\n",
    "while len(non_reaches) < 33:\n",
    "    #hard code 3 non-reaches\n",
    "    frame = random.randint(10, 24000)\n",
    "    if len(non_reaches) == 0:\n",
    "        frame = 6224\n",
    "    elif len(non_reaches) == 1:\n",
    "        frame = 5578\n",
    "    elif len(non_reaches) == 2:\n",
    "        frame = 6501\n",
    "    too_close = False\n",
    "    for x, y in reaches:\n",
    "        if abs(frame - x) < 50:\n",
    "            print('no')\n",
    "            too_close = True\n",
    "            break\n",
    "    if not too_close:\n",
    "        rh = df2[(df2['index'] > frame-3) & (df2['index'] < frame + 10)]['rightHand'].values.flatten()\n",
    "        plt = df2[(df2['index'] > frame-3) & (df2['index'] < frame + 10)]['pellet'].values.flatten()\n",
    "        non_reaches.append(np.append(rh, plt))\n",
    "print(len(non_reaches))\n",
    "features = np.append(standardized_reaches, np.asarray(non_reaches), axis=0)\n",
    "print(len(features))\n",
    "labels = np.asarray([1 for x in range(33)] + [0 for y in range(33)])\n",
    "print(len(labels))"
   ]
  },
  {
   "cell_type": "code",
   "execution_count": 55,
   "metadata": {},
   "outputs": [],
   "source": [
    "def get_dataset(df, cols, start_frames, frames_before, frames_after):\n",
    "    dataframe = df[cols]\n",
    "    dataset = []\n",
    "    for start_f in start_frames:\n",
    "        temp_df = dataframe.iloc[start_f - frames_before: start_f + frames_after]\n",
    "        dataset.append(temp_df.values.flatten())\n",
    "    return np.asarray(dataset)"
   ]
  },
  {
   "cell_type": "code",
   "execution_count": 68,
   "metadata": {},
   "outputs": [
    {
     "name": "stdout",
     "output_type": "stream",
     "text": [
      "no\n",
      "no\n"
     ]
    },
    {
     "data": {
      "text/plain": [
       "array([[3.89914990e+02, 3.17166653e+02, 1.70877203e-01, ...,\n",
       "        3.80157985e+02, 2.27462409e+02, 9.99956369e-01],\n",
       "       [3.77553262e+02, 3.13437498e+02, 9.96952891e-01, ...,\n",
       "        3.80471783e+02, 3.04966409e+02, 9.99715388e-01],\n",
       "       [3.85287134e+02, 3.22473068e+02, 5.98986596e-02, ...,\n",
       "        3.83998644e+02, 3.10842820e+02, 9.99773443e-01],\n",
       "       ...,\n",
       "       [3.88400088e+02, 2.95530093e+02, 9.91227567e-01, ...,\n",
       "        3.85495440e+02, 2.80104854e+02, 9.99926448e-01],\n",
       "       [3.88623170e+02, 2.95277969e+02, 9.99619126e-01, ...,\n",
       "        3.94124940e+02, 2.68065102e+02, 9.99262154e-01],\n",
       "       [3.86887105e+02, 3.05060321e+02, 9.42608774e-01, ...,\n",
       "        4.12836964e+02, 2.05441885e+02, 9.96645510e-01]])"
      ]
     },
     "execution_count": 68,
     "metadata": {},
     "output_type": "execute_result"
    }
   ],
   "source": [
    "non_reaches = []\n",
    "random.seed(46)\n",
    "while len(non_reaches) < 32:\n",
    "    #hard code 3 non-reaches\n",
    "    frame = random.randint(10, 24000)\n",
    "    if len(non_reaches) == 0:\n",
    "        frame = 6224\n",
    "    elif len(non_reaches) == 1:\n",
    "        frame = 5578\n",
    "    elif len(non_reaches) == 2:\n",
    "        frame = 6501\n",
    "    too_close = False\n",
    "    for start_time, length in reaches:\n",
    "        if abs(frame - start_time) < 50:\n",
    "            print('no')\n",
    "            too_close = True\n",
    "            break\n",
    "    if not too_close:\n",
    "        non_reaches.append(frame)\n",
    "        \n",
    "reach_data = get_dataset(df2, ['rightHand', 'pellet', 'Nose'], [x for x, y in get_reaches_frames(rightHand, is_near_dispenser)], 3, 120)\n",
    "non_reach_data = get_dataset(df2, ['rightHand', 'pellet', 'Nose'], non_reaches, 3, 120)\n",
    "features = np.append(reach_data, non_reach_data, axis = 0)\n",
    "labels = np.asarray([1 for i in range(len(reach_data))] + [0 for i in range(len(non_reach_data))])\n",
    "reach_data"
   ]
  },
  {
   "cell_type": "code",
   "execution_count": 66,
   "metadata": {
    "scrolled": false
   },
   "outputs": [
    {
     "name": "stdout",
     "output_type": "stream",
     "text": [
      "Training Features Shape: (48, 1107)\n",
      "Training Labels Shape: (48,)\n",
      "Testing Features Shape: (16, 1107)\n",
      "Testing Labels Shape: (16,)\n",
      "[1 1 1 0 0 0 0 0 1 1 0 1 1 1 1 0]\n",
      "[1 1 1 0 0 0 0 0 1 1 0 1 1 1 1 0]\n",
      "Mean Absolute Error: 0.0 degrees.\n",
      "Accuracy: 100.0 %.\n",
      "Training Features Shape: (48, 1107)\n",
      "Training Labels Shape: (48,)\n",
      "Testing Features Shape: (16, 1107)\n",
      "Testing Labels Shape: (16,)\n",
      "[0 1 0 0 0 0 1 0 1 0 1 1 1 1 0 1]\n",
      "[0 1 0 0 0 0 1 0 1 0 1 1 1 1 0 1]\n",
      "Mean Absolute Error: 0.0 degrees.\n",
      "Accuracy: 100.0 %.\n",
      "Training Features Shape: (48, 1107)\n",
      "Training Labels Shape: (48,)\n",
      "Testing Features Shape: (16, 1107)\n",
      "Testing Labels Shape: (16,)\n",
      "[1 0 0 1 0 1 1 0 0 1 0 0 0 1 0 0]\n",
      "[1 0 0 1 0 1 1 0 0 0 0 0 0 1 0 0]\n",
      "Mean Absolute Error: 0.06 degrees.\n",
      "Accuracy: 93.75 %.\n",
      "Training Features Shape: (48, 1107)\n",
      "Training Labels Shape: (48,)\n",
      "Testing Features Shape: (16, 1107)\n",
      "Testing Labels Shape: (16,)\n",
      "[0 1 1 0 1 0 0 1 0 1 1 1 0 1 1 1]\n",
      "[0 1 0 0 1 0 0 1 0 0 1 1 0 1 1 1]\n",
      "Mean Absolute Error: 0.12 degrees.\n",
      "Accuracy: 87.5 %.\n",
      "Training Features Shape: (48, 1107)\n",
      "Training Labels Shape: (48,)\n",
      "Testing Features Shape: (16, 1107)\n",
      "Testing Labels Shape: (16,)\n"
     ]
    },
    {
     "ename": "KeyboardInterrupt",
     "evalue": "",
     "output_type": "error",
     "traceback": [
      "\u001b[1;31m---------------------------------------------------------------------------\u001b[0m",
      "\u001b[1;31mKeyboardInterrupt\u001b[0m                         Traceback (most recent call last)",
      "\u001b[1;32m<ipython-input-66-c3dd695a3ac9>\u001b[0m in \u001b[0;36m<module>\u001b[1;34m()\u001b[0m\n\u001b[0;32m     30\u001b[0m \u001b[0mreach_classifier\u001b[0m \u001b[1;33m=\u001b[0m \u001b[0mcreate_classifier\u001b[0m\u001b[1;33m(\u001b[0m\u001b[0mfeatures\u001b[0m\u001b[1;33m,\u001b[0m \u001b[0mlabels\u001b[0m\u001b[1;33m,\u001b[0m \u001b[1;36m0.25\u001b[0m\u001b[1;33m,\u001b[0m \u001b[1;36m76462\u001b[0m\u001b[1;33m,\u001b[0m \u001b[1;36m1000\u001b[0m\u001b[1;33m)\u001b[0m\u001b[1;33m[\u001b[0m\u001b[1;36m0\u001b[0m\u001b[1;33m]\u001b[0m\u001b[1;33m\u001b[0m\u001b[0m\n\u001b[0;32m     31\u001b[0m \u001b[1;32mfor\u001b[0m \u001b[0mi\u001b[0m \u001b[1;32min\u001b[0m \u001b[0mrange\u001b[0m\u001b[1;33m(\u001b[0m\u001b[1;36m100\u001b[0m\u001b[1;33m)\u001b[0m\u001b[1;33m:\u001b[0m\u001b[1;33m\u001b[0m\u001b[0m\n\u001b[1;32m---> 32\u001b[1;33m     \u001b[0mtotal_accuracy\u001b[0m \u001b[1;33m+=\u001b[0m \u001b[0mcreate_classifier\u001b[0m\u001b[1;33m(\u001b[0m\u001b[0mfeatures\u001b[0m\u001b[1;33m,\u001b[0m \u001b[0mlabels\u001b[0m\u001b[1;33m,\u001b[0m \u001b[1;36m0.25\u001b[0m\u001b[1;33m,\u001b[0m \u001b[0mi\u001b[0m\u001b[1;33m,\u001b[0m \u001b[1;36m1000\u001b[0m\u001b[1;33m)\u001b[0m\u001b[1;33m[\u001b[0m\u001b[1;36m1\u001b[0m\u001b[1;33m]\u001b[0m\u001b[1;33m\u001b[0m\u001b[0m\n\u001b[0m\u001b[0;32m     33\u001b[0m \u001b[0mprint\u001b[0m\u001b[1;33m(\u001b[0m\u001b[0mtotal_accuracy\u001b[0m\u001b[1;33m/\u001b[0m\u001b[1;36m100\u001b[0m\u001b[1;33m)\u001b[0m\u001b[1;33m\u001b[0m\u001b[0m\n",
      "\u001b[1;32m<ipython-input-66-c3dd695a3ac9>\u001b[0m in \u001b[0;36mcreate_classifier\u001b[1;34m(features, labels, test_proportion, random_seed, n_trees)\u001b[0m\n\u001b[0;32m     13\u001b[0m     \u001b[0mrf\u001b[0m \u001b[1;33m=\u001b[0m \u001b[0mRandomForestClassifier\u001b[0m\u001b[1;33m(\u001b[0m\u001b[0mn_estimators\u001b[0m \u001b[1;33m=\u001b[0m \u001b[0mn_trees\u001b[0m\u001b[1;33m,\u001b[0m \u001b[0mrandom_state\u001b[0m \u001b[1;33m=\u001b[0m \u001b[0mrandom_seed\u001b[0m\u001b[1;33m)\u001b[0m\u001b[1;33m\u001b[0m\u001b[0m\n\u001b[0;32m     14\u001b[0m     \u001b[1;31m# Train the model on training data\u001b[0m\u001b[1;33m\u001b[0m\u001b[1;33m\u001b[0m\u001b[0m\n\u001b[1;32m---> 15\u001b[1;33m     \u001b[0mrf\u001b[0m\u001b[1;33m.\u001b[0m\u001b[0mfit\u001b[0m\u001b[1;33m(\u001b[0m\u001b[0mtrain_features\u001b[0m\u001b[1;33m,\u001b[0m \u001b[0mtrain_labels\u001b[0m\u001b[1;33m)\u001b[0m\u001b[1;33m\u001b[0m\u001b[0m\n\u001b[0m\u001b[0;32m     16\u001b[0m     \u001b[1;31m# Use the forest's predict method on the test data\u001b[0m\u001b[1;33m\u001b[0m\u001b[1;33m\u001b[0m\u001b[0m\n\u001b[0;32m     17\u001b[0m     \u001b[0mpredictions\u001b[0m \u001b[1;33m=\u001b[0m \u001b[0mrf\u001b[0m\u001b[1;33m.\u001b[0m\u001b[0mpredict\u001b[0m\u001b[1;33m(\u001b[0m\u001b[0mtest_features\u001b[0m\u001b[1;33m)\u001b[0m\u001b[1;33m\u001b[0m\u001b[0m\n",
      "\u001b[1;32mC:\\Users\\vjj14\\.conda\\envs\\dlc-windowsGPU\\lib\\site-packages\\sklearn\\ensemble\\forest.py\u001b[0m in \u001b[0;36mfit\u001b[1;34m(self, X, y, sample_weight)\u001b[0m\n\u001b[0;32m    326\u001b[0m                     \u001b[0mt\u001b[0m\u001b[1;33m,\u001b[0m \u001b[0mself\u001b[0m\u001b[1;33m,\u001b[0m \u001b[0mX\u001b[0m\u001b[1;33m,\u001b[0m \u001b[0my\u001b[0m\u001b[1;33m,\u001b[0m \u001b[0msample_weight\u001b[0m\u001b[1;33m,\u001b[0m \u001b[0mi\u001b[0m\u001b[1;33m,\u001b[0m \u001b[0mlen\u001b[0m\u001b[1;33m(\u001b[0m\u001b[0mtrees\u001b[0m\u001b[1;33m)\u001b[0m\u001b[1;33m,\u001b[0m\u001b[1;33m\u001b[0m\u001b[0m\n\u001b[0;32m    327\u001b[0m                     verbose=self.verbose, class_weight=self.class_weight)\n\u001b[1;32m--> 328\u001b[1;33m                 for i, t in enumerate(trees))\n\u001b[0m\u001b[0;32m    329\u001b[0m \u001b[1;33m\u001b[0m\u001b[0m\n\u001b[0;32m    330\u001b[0m             \u001b[1;31m# Collect newly grown trees\u001b[0m\u001b[1;33m\u001b[0m\u001b[1;33m\u001b[0m\u001b[0m\n",
      "\u001b[1;32mC:\\Users\\vjj14\\.conda\\envs\\dlc-windowsGPU\\lib\\site-packages\\sklearn\\externals\\joblib\\parallel.py\u001b[0m in \u001b[0;36m__call__\u001b[1;34m(self, iterable)\u001b[0m\n\u001b[0;32m    777\u001b[0m             \u001b[1;31m# was dispatched. In particular this covers the edge\u001b[0m\u001b[1;33m\u001b[0m\u001b[1;33m\u001b[0m\u001b[0m\n\u001b[0;32m    778\u001b[0m             \u001b[1;31m# case of Parallel used with an exhausted iterator.\u001b[0m\u001b[1;33m\u001b[0m\u001b[1;33m\u001b[0m\u001b[0m\n\u001b[1;32m--> 779\u001b[1;33m             \u001b[1;32mwhile\u001b[0m \u001b[0mself\u001b[0m\u001b[1;33m.\u001b[0m\u001b[0mdispatch_one_batch\u001b[0m\u001b[1;33m(\u001b[0m\u001b[0miterator\u001b[0m\u001b[1;33m)\u001b[0m\u001b[1;33m:\u001b[0m\u001b[1;33m\u001b[0m\u001b[0m\n\u001b[0m\u001b[0;32m    780\u001b[0m                 \u001b[0mself\u001b[0m\u001b[1;33m.\u001b[0m\u001b[0m_iterating\u001b[0m \u001b[1;33m=\u001b[0m \u001b[1;32mTrue\u001b[0m\u001b[1;33m\u001b[0m\u001b[0m\n\u001b[0;32m    781\u001b[0m             \u001b[1;32melse\u001b[0m\u001b[1;33m:\u001b[0m\u001b[1;33m\u001b[0m\u001b[0m\n",
      "\u001b[1;32mC:\\Users\\vjj14\\.conda\\envs\\dlc-windowsGPU\\lib\\site-packages\\sklearn\\externals\\joblib\\parallel.py\u001b[0m in \u001b[0;36mdispatch_one_batch\u001b[1;34m(self, iterator)\u001b[0m\n\u001b[0;32m    623\u001b[0m                 \u001b[1;32mreturn\u001b[0m \u001b[1;32mFalse\u001b[0m\u001b[1;33m\u001b[0m\u001b[0m\n\u001b[0;32m    624\u001b[0m             \u001b[1;32melse\u001b[0m\u001b[1;33m:\u001b[0m\u001b[1;33m\u001b[0m\u001b[0m\n\u001b[1;32m--> 625\u001b[1;33m                 \u001b[0mself\u001b[0m\u001b[1;33m.\u001b[0m\u001b[0m_dispatch\u001b[0m\u001b[1;33m(\u001b[0m\u001b[0mtasks\u001b[0m\u001b[1;33m)\u001b[0m\u001b[1;33m\u001b[0m\u001b[0m\n\u001b[0m\u001b[0;32m    626\u001b[0m                 \u001b[1;32mreturn\u001b[0m \u001b[1;32mTrue\u001b[0m\u001b[1;33m\u001b[0m\u001b[0m\n\u001b[0;32m    627\u001b[0m \u001b[1;33m\u001b[0m\u001b[0m\n",
      "\u001b[1;32mC:\\Users\\vjj14\\.conda\\envs\\dlc-windowsGPU\\lib\\site-packages\\sklearn\\externals\\joblib\\parallel.py\u001b[0m in \u001b[0;36m_dispatch\u001b[1;34m(self, batch)\u001b[0m\n\u001b[0;32m    586\u001b[0m         \u001b[0mdispatch_timestamp\u001b[0m \u001b[1;33m=\u001b[0m \u001b[0mtime\u001b[0m\u001b[1;33m.\u001b[0m\u001b[0mtime\u001b[0m\u001b[1;33m(\u001b[0m\u001b[1;33m)\u001b[0m\u001b[1;33m\u001b[0m\u001b[0m\n\u001b[0;32m    587\u001b[0m         \u001b[0mcb\u001b[0m \u001b[1;33m=\u001b[0m \u001b[0mBatchCompletionCallBack\u001b[0m\u001b[1;33m(\u001b[0m\u001b[0mdispatch_timestamp\u001b[0m\u001b[1;33m,\u001b[0m \u001b[0mlen\u001b[0m\u001b[1;33m(\u001b[0m\u001b[0mbatch\u001b[0m\u001b[1;33m)\u001b[0m\u001b[1;33m,\u001b[0m \u001b[0mself\u001b[0m\u001b[1;33m)\u001b[0m\u001b[1;33m\u001b[0m\u001b[0m\n\u001b[1;32m--> 588\u001b[1;33m         \u001b[0mjob\u001b[0m \u001b[1;33m=\u001b[0m \u001b[0mself\u001b[0m\u001b[1;33m.\u001b[0m\u001b[0m_backend\u001b[0m\u001b[1;33m.\u001b[0m\u001b[0mapply_async\u001b[0m\u001b[1;33m(\u001b[0m\u001b[0mbatch\u001b[0m\u001b[1;33m,\u001b[0m \u001b[0mcallback\u001b[0m\u001b[1;33m=\u001b[0m\u001b[0mcb\u001b[0m\u001b[1;33m)\u001b[0m\u001b[1;33m\u001b[0m\u001b[0m\n\u001b[0m\u001b[0;32m    589\u001b[0m         \u001b[0mself\u001b[0m\u001b[1;33m.\u001b[0m\u001b[0m_jobs\u001b[0m\u001b[1;33m.\u001b[0m\u001b[0mappend\u001b[0m\u001b[1;33m(\u001b[0m\u001b[0mjob\u001b[0m\u001b[1;33m)\u001b[0m\u001b[1;33m\u001b[0m\u001b[0m\n\u001b[0;32m    590\u001b[0m \u001b[1;33m\u001b[0m\u001b[0m\n",
      "\u001b[1;32mC:\\Users\\vjj14\\.conda\\envs\\dlc-windowsGPU\\lib\\site-packages\\sklearn\\externals\\joblib\\_parallel_backends.py\u001b[0m in \u001b[0;36mapply_async\u001b[1;34m(self, func, callback)\u001b[0m\n\u001b[0;32m    109\u001b[0m     \u001b[1;32mdef\u001b[0m \u001b[0mapply_async\u001b[0m\u001b[1;33m(\u001b[0m\u001b[0mself\u001b[0m\u001b[1;33m,\u001b[0m \u001b[0mfunc\u001b[0m\u001b[1;33m,\u001b[0m \u001b[0mcallback\u001b[0m\u001b[1;33m=\u001b[0m\u001b[1;32mNone\u001b[0m\u001b[1;33m)\u001b[0m\u001b[1;33m:\u001b[0m\u001b[1;33m\u001b[0m\u001b[0m\n\u001b[0;32m    110\u001b[0m         \u001b[1;34m\"\"\"Schedule a func to be run\"\"\"\u001b[0m\u001b[1;33m\u001b[0m\u001b[0m\n\u001b[1;32m--> 111\u001b[1;33m         \u001b[0mresult\u001b[0m \u001b[1;33m=\u001b[0m \u001b[0mImmediateResult\u001b[0m\u001b[1;33m(\u001b[0m\u001b[0mfunc\u001b[0m\u001b[1;33m)\u001b[0m\u001b[1;33m\u001b[0m\u001b[0m\n\u001b[0m\u001b[0;32m    112\u001b[0m         \u001b[1;32mif\u001b[0m \u001b[0mcallback\u001b[0m\u001b[1;33m:\u001b[0m\u001b[1;33m\u001b[0m\u001b[0m\n\u001b[0;32m    113\u001b[0m             \u001b[0mcallback\u001b[0m\u001b[1;33m(\u001b[0m\u001b[0mresult\u001b[0m\u001b[1;33m)\u001b[0m\u001b[1;33m\u001b[0m\u001b[0m\n",
      "\u001b[1;32mC:\\Users\\vjj14\\.conda\\envs\\dlc-windowsGPU\\lib\\site-packages\\sklearn\\externals\\joblib\\_parallel_backends.py\u001b[0m in \u001b[0;36m__init__\u001b[1;34m(self, batch)\u001b[0m\n\u001b[0;32m    330\u001b[0m         \u001b[1;31m# Don't delay the application, to avoid keeping the input\u001b[0m\u001b[1;33m\u001b[0m\u001b[1;33m\u001b[0m\u001b[0m\n\u001b[0;32m    331\u001b[0m         \u001b[1;31m# arguments in memory\u001b[0m\u001b[1;33m\u001b[0m\u001b[1;33m\u001b[0m\u001b[0m\n\u001b[1;32m--> 332\u001b[1;33m         \u001b[0mself\u001b[0m\u001b[1;33m.\u001b[0m\u001b[0mresults\u001b[0m \u001b[1;33m=\u001b[0m \u001b[0mbatch\u001b[0m\u001b[1;33m(\u001b[0m\u001b[1;33m)\u001b[0m\u001b[1;33m\u001b[0m\u001b[0m\n\u001b[0m\u001b[0;32m    333\u001b[0m \u001b[1;33m\u001b[0m\u001b[0m\n\u001b[0;32m    334\u001b[0m     \u001b[1;32mdef\u001b[0m \u001b[0mget\u001b[0m\u001b[1;33m(\u001b[0m\u001b[0mself\u001b[0m\u001b[1;33m)\u001b[0m\u001b[1;33m:\u001b[0m\u001b[1;33m\u001b[0m\u001b[0m\n",
      "\u001b[1;32mC:\\Users\\vjj14\\.conda\\envs\\dlc-windowsGPU\\lib\\site-packages\\sklearn\\externals\\joblib\\parallel.py\u001b[0m in \u001b[0;36m__call__\u001b[1;34m(self)\u001b[0m\n\u001b[0;32m    129\u001b[0m \u001b[1;33m\u001b[0m\u001b[0m\n\u001b[0;32m    130\u001b[0m     \u001b[1;32mdef\u001b[0m \u001b[0m__call__\u001b[0m\u001b[1;33m(\u001b[0m\u001b[0mself\u001b[0m\u001b[1;33m)\u001b[0m\u001b[1;33m:\u001b[0m\u001b[1;33m\u001b[0m\u001b[0m\n\u001b[1;32m--> 131\u001b[1;33m         \u001b[1;32mreturn\u001b[0m \u001b[1;33m[\u001b[0m\u001b[0mfunc\u001b[0m\u001b[1;33m(\u001b[0m\u001b[1;33m*\u001b[0m\u001b[0margs\u001b[0m\u001b[1;33m,\u001b[0m \u001b[1;33m**\u001b[0m\u001b[0mkwargs\u001b[0m\u001b[1;33m)\u001b[0m \u001b[1;32mfor\u001b[0m \u001b[0mfunc\u001b[0m\u001b[1;33m,\u001b[0m \u001b[0margs\u001b[0m\u001b[1;33m,\u001b[0m \u001b[0mkwargs\u001b[0m \u001b[1;32min\u001b[0m \u001b[0mself\u001b[0m\u001b[1;33m.\u001b[0m\u001b[0mitems\u001b[0m\u001b[1;33m]\u001b[0m\u001b[1;33m\u001b[0m\u001b[0m\n\u001b[0m\u001b[0;32m    132\u001b[0m \u001b[1;33m\u001b[0m\u001b[0m\n\u001b[0;32m    133\u001b[0m     \u001b[1;32mdef\u001b[0m \u001b[0m__len__\u001b[0m\u001b[1;33m(\u001b[0m\u001b[0mself\u001b[0m\u001b[1;33m)\u001b[0m\u001b[1;33m:\u001b[0m\u001b[1;33m\u001b[0m\u001b[0m\n",
      "\u001b[1;32mC:\\Users\\vjj14\\.conda\\envs\\dlc-windowsGPU\\lib\\site-packages\\sklearn\\externals\\joblib\\parallel.py\u001b[0m in \u001b[0;36m<listcomp>\u001b[1;34m(.0)\u001b[0m\n\u001b[0;32m    129\u001b[0m \u001b[1;33m\u001b[0m\u001b[0m\n\u001b[0;32m    130\u001b[0m     \u001b[1;32mdef\u001b[0m \u001b[0m__call__\u001b[0m\u001b[1;33m(\u001b[0m\u001b[0mself\u001b[0m\u001b[1;33m)\u001b[0m\u001b[1;33m:\u001b[0m\u001b[1;33m\u001b[0m\u001b[0m\n\u001b[1;32m--> 131\u001b[1;33m         \u001b[1;32mreturn\u001b[0m \u001b[1;33m[\u001b[0m\u001b[0mfunc\u001b[0m\u001b[1;33m(\u001b[0m\u001b[1;33m*\u001b[0m\u001b[0margs\u001b[0m\u001b[1;33m,\u001b[0m \u001b[1;33m**\u001b[0m\u001b[0mkwargs\u001b[0m\u001b[1;33m)\u001b[0m \u001b[1;32mfor\u001b[0m \u001b[0mfunc\u001b[0m\u001b[1;33m,\u001b[0m \u001b[0margs\u001b[0m\u001b[1;33m,\u001b[0m \u001b[0mkwargs\u001b[0m \u001b[1;32min\u001b[0m \u001b[0mself\u001b[0m\u001b[1;33m.\u001b[0m\u001b[0mitems\u001b[0m\u001b[1;33m]\u001b[0m\u001b[1;33m\u001b[0m\u001b[0m\n\u001b[0m\u001b[0;32m    132\u001b[0m \u001b[1;33m\u001b[0m\u001b[0m\n\u001b[0;32m    133\u001b[0m     \u001b[1;32mdef\u001b[0m \u001b[0m__len__\u001b[0m\u001b[1;33m(\u001b[0m\u001b[0mself\u001b[0m\u001b[1;33m)\u001b[0m\u001b[1;33m:\u001b[0m\u001b[1;33m\u001b[0m\u001b[0m\n",
      "\u001b[1;32mC:\\Users\\vjj14\\.conda\\envs\\dlc-windowsGPU\\lib\\site-packages\\sklearn\\ensemble\\forest.py\u001b[0m in \u001b[0;36m_parallel_build_trees\u001b[1;34m(tree, forest, X, y, sample_weight, tree_idx, n_trees, verbose, class_weight)\u001b[0m\n\u001b[0;32m    119\u001b[0m             \u001b[0mcurr_sample_weight\u001b[0m \u001b[1;33m*=\u001b[0m \u001b[0mcompute_sample_weight\u001b[0m\u001b[1;33m(\u001b[0m\u001b[1;34m'balanced'\u001b[0m\u001b[1;33m,\u001b[0m \u001b[0my\u001b[0m\u001b[1;33m,\u001b[0m \u001b[0mindices\u001b[0m\u001b[1;33m)\u001b[0m\u001b[1;33m\u001b[0m\u001b[0m\n\u001b[0;32m    120\u001b[0m \u001b[1;33m\u001b[0m\u001b[0m\n\u001b[1;32m--> 121\u001b[1;33m         \u001b[0mtree\u001b[0m\u001b[1;33m.\u001b[0m\u001b[0mfit\u001b[0m\u001b[1;33m(\u001b[0m\u001b[0mX\u001b[0m\u001b[1;33m,\u001b[0m \u001b[0my\u001b[0m\u001b[1;33m,\u001b[0m \u001b[0msample_weight\u001b[0m\u001b[1;33m=\u001b[0m\u001b[0mcurr_sample_weight\u001b[0m\u001b[1;33m,\u001b[0m \u001b[0mcheck_input\u001b[0m\u001b[1;33m=\u001b[0m\u001b[1;32mFalse\u001b[0m\u001b[1;33m)\u001b[0m\u001b[1;33m\u001b[0m\u001b[0m\n\u001b[0m\u001b[0;32m    122\u001b[0m     \u001b[1;32melse\u001b[0m\u001b[1;33m:\u001b[0m\u001b[1;33m\u001b[0m\u001b[0m\n\u001b[0;32m    123\u001b[0m         \u001b[0mtree\u001b[0m\u001b[1;33m.\u001b[0m\u001b[0mfit\u001b[0m\u001b[1;33m(\u001b[0m\u001b[0mX\u001b[0m\u001b[1;33m,\u001b[0m \u001b[0my\u001b[0m\u001b[1;33m,\u001b[0m \u001b[0msample_weight\u001b[0m\u001b[1;33m=\u001b[0m\u001b[0msample_weight\u001b[0m\u001b[1;33m,\u001b[0m \u001b[0mcheck_input\u001b[0m\u001b[1;33m=\u001b[0m\u001b[1;32mFalse\u001b[0m\u001b[1;33m)\u001b[0m\u001b[1;33m\u001b[0m\u001b[0m\n",
      "\u001b[1;32mC:\\Users\\vjj14\\.conda\\envs\\dlc-windowsGPU\\lib\\site-packages\\sklearn\\tree\\tree.py\u001b[0m in \u001b[0;36mfit\u001b[1;34m(self, X, y, sample_weight, check_input, X_idx_sorted)\u001b[0m\n\u001b[0;32m    788\u001b[0m             \u001b[0msample_weight\u001b[0m\u001b[1;33m=\u001b[0m\u001b[0msample_weight\u001b[0m\u001b[1;33m,\u001b[0m\u001b[1;33m\u001b[0m\u001b[0m\n\u001b[0;32m    789\u001b[0m             \u001b[0mcheck_input\u001b[0m\u001b[1;33m=\u001b[0m\u001b[0mcheck_input\u001b[0m\u001b[1;33m,\u001b[0m\u001b[1;33m\u001b[0m\u001b[0m\n\u001b[1;32m--> 790\u001b[1;33m             X_idx_sorted=X_idx_sorted)\n\u001b[0m\u001b[0;32m    791\u001b[0m         \u001b[1;32mreturn\u001b[0m \u001b[0mself\u001b[0m\u001b[1;33m\u001b[0m\u001b[0m\n\u001b[0;32m    792\u001b[0m \u001b[1;33m\u001b[0m\u001b[0m\n",
      "\u001b[1;32mC:\\Users\\vjj14\\.conda\\envs\\dlc-windowsGPU\\lib\\site-packages\\sklearn\\tree\\tree.py\u001b[0m in \u001b[0;36mfit\u001b[1;34m(self, X, y, sample_weight, check_input, X_idx_sorted)\u001b[0m\n\u001b[0;32m    150\u001b[0m             \u001b[1;32mfor\u001b[0m \u001b[0mk\u001b[0m \u001b[1;32min\u001b[0m \u001b[0mrange\u001b[0m\u001b[1;33m(\u001b[0m\u001b[0mself\u001b[0m\u001b[1;33m.\u001b[0m\u001b[0mn_outputs_\u001b[0m\u001b[1;33m)\u001b[0m\u001b[1;33m:\u001b[0m\u001b[1;33m\u001b[0m\u001b[0m\n\u001b[0;32m    151\u001b[0m                 classes_k, y_encoded[:, k] = np.unique(y[:, k],\n\u001b[1;32m--> 152\u001b[1;33m                                                        return_inverse=True)\n\u001b[0m\u001b[0;32m    153\u001b[0m                 \u001b[0mself\u001b[0m\u001b[1;33m.\u001b[0m\u001b[0mclasses_\u001b[0m\u001b[1;33m.\u001b[0m\u001b[0mappend\u001b[0m\u001b[1;33m(\u001b[0m\u001b[0mclasses_k\u001b[0m\u001b[1;33m)\u001b[0m\u001b[1;33m\u001b[0m\u001b[0m\n\u001b[0;32m    154\u001b[0m                 \u001b[0mself\u001b[0m\u001b[1;33m.\u001b[0m\u001b[0mn_classes_\u001b[0m\u001b[1;33m.\u001b[0m\u001b[0mappend\u001b[0m\u001b[1;33m(\u001b[0m\u001b[0mclasses_k\u001b[0m\u001b[1;33m.\u001b[0m\u001b[0mshape\u001b[0m\u001b[1;33m[\u001b[0m\u001b[1;36m0\u001b[0m\u001b[1;33m]\u001b[0m\u001b[1;33m)\u001b[0m\u001b[1;33m\u001b[0m\u001b[0m\n",
      "\u001b[1;32mC:\\Users\\vjj14\\.conda\\envs\\dlc-windowsGPU\\lib\\site-packages\\numpy\\lib\\arraysetops.py\u001b[0m in \u001b[0;36munique\u001b[1;34m(ar, return_index, return_inverse, return_counts, axis)\u001b[0m\n\u001b[0;32m    221\u001b[0m     \u001b[0mar\u001b[0m \u001b[1;33m=\u001b[0m \u001b[0mnp\u001b[0m\u001b[1;33m.\u001b[0m\u001b[0masanyarray\u001b[0m\u001b[1;33m(\u001b[0m\u001b[0mar\u001b[0m\u001b[1;33m)\u001b[0m\u001b[1;33m\u001b[0m\u001b[0m\n\u001b[0;32m    222\u001b[0m     \u001b[1;32mif\u001b[0m \u001b[0maxis\u001b[0m \u001b[1;32mis\u001b[0m \u001b[1;32mNone\u001b[0m\u001b[1;33m:\u001b[0m\u001b[1;33m\u001b[0m\u001b[0m\n\u001b[1;32m--> 223\u001b[1;33m         \u001b[1;32mreturn\u001b[0m \u001b[0m_unique1d\u001b[0m\u001b[1;33m(\u001b[0m\u001b[0mar\u001b[0m\u001b[1;33m,\u001b[0m \u001b[0mreturn_index\u001b[0m\u001b[1;33m,\u001b[0m \u001b[0mreturn_inverse\u001b[0m\u001b[1;33m,\u001b[0m \u001b[0mreturn_counts\u001b[0m\u001b[1;33m)\u001b[0m\u001b[1;33m\u001b[0m\u001b[0m\n\u001b[0m\u001b[0;32m    224\u001b[0m     \u001b[1;32mif\u001b[0m \u001b[1;32mnot\u001b[0m \u001b[1;33m(\u001b[0m\u001b[1;33m-\u001b[0m\u001b[0mar\u001b[0m\u001b[1;33m.\u001b[0m\u001b[0mndim\u001b[0m \u001b[1;33m<=\u001b[0m \u001b[0maxis\u001b[0m \u001b[1;33m<\u001b[0m \u001b[0mar\u001b[0m\u001b[1;33m.\u001b[0m\u001b[0mndim\u001b[0m\u001b[1;33m)\u001b[0m\u001b[1;33m:\u001b[0m\u001b[1;33m\u001b[0m\u001b[0m\n\u001b[0;32m    225\u001b[0m         \u001b[1;32mraise\u001b[0m \u001b[0mValueError\u001b[0m\u001b[1;33m(\u001b[0m\u001b[1;34m'Invalid axis kwarg specified for unique'\u001b[0m\u001b[1;33m)\u001b[0m\u001b[1;33m\u001b[0m\u001b[0m\n",
      "\u001b[1;32mC:\\Users\\vjj14\\.conda\\envs\\dlc-windowsGPU\\lib\\site-packages\\numpy\\lib\\arraysetops.py\u001b[0m in \u001b[0;36m_unique1d\u001b[1;34m(ar, return_index, return_inverse, return_counts)\u001b[0m\n\u001b[0;32m    278\u001b[0m \u001b[1;33m\u001b[0m\u001b[0m\n\u001b[0;32m    279\u001b[0m     \u001b[1;32mif\u001b[0m \u001b[0moptional_indices\u001b[0m\u001b[1;33m:\u001b[0m\u001b[1;33m\u001b[0m\u001b[0m\n\u001b[1;32m--> 280\u001b[1;33m         \u001b[0mperm\u001b[0m \u001b[1;33m=\u001b[0m \u001b[0mar\u001b[0m\u001b[1;33m.\u001b[0m\u001b[0margsort\u001b[0m\u001b[1;33m(\u001b[0m\u001b[0mkind\u001b[0m\u001b[1;33m=\u001b[0m\u001b[1;34m'mergesort'\u001b[0m \u001b[1;32mif\u001b[0m \u001b[0mreturn_index\u001b[0m \u001b[1;32melse\u001b[0m \u001b[1;34m'quicksort'\u001b[0m\u001b[1;33m)\u001b[0m\u001b[1;33m\u001b[0m\u001b[0m\n\u001b[0m\u001b[0;32m    281\u001b[0m         \u001b[0maux\u001b[0m \u001b[1;33m=\u001b[0m \u001b[0mar\u001b[0m\u001b[1;33m[\u001b[0m\u001b[0mperm\u001b[0m\u001b[1;33m]\u001b[0m\u001b[1;33m\u001b[0m\u001b[0m\n\u001b[0;32m    282\u001b[0m     \u001b[1;32melse\u001b[0m\u001b[1;33m:\u001b[0m\u001b[1;33m\u001b[0m\u001b[0m\n",
      "\u001b[1;31mKeyboardInterrupt\u001b[0m: "
     ]
    }
   ],
   "source": [
    "# Using Skicit-learn to split data into training and testing sets\n",
    "from sklearn.model_selection import train_test_split\n",
    "# Import the model we are using\n",
    "from sklearn.ensemble import RandomForestClassifier\n",
    "# Split the data into training and testing sets\n",
    "total_accuracy = 0\n",
    "def create_classifier(features, labels, test_proportion, random_seed, n_trees):\n",
    "    train_features, test_features, train_labels, test_labels = train_test_split(features, labels, test_size = test_proportion, random_state = random_seed)\n",
    "    print('Training Features Shape:', train_features.shape)\n",
    "    print('Training Labels Shape:', train_labels.shape)\n",
    "    print('Testing Features Shape:', test_features.shape)\n",
    "    print('Testing Labels Shape:', test_labels.shape)\n",
    "    rf = RandomForestClassifier(n_estimators = n_trees, random_state = random_seed)\n",
    "    # Train the model on training data\n",
    "    rf.fit(train_features, train_labels)\n",
    "    # Use the forest's predict method on the test data\n",
    "    predictions = rf.predict(test_features)\n",
    "    print(predictions)\n",
    "    print(test_labels)\n",
    "    # Calculate the absolute errors\n",
    "    errors = abs(predictions - test_labels)\n",
    "    # Print out the mean absolute error (mae)\n",
    "    print('Mean Absolute Error:', round(np.mean(errors), 2), 'degrees.')\n",
    "    # Calculate mean absolute percentage error (MAPE)\n",
    "    mape = 100 * (sum(errors) / len(test_labels))\n",
    "    # Calculate and display accuracy\n",
    "    accuracy = 100 - np.mean(mape)\n",
    "    print('Accuracy:', round(accuracy, 2), '%.')\n",
    "    return rf, total_accuracy\n",
    "reach_classifier = create_classifier(features, labels, 0.25, 76462, 1000)[0]\n",
    "for i in range(100):\n",
    "    total_accuracy += create_classifier(features, labels, 0.25, i, 1000)[1]\n",
    "print(total_accuracy/100)"
   ]
  },
  {
   "cell_type": "code",
   "execution_count": 69,
   "metadata": {},
   "outputs": [],
   "source": [
    "def get_predicted_times(classifier, dataframe, columns, frames_before, frames_after, step_size):\n",
    "    dataframe = dataframe[columns]\n",
    "    inputs = []\n",
    "    num_frames = frames_before + frames_after\n",
    "    for index in range(num_frames, dataframe.shape[0] - num_frames, step_size):\n",
    "        temp_df = dataframe.iloc[index - frames_before: index + frames_after]\n",
    "        inputs.append(temp_df.values.flatten())\n",
    "    inputs = np.asarray(inputs)\n",
    "    predictions = classifier.predict(inputs)\n",
    "    return predictions\n",
    "start_frames = range(15, df2.shape[0] - 15, 6)\n",
    "predictions = get_predicted_times(reach_classifier, df2, ['rightHand', 'pellet', 'Nose'], 3, 120, 6)\n"
   ]
  },
  {
   "cell_type": "code",
   "execution_count": 70,
   "metadata": {},
   "outputs": [
    {
     "name": "stdout",
     "output_type": "stream",
     "text": [
      "4013\n",
      "697\n",
      "697\n",
      "697\n",
      "697\n"
     ]
    }
   ],
   "source": [
    "pointfive = []\n",
    "pointsevenfive = []\n",
    "pointnine = []\n",
    "pointninenine = []\n",
    "for start, prediction in zip(start_frames, predictions):\n",
    "    if prediction > 0.5:\n",
    "        pointfive.append(frame_to_time(start))\n",
    "    if prediction > 0.75:\n",
    "        pointsevenfive.append(frame_to_time(start))\n",
    "    if prediction > 0.9:\n",
    "        pointnine.append(frame_to_time(start))\n",
    "    if prediction > 0.99:\n",
    "        pointninenine.append(frame_to_time(start))\n",
    "print(len(predictions))\n",
    "print(len(pointfive))\n",
    "print(len(pointsevenfive))\n",
    "print(len(pointnine))\n",
    "print(len(pointninenine))"
   ]
  },
  {
   "cell_type": "code",
   "execution_count": 72,
   "metadata": {},
   "outputs": [
    {
     "name": "stdout",
     "output_type": "stream",
     "text": [
      "31\n",
      "31\n",
      "31\n",
      "31\n",
      "[ 17.368  25.69   31.969  36.505  43.531  46.073  49.512  50.01   51.854\n",
      "  54.047  66.655  73.482  82.503  87.835  92.071  98.699 103.932 109.563\n",
      " 113.152 116.939 118.285 135.976 144.448 145.894 146.84  148.286 150.179\n",
      " 152.372 172.855 173.154 174.1  ]\n",
      "[ 18.904  27.434  28.157  28.722  30.333  30.981  33.423  34.088  34.827\n",
      "  36.147  44.935  45.658  47.701  48.457  51.023  68.499  69.138  75.135\n",
      "  75.592  84.546  85.119  89.613  93.134 100.485 110.685 111.274 114.979\n",
      " 118.509 137.521 145.993 149.905 175.263]\n"
     ]
    }
   ],
   "source": [
    "from scipy import stats\n",
    "def get_starts(lst):\n",
    "    starts = [lst[0]]\n",
    "    for i in range(1, len(lst)):\n",
    "        if lst[i] - lst[i-1] > 0.2:\n",
    "            starts.append(lst[i])\n",
    "    return starts\n",
    "print(len(get_starts(pointfive)))\n",
    "print(len(get_starts(pointsevenfive)))\n",
    "print(len(get_starts(pointnine)))\n",
    "print(len(get_starts(pointninenine)))\n",
    "str(stats.describe(predictions))\n",
    "ft_reaches = np.asarray(get_starts(pointnine))\n",
    "my_reaches = np.asarray([frame_to_time(x) for x, y in get_reaches_frames(rightHand, is_near_dispenser)])\n",
    "print((ft_reaches))\n",
    "print((my_reaches))\n"
   ]
  },
  {
   "cell_type": "code",
   "execution_count": 73,
   "metadata": {},
   "outputs": [
    {
     "data": {
      "text/plain": [
       "6501.3861386138615"
      ]
     },
     "execution_count": 73,
     "metadata": {},
     "output_type": "execute_result"
    }
   ],
   "source": [
    "time_to_frame(54)"
   ]
  },
  {
   "cell_type": "code",
   "execution_count": null,
   "metadata": {},
   "outputs": [],
   "source": [
    "reach_labels = [2,\n",
    " 1,\n",
    " 1,\n",
    " 1,\n",
    " 1,\n",
    " 1,\n",
    " 1,\n",
    " 1,\n",
    " 1,\n",
    " 1,\n",
    " 1,\n",
    " 1,\n",
    " 1,\n",
    " 1,\n",
    " 1,\n",
    " 1,\n",
    " 1,\n",
    " 2,\n",
    " 1,\n",
    " 2,\n",
    " 1,\n",
    " 1,\n",
    " 1,\n",
    " 2,\n",
    " 2,\n",
    " 1,\n",
    " 1,\n",
    " 1,\n",
    " 1,\n",
    " 2,\n",
    " 1,\n",
    " 1,\n",
    " 1]"
   ]
  },
  {
   "cell_type": "code",
   "execution_count": null,
   "metadata": {},
   "outputs": [],
   "source": [
    "yeet = pd.read_hdf(r\"C:\\Users\\vjj14\\Desktop\\DeepLabCut\\goprolensfront-vj-2019-06-25\\evaluation-results\\iteration-0\\goprolensfrontJun25-trainset90shuffle1\\DeepCut_resnet50_goprolensfrontJun25shuffle1_60002-snapshot-60002.h5\")"
   ]
  },
  {
   "cell_type": "code",
   "execution_count": null,
   "metadata": {},
   "outputs": [],
   "source": [
    "yeet"
   ]
  }
 ],
 "metadata": {
  "kernelspec": {
   "display_name": "Python 3",
   "language": "python",
   "name": "python3"
  }
 },
 "nbformat": 4,
 "nbformat_minor": 2
}

{
 "cells": [
  {
   "cell_type": "code",
   "execution_count": 1,
   "metadata": {},
   "outputs": [],
   "source": [
    "import numpy as np\n",
    "import pandas as pd\n",
    "import matplotlib as plt\n",
    "import datetime\n",
    "#turns seconds into a string format ffmpeg uses\n",
    "def seconds_formatter(sec):\n",
    "    x = \"0\" + str(datetime.timedelta(seconds=sec))[:-3]\n",
    "    return x"
   ]
  },
  {
   "cell_type": "markdown",
   "metadata": {},
   "source": [
    "## Random Forest Classifier\n",
    "identify reaches, successes, failures"
   ]
  },
  {
   "cell_type": "markdown",
   "metadata": {},
   "source": [
    "### Training Data"
   ]
  },
  {
   "cell_type": "markdown",
   "metadata": {},
   "source": [
    "# Project Variables \n",
    "### Change as needed."
   ]
  },
  {
   "cell_type": "code",
   "execution_count": 33,
   "metadata": {},
   "outputs": [],
   "source": [
    "df = pd.read_hdf(r\"C:\\Users\\vjj14\\Desktop\\DeepLabCut\\goprolensfront-vj-2019-06-25\\videos\\A_copiedDeepCut_resnet50_goprolensfrontJun25shuffle1_60002.h5\")\n",
    "#remove extra level \"scorer\"\n",
    "df.columns = df.columns.droplevel()\n",
    "\n",
    "#Change the video length!!!\n",
    "vid_length = 459\n",
    "\n",
    "total_num_frames = df.shape[0]\n",
    "\n",
    "cols = ['Nose', 'DomInside', 'Pellet', 'Index']\n",
    "\n",
    "classes = ['n', 's', 'f', 'r']\n",
    "\n",
    "frames_before = 16\n",
    "\n",
    "frames_after = 32\n",
    "\n",
    "step_size = 1\n",
    "\n",
    "seed = 74"
   ]
  },
  {
   "cell_type": "code",
   "execution_count": 14,
   "metadata": {},
   "outputs": [],
   "source": [
    "def frame_to_time(frame):\n",
    "    total_seconds = (frame/total_num_frames)*vid_length\n",
    "    return round(total_seconds, 3)\n",
    "def time_to_frame(time):\n",
    "    return int(round(total_num_frames*(time/vid_length)))"
   ]
  },
  {
   "cell_type": "markdown",
   "metadata": {},
   "source": [
    "### Functions for Creating Classifier"
   ]
  },
  {
   "cell_type": "code",
   "execution_count": 15,
   "metadata": {},
   "outputs": [],
   "source": [
    "import random\n",
    "# Using Skicit-learn to split data into training and testing sets\n",
    "from sklearn.model_selection import train_test_split\n",
    "# Import the model we are using\n",
    "from sklearn.ensemble import RandomForestClassifier\n",
    "\n",
    "#Functions to get training data\n",
    "def get_dataset(start_frames):\n",
    "    dataframe = df[cols]\n",
    "    dataset = []\n",
    "    for start_f in start_frames:\n",
    "        temp_df = dataframe.iloc[start_f - frames_before: start_f + frames_after]\n",
    "        dataset.append(temp_df.values.flatten())\n",
    "    return np.asarray(dataset)\n",
    "def get_predicted_frames(classifier):\n",
    "    dataframe = df[cols]\n",
    "    inputs = []\n",
    "    num_frames = frames_before + frames_after\n",
    "    for index in range(num_frames, dataframe.shape[0] - num_frames, step_size):\n",
    "        temp_df = dataframe.iloc[index - frames_before: index + frames_after]\n",
    "        inputs.append(temp_df.values.flatten())\n",
    "    inputs = np.asarray(inputs)\n",
    "    predictions = classifier.predict(inputs)\n",
    "    return predictions\n",
    "def get_non_reach_frames(num_frames, blacklist, avoidance_radius):\n",
    "    non_reaches = []\n",
    "    random.seed(seed)\n",
    "    while len(non_reaches) < num_frames:\n",
    "        #hard code 3 non-reaches\n",
    "        frame = random.randint(frames_before, total_num_frames - frames_after)\n",
    "\n",
    "        too_close = False\n",
    "        for start_time in blacklist:\n",
    "            if abs(frame - start_time) < avoidance_radius:\n",
    "                print('no')\n",
    "                too_close = True\n",
    "                break\n",
    "        if not too_close:\n",
    "            non_reaches.append(frame)\n",
    "    return non_reaches\n",
    "\n",
    "#Use training features and labels to create Random Forest Classifier\n",
    "def create_classifier(features, labels, n_trees, test_proportion=0.25):\n",
    "    train_feats, test_feats, train_labs, test_labs = train_test_split(features, labels, test_size = test_proportion, random_state = seed)\n",
    "    print('Training Features Shape:', train_feats.shape)\n",
    "    print('Training Labels Shape:', train_labs.shape)\n",
    "    print('Testing Features Shape:', test_feats.shape)\n",
    "    print('Testing Labels Shape:', test_labs.shape)\n",
    "    rf = RandomForestClassifier(n_estimators = n_trees, random_state = seed)\n",
    "    # Train the model on training data\n",
    "    print(train_feats.shape)\n",
    "    print(train_labs.shape)\n",
    "    rf.fit(train_feats, train_labs)\n",
    "    # Use the forest's predict method on the test data\n",
    "    predictions = rf.predict(test_feats)\n",
    "    print(predictions)\n",
    "    print(test_labs)\n",
    "    wrong_labels = []\n",
    "    for i in range(len(predictions)):\n",
    "        if predictions[i] != test_labs[i]:\n",
    "            frame = -1\n",
    "            for key in frame_to_features.keys():\n",
    "                if (frame_to_features[key] == test_feats[i]).all():\n",
    "                    frame = key\n",
    "                    break\n",
    "            wrong_labels.append((frame_to_time(frame), predictions[i], test_labs[i]))\n",
    "            predictions[i] = 'X'\n",
    "    print('Wrong Labels', wrong_labels)\n",
    "    return rf, wrong_labels"
   ]
  },
  {
   "cell_type": "code",
   "execution_count": 16,
   "metadata": {
    "scrolled": true
   },
   "outputs": [
    {
     "name": "stdout",
     "output_type": "stream",
     "text": [
      "no\n",
      "no\n",
      "no\n"
     ]
    }
   ],
   "source": [
    "true_reach_times = [1.153, 1.844, 14.02, 14.538, 15.724, 16.227, 18.416, 21.184, 27.747, 32.237, 33.952, 37.731, \n",
    "                38.378, 41.412, 42.066, 42.364, 45.69, 48.501, 50.928, 55.111, 56.685, 61.739, 62.336, \n",
    "                62.747, 64.524, 66.032, 76.965, 83.258, 90.252, 105.25, 105.67, 109.465, 113.356, 113.994, 121.798,\n",
    "                124.059, 132.204, 132.597, 135.263, 135.633, 136.588, 138.327, 145.304, 154.300, 170.547, \n",
    "                182.046, 190.137, 202.976, 240.157, 243.168, 253.75, 258.548, 272.461, 281.791, 284.774, \n",
    "                295.074, 303.63, 310.3, 323.374, 351.034, 364.535, 376.356, 432.654]\n",
    "true_reach_frames = [time_to_frame(x) for x in true_reach_times]\n",
    "true_reach_labels = ['r', 'r', 'f', 'f', 'r', 'r', 'r', 's', 'r', 'r', 's', 'r', 'r', 'r', 'f', 'r', 'f', \n",
    "                     'r', 's', 'r', 's', 'r', 'r', 'r', 'r', 's', 's', 'f', 'f', 'f', 'r', 'r', 'f', 'f',\n",
    "                     'r', 's', 'f', 'r', 'r', 'r', 'r', 's', 's', 's', 's', 'f', 's', 's', 'r', 's', 'f', \n",
    "                     'f', 's', 'r', 's', 's', 'r', 's', 'f', 'f', 'f', 's', 's']\n",
    "non_reaches_frames = get_non_reach_frames(70, true_reach_frames, 12)\n",
    "features = get_dataset(true_reach_frames+non_reaches_frames)\n",
    "labels = np.asarray(true_reach_labels + ['n' for x in non_reaches_frames])\n",
    "frame_to_features = dict(zip(true_reach_frames+non_reaches_frames, features))"
   ]
  },
  {
   "cell_type": "code",
   "execution_count": 17,
   "metadata": {},
   "outputs": [
    {
     "name": "stdout",
     "output_type": "stream",
     "text": [
      "Training Features Shape: (131, 576)\n",
      "Training Labels Shape: (131,)\n",
      "Testing Features Shape: (2, 576)\n",
      "Testing Labels Shape: (2,)\n",
      "(131, 576)\n",
      "(131,)\n",
      "['n' 's']\n",
      "['n' 's']\n",
      "Wrong Labels []\n"
     ]
    }
   ],
   "source": [
    "blue = create_classifier(features, labels, 1000, test_proportion=0.01)"
   ]
  },
  {
   "cell_type": "code",
   "execution_count": 12,
   "metadata": {
    "scrolled": true
   },
   "outputs": [
    {
     "name": "stdout",
     "output_type": "stream",
     "text": [
      "Training Features Shape: (119, 1728)\n",
      "Training Labels Shape: (119,)\n",
      "Testing Features Shape: (14, 1728)\n",
      "Testing Labels Shape: (14,)\n",
      "(119, 1728)\n",
      "(119,)\n",
      "['f' 'n' 's' 'n' 'f' 'n' 's' 'n' 's' 'r' 'n' 'f' 'f' 'n']\n",
      "['f' 'n' 's' 'n' 'f' 'n' 's' 'n' 's' 'r' 'n' 'f' 'f' 'n']\n",
      "Wrong Labels []\n",
      "Training Features Shape: (119, 1728)\n",
      "Training Labels Shape: (119,)\n",
      "Testing Features Shape: (14, 1728)\n",
      "Testing Labels Shape: (14,)\n",
      "(119, 1728)\n",
      "(119,)\n",
      "['s' 'n' 'n' 'f' 'n' 'r' 'n' 'n' 'n' 'n' 's' 'r' 'r' 'r']\n",
      "['s' 'n' 'n' 'f' 'n' 'r' 'n' 'n' 'n' 'n' 's' 'r' 'r' 'r']\n",
      "Wrong Labels []\n",
      "Training Features Shape: (119, 1728)\n",
      "Training Labels Shape: (119,)\n",
      "Testing Features Shape: (14, 1728)\n",
      "Testing Labels Shape: (14,)\n",
      "(119, 1728)\n",
      "(119,)\n",
      "['f' 's' 'n' 'r' 'r' 'n' 's' 'n' 'n' 'n' 'r' 'n' 'n' 's']\n",
      "['f' 's' 'n' 'r' 'r' 'n' 's' 'n' 'n' 'n' 'f' 'n' 'n' 's']\n",
      "Wrong Labels [(351.036, 'r', 'f')]\n",
      "Training Features Shape: (119, 1728)\n",
      "Training Labels Shape: (119,)\n",
      "Testing Features Shape: (14, 1728)\n",
      "Testing Labels Shape: (14,)\n",
      "(119, 1728)\n",
      "(119,)\n",
      "['n' 'n' 'n' 'n' 'f' 's' 'n' 'f' 'n' 'f' 'n' 'n' 's' 'n']\n",
      "['n' 'n' 'n' 'n' 'f' 's' 'n' 'f' 'n' 'r' 'n' 'n' 's' 'n']\n",
      "Wrong Labels [(240.16, 'f', 'r')]\n",
      "Training Features Shape: (119, 1728)\n",
      "Training Labels Shape: (119,)\n",
      "Testing Features Shape: (14, 1728)\n",
      "Testing Labels Shape: (14,)\n",
      "(119, 1728)\n",
      "(119,)\n",
      "['n' 'n' 's' 's' 's' 'n' 'n' 'n' 'n' 'r' 'n' 'n' 'n' 'r']\n",
      "['n' 'n' 's' 's' 's' 'n' 'n' 'n' 'n' 'r' 'n' 'n' 'n' 'r']\n",
      "Wrong Labels []\n",
      "Training Features Shape: (119, 1728)\n",
      "Training Labels Shape: (119,)\n",
      "Testing Features Shape: (14, 1728)\n",
      "Testing Labels Shape: (14,)\n",
      "(119, 1728)\n",
      "(119,)\n",
      "['n' 'n' 'r' 'n' 'n' 'n' 'r' 'n' 'n' 'n' 'n' 's' 'n' 'n']\n",
      "['n' 'n' 'r' 'n' 'n' 'n' 'r' 'n' 'n' 'n' 'n' 's' 'n' 'n']\n",
      "Wrong Labels []\n",
      "Training Features Shape: (119, 1728)\n",
      "Training Labels Shape: (119,)\n",
      "Testing Features Shape: (14, 1728)\n",
      "Testing Labels Shape: (14,)\n",
      "(119, 1728)\n",
      "(119,)\n",
      "['r' 's' 'n' 'n' 'n' 'r' 'f' 'n' 'r' 'n' 'r' 's' 'r' 'n']\n",
      "['r' 's' 'n' 'n' 'n' 'r' 'f' 'n' 'r' 'n' 'r' 's' 'r' 'n']\n",
      "Wrong Labels []\n",
      "Training Features Shape: (119, 1728)\n",
      "Training Labels Shape: (119,)\n",
      "Testing Features Shape: (14, 1728)\n",
      "Testing Labels Shape: (14,)\n",
      "(119, 1728)\n",
      "(119,)\n",
      "['n' 'n' 'r' 'n' 'r' 'r' 'n' 'n' 'n' 'n' 'n' 'f' 'r' 'n']\n",
      "['n' 'n' 'r' 'n' 'r' 'r' 'n' 'n' 'n' 'n' 'n' 'r' 'r' 'n']\n",
      "Wrong Labels [(240.16, 'f', 'r')]\n",
      "Training Features Shape: (119, 1728)\n",
      "Training Labels Shape: (119,)\n",
      "Testing Features Shape: (14, 1728)\n",
      "Testing Labels Shape: (14,)\n",
      "(119, 1728)\n",
      "(119,)\n",
      "['f' 'n' 'n' 'r' 's' 'r' 'n' 's' 'r' 'f' 'r' 's' 'r' 'r']\n",
      "['r' 'n' 'n' 'r' 's' 'r' 'n' 's' 'r' 'f' 'r' 's' 'r' 'r']\n",
      "Wrong Labels [(240.16, 'f', 'r')]\n",
      "Training Features Shape: (119, 1728)\n",
      "Training Labels Shape: (119,)\n",
      "Testing Features Shape: (14, 1728)\n",
      "Testing Labels Shape: (14,)\n",
      "(119, 1728)\n",
      "(119,)\n",
      "['n' 's' 'r' 'n' 'n' 's' 'r' 'r' 'r' 'n' 'n' 'r' 'n' 'f']\n",
      "['n' 's' 'r' 'n' 'n' 's' 'r' 'r' 'r' 'n' 'n' 'r' 'n' 'f']\n",
      "Wrong Labels []\n",
      "Training Features Shape: (119, 1728)\n",
      "Training Labels Shape: (119,)\n",
      "Testing Features Shape: (14, 1728)\n",
      "Testing Labels Shape: (14,)\n",
      "(119, 1728)\n",
      "(119,)\n",
      "['s' 'r' 's' 'r' 's' 'r' 's' 'n' 'n' 'n' 'r' 'n' 'n' 'n']\n",
      "['s' 'r' 's' 'r' 's' 'r' 's' 'n' 'n' 'n' 'r' 'n' 'n' 'n']\n",
      "Wrong Labels []\n",
      "Training Features Shape: (119, 1728)\n",
      "Training Labels Shape: (119,)\n",
      "Testing Features Shape: (14, 1728)\n",
      "Testing Labels Shape: (14,)\n",
      "(119, 1728)\n",
      "(119,)\n",
      "['n' 's' 'n' 'n' 'n' 'n' 'n' 'r' 'n' 's' 'n' 'r' 'r' 's']\n",
      "['n' 's' 'n' 'n' 'n' 'n' 'n' 'r' 'n' 's' 'n' 'r' 'r' 's']\n",
      "Wrong Labels []\n",
      "Training Features Shape: (119, 1728)\n",
      "Training Labels Shape: (119,)\n",
      "Testing Features Shape: (14, 1728)\n",
      "Testing Labels Shape: (14,)\n",
      "(119, 1728)\n",
      "(119,)\n",
      "['n' 'n' 's' 'f' 'n' 'n' 'r' 'n' 'f' 'f' 'n' 'n' 'n' 'r']\n",
      "['n' 'n' 's' 'f' 'n' 'n' 'r' 'n' 'f' 'f' 'n' 'n' 'n' 'r']\n",
      "Wrong Labels []\n",
      "Training Features Shape: (119, 1728)\n",
      "Training Labels Shape: (119,)\n",
      "Testing Features Shape: (14, 1728)\n",
      "Testing Labels Shape: (14,)\n",
      "(119, 1728)\n",
      "(119,)\n",
      "['r' 'n' 'r' 'n' 'n' 'n' 'f' 's' 's' 'n' 's' 's' 'n' 'f']\n",
      "['r' 'n' 'r' 'n' 'n' 'n' 'f' 's' 's' 'n' 's' 's' 'n' 'f']\n",
      "Wrong Labels []\n",
      "Training Features Shape: (119, 1728)\n",
      "Training Labels Shape: (119,)\n",
      "Testing Features Shape: (14, 1728)\n",
      "Testing Labels Shape: (14,)\n",
      "(119, 1728)\n",
      "(119,)\n",
      "['r' 'n' 'n' 'r' 'r' 'n' 'n' 's' 's' 'n' 'n' 'f' 'n' 'n']\n",
      "['r' 'n' 'n' 'r' 'r' 'n' 'n' 's' 's' 'n' 'n' 'f' 'n' 'n']\n",
      "Wrong Labels []\n",
      "Training Features Shape: (119, 1728)\n",
      "Training Labels Shape: (119,)\n",
      "Testing Features Shape: (14, 1728)\n",
      "Testing Labels Shape: (14,)\n",
      "(119, 1728)\n",
      "(119,)\n",
      "['f' 'n' 'n' 'n' 'n' 'n' 'r' 's' 's' 'n' 'n' 'n' 'n' 'r']\n",
      "['f' 'n' 'n' 'n' 'n' 'n' 'r' 's' 's' 'n' 'n' 'n' 'n' 'r']\n",
      "Wrong Labels []\n",
      "Training Features Shape: (119, 1728)\n",
      "Training Labels Shape: (119,)\n",
      "Testing Features Shape: (14, 1728)\n",
      "Testing Labels Shape: (14,)\n",
      "(119, 1728)\n",
      "(119,)\n",
      "['r' 'f' 'r' 'n' 'n' 'f' 'n' 'n' 'n' 'n' 'n' 'r' 'n' 's']\n",
      "['r' 'f' 'r' 'n' 'n' 'r' 'n' 'n' 'n' 'n' 'n' 'r' 'n' 's']\n",
      "Wrong Labels [(240.16, 'f', 'r')]\n",
      "Training Features Shape: (119, 1728)\n",
      "Training Labels Shape: (119,)\n",
      "Testing Features Shape: (14, 1728)\n",
      "Testing Labels Shape: (14,)\n",
      "(119, 1728)\n",
      "(119,)\n",
      "['n' 'f' 'r' 's' 'n' 'f' 'f' 's' 'r' 'r' 'n' 'n' 'r' 'n']\n",
      "['n' 'f' 'r' 's' 'n' 'f' 'f' 's' 'r' 'r' 'n' 'n' 'r' 'n']\n",
      "Wrong Labels []\n",
      "Training Features Shape: (119, 1728)\n",
      "Training Labels Shape: (119,)\n",
      "Testing Features Shape: (14, 1728)\n",
      "Testing Labels Shape: (14,)\n",
      "(119, 1728)\n",
      "(119,)\n",
      "['n' 'n' 'n' 'f' 'n' 'f' 'n' 'n' 'r' 'n' 'r' 'f' 'n' 'r']\n",
      "['n' 'n' 'n' 'f' 'n' 'f' 'n' 'n' 'r' 'n' 'r' 'f' 'n' 'r']\n",
      "Wrong Labels []\n",
      "Training Features Shape: (119, 1728)\n",
      "Training Labels Shape: (119,)\n",
      "Testing Features Shape: (14, 1728)\n",
      "Testing Labels Shape: (14,)\n",
      "(119, 1728)\n",
      "(119,)\n",
      "['s' 'r' 'r' 'n' 'n' 'f' 'n' 'n' 'n' 'n' 's' 's' 'n' 'n']\n",
      "['s' 'r' 'r' 'n' 'n' 'f' 'n' 'n' 'n' 'n' 's' 's' 'n' 'n']\n",
      "Wrong Labels []\n",
      "Training Features Shape: (119, 1728)\n",
      "Training Labels Shape: (119,)\n",
      "Testing Features Shape: (14, 1728)\n",
      "Testing Labels Shape: (14,)\n",
      "(119, 1728)\n",
      "(119,)\n",
      "['s' 's' 'n' 'n' 'f' 'r' 'n' 'n' 'f' 'n' 'f' 'n' 'r' 'n']\n",
      "['s' 's' 'n' 'n' 'r' 'r' 'n' 'n' 'f' 'n' 'f' 'n' 'r' 'n']\n",
      "Wrong Labels [(240.16, 'f', 'r')]\n",
      "Training Features Shape: (119, 1728)\n",
      "Training Labels Shape: (119,)\n",
      "Testing Features Shape: (14, 1728)\n",
      "Testing Labels Shape: (14,)\n",
      "(119, 1728)\n",
      "(119,)\n",
      "['r' 'n' 's' 'f' 'n' 'n' 'n' 'f' 'n' 'n' 'n' 'n' 'n' 'f']\n",
      "['r' 'n' 's' 'f' 'n' 'n' 'n' 'f' 'n' 'n' 'n' 'n' 'n' 'f']\n",
      "Wrong Labels []\n",
      "Training Features Shape: (119, 1728)\n",
      "Training Labels Shape: (119,)\n",
      "Testing Features Shape: (14, 1728)\n",
      "Testing Labels Shape: (14,)\n",
      "(119, 1728)\n",
      "(119,)\n",
      "['n' 's' 'n' 'r' 'n' 'n' 'n' 's' 'r' 'n' 'r' 'n' 'n' 'r']\n",
      "['n' 's' 'n' 'r' 'n' 'n' 'n' 's' 'r' 'n' 'r' 'n' 'n' 'r']\n",
      "Wrong Labels []\n",
      "Training Features Shape: (119, 1728)\n",
      "Training Labels Shape: (119,)\n",
      "Testing Features Shape: (14, 1728)\n",
      "Testing Labels Shape: (14,)\n",
      "(119, 1728)\n",
      "(119,)\n",
      "['r' 'n' 'n' 'n' 'n' 'f' 'n' 'r' 'n' 'n' 'f' 'r' 'f' 'r']\n",
      "['r' 'n' 'n' 'n' 'n' 'f' 'n' 'r' 'n' 'n' 'f' 'r' 'f' 'r']\n",
      "Wrong Labels []\n",
      "Training Features Shape: (119, 1728)\n",
      "Training Labels Shape: (119,)\n",
      "Testing Features Shape: (14, 1728)\n",
      "Testing Labels Shape: (14,)\n",
      "(119, 1728)\n",
      "(119,)\n",
      "['n' 'f' 'f' 'n' 'n' 'n' 'r' 'n' 'n' 'r' 'n' 'n' 'n' 'n']\n",
      "['n' 'f' 'f' 'n' 'n' 'n' 'r' 'n' 'n' 'f' 'n' 'n' 'n' 'n']\n",
      "Wrong Labels [(14.539, 'r', 'f')]\n",
      "Training Features Shape: (119, 1728)\n",
      "Training Labels Shape: (119,)\n",
      "Testing Features Shape: (14, 1728)\n",
      "Testing Labels Shape: (14,)\n",
      "(119, 1728)\n",
      "(119,)\n",
      "['n' 'n' 's' 'r' 's' 'r' 'r' 'n' 's' 'n' 'n' 'n' 'n' 'f']\n",
      "['n' 'n' 's' 'r' 's' 'r' 'r' 'n' 's' 'n' 'n' 'n' 'n' 'f']\n",
      "Wrong Labels []\n",
      "Training Features Shape: (119, 1728)\n",
      "Training Labels Shape: (119,)\n",
      "Testing Features Shape: (14, 1728)\n",
      "Testing Labels Shape: (14,)\n",
      "(119, 1728)\n",
      "(119,)\n",
      "['n' 'r' 'n' 'n' 's' 'n' 'n' 'n' 'n' 's' 'r' 'n' 'n' 'r']\n",
      "['n' 'r' 'n' 'n' 's' 'n' 'n' 'n' 'n' 's' 'r' 'n' 'n' 'r']\n",
      "Wrong Labels []\n",
      "Training Features Shape: (119, 1728)\n",
      "Training Labels Shape: (119,)\n",
      "Testing Features Shape: (14, 1728)\n",
      "Testing Labels Shape: (14,)\n",
      "(119, 1728)\n",
      "(119,)\n",
      "['s' 'n' 'n' 'n' 'n' 'n' 'n' 'n' 's' 's' 's' 's' 'n' 'r']\n",
      "['s' 'n' 'n' 'n' 'n' 'n' 'n' 'n' 's' 's' 's' 's' 'n' 'r']\n",
      "Wrong Labels []\n",
      "Training Features Shape: (119, 1728)\n",
      "Training Labels Shape: (119,)\n",
      "Testing Features Shape: (14, 1728)\n",
      "Testing Labels Shape: (14,)\n",
      "(119, 1728)\n",
      "(119,)\n",
      "['r' 's' 's' 'f' 'n' 'r' 'n' 'r' 'f' 'r' 'f' 'f' 'n' 's']\n",
      "['r' 's' 's' 'f' 'n' 'r' 'n' 'r' 'f' 'r' 'f' 'f' 'n' 's']\n",
      "Wrong Labels []\n",
      "Training Features Shape: (119, 1728)\n",
      "Training Labels Shape: (119,)\n",
      "Testing Features Shape: (14, 1728)\n",
      "Testing Labels Shape: (14,)\n",
      "(119, 1728)\n",
      "(119,)\n"
     ]
    },
    {
     "name": "stdout",
     "output_type": "stream",
     "text": [
      "['r' 'n' 'f' 'n' 'r' 'r' 'r' 'n' 'n' 'n' 'f' 'n' 'n' 'f']\n",
      "['r' 'n' 'f' 'n' 'r' 'r' 'r' 'n' 'n' 'n' 'r' 'n' 'n' 'f']\n",
      "Wrong Labels [(240.16, 'f', 'r')]\n",
      "Training Features Shape: (119, 1728)\n",
      "Training Labels Shape: (119,)\n",
      "Testing Features Shape: (14, 1728)\n",
      "Testing Labels Shape: (14,)\n",
      "(119, 1728)\n",
      "(119,)\n",
      "['n' 's' 's' 'n' 'n' 'n' 'n' 'f' 'n' 'r' 'n' 'n' 'n' 'r']\n",
      "['n' 's' 's' 'n' 'n' 'n' 'n' 'f' 'n' 'r' 'n' 'n' 'n' 'r']\n",
      "Wrong Labels []\n",
      "Training Features Shape: (119, 1728)\n",
      "Training Labels Shape: (119,)\n",
      "Testing Features Shape: (14, 1728)\n",
      "Testing Labels Shape: (14,)\n",
      "(119, 1728)\n",
      "(119,)\n",
      "['r' 'n' 'n' 'n' 'r' 'n' 's' 'r' 'n' 'n' 'f' 'n' 'n' 's']\n",
      "['r' 'n' 'n' 'n' 'r' 'n' 's' 'r' 'n' 'n' 'f' 'n' 'n' 's']\n",
      "Wrong Labels []\n",
      "Training Features Shape: (119, 1728)\n",
      "Training Labels Shape: (119,)\n",
      "Testing Features Shape: (14, 1728)\n",
      "Testing Labels Shape: (14,)\n",
      "(119, 1728)\n",
      "(119,)\n",
      "['f' 'n' 'f' 's' 'n' 'n' 'n' 'n' 'n' 'n' 'n' 'n' 'n' 'r']\n",
      "['f' 'n' 'f' 's' 'n' 'n' 'n' 'n' 'n' 'n' 'n' 'n' 'n' 'r']\n",
      "Wrong Labels []\n",
      "Training Features Shape: (119, 1728)\n",
      "Training Labels Shape: (119,)\n",
      "Testing Features Shape: (14, 1728)\n",
      "Testing Labels Shape: (14,)\n",
      "(119, 1728)\n",
      "(119,)\n",
      "['s' 'f' 'r' 'r' 'f' 'r' 'r' 'r' 's' 'n' 'r' 'r' 's' 'n']\n",
      "['s' 'f' 'r' 'r' 'r' 'r' 'r' 'r' 's' 'n' 'r' 'r' 's' 'n']\n",
      "Wrong Labels [(240.16, 'f', 'r')]\n",
      "Training Features Shape: (119, 1728)\n",
      "Training Labels Shape: (119,)\n",
      "Testing Features Shape: (14, 1728)\n",
      "Testing Labels Shape: (14,)\n",
      "(119, 1728)\n",
      "(119,)\n",
      "['r' 's' 'f' 'n' 'n' 'r' 'n' 'r' 's' 'n' 'n' 'n' 'n' 'n']\n",
      "['r' 's' 'f' 'n' 'n' 'r' 'n' 'r' 's' 'n' 'n' 'n' 'n' 'n']\n",
      "Wrong Labels []\n",
      "Training Features Shape: (119, 1728)\n",
      "Training Labels Shape: (119,)\n",
      "Testing Features Shape: (14, 1728)\n",
      "Testing Labels Shape: (14,)\n",
      "(119, 1728)\n",
      "(119,)\n",
      "['r' 'n' 's' 's' 'n' 'n' 's' 'f' 'n' 'r' 'n' 'f' 'f' 'n']\n",
      "['r' 'n' 's' 's' 'n' 'n' 's' 'f' 'n' 'r' 'n' 'f' 'f' 'n']\n",
      "Wrong Labels []\n",
      "Training Features Shape: (119, 1728)\n",
      "Training Labels Shape: (119,)\n",
      "Testing Features Shape: (14, 1728)\n",
      "Testing Labels Shape: (14,)\n",
      "(119, 1728)\n",
      "(119,)\n",
      "['r' 's' 'r' 'n' 'r' 's' 'n' 'n' 'n' 'n' 'n' 'n' 'n' 'n']\n",
      "['r' 's' 'r' 'n' 'r' 's' 'n' 'n' 'n' 'n' 'n' 'n' 'n' 'n']\n",
      "Wrong Labels []\n",
      "Training Features Shape: (119, 1728)\n",
      "Training Labels Shape: (119,)\n",
      "Testing Features Shape: (14, 1728)\n",
      "Testing Labels Shape: (14,)\n",
      "(119, 1728)\n",
      "(119,)\n",
      "['f' 'n' 'r' 'n' 's' 'n' 'n' 'f' 'n' 'f' 'n' 'n' 'r' 'n']\n",
      "['f' 'n' 'r' 'n' 's' 'n' 'n' 'f' 'n' 'f' 'n' 'n' 'r' 'n']\n",
      "Wrong Labels []\n",
      "Training Features Shape: (119, 1728)\n",
      "Training Labels Shape: (119,)\n",
      "Testing Features Shape: (14, 1728)\n",
      "Testing Labels Shape: (14,)\n",
      "(119, 1728)\n",
      "(119,)\n",
      "['s' 'r' 'r' 'f' 'f' 'r' 'r' 'r' 'n' 'n' 'f' 'f' 'n' 'f']\n",
      "['s' 'r' 'r' 'f' 'f' 'r' 'r' 'r' 'n' 'n' 'f' 'f' 'n' 'f']\n",
      "Wrong Labels []\n",
      "Training Features Shape: (119, 1728)\n",
      "Training Labels Shape: (119,)\n",
      "Testing Features Shape: (14, 1728)\n",
      "Testing Labels Shape: (14,)\n",
      "(119, 1728)\n",
      "(119,)\n",
      "['n' 'f' 'f' 'n' 's' 'f' 's' 'f' 'f' 'n' 'r' 'n' 'n' 'r']\n",
      "['n' 'f' 'r' 'n' 's' 'f' 's' 'f' 'f' 'n' 'f' 'n' 'n' 'r']\n",
      "Wrong Labels [(240.16, 'f', 'r'), (14.539, 'r', 'f')]\n",
      "Training Features Shape: (119, 1728)\n",
      "Training Labels Shape: (119,)\n",
      "Testing Features Shape: (14, 1728)\n",
      "Testing Labels Shape: (14,)\n",
      "(119, 1728)\n",
      "(119,)\n",
      "['n' 'r' 'r' 's' 'n' 'n' 'n' 'n' 's' 'f' 'f' 'r' 'n' 's']\n",
      "['n' 'r' 'r' 's' 'n' 'n' 'n' 'n' 's' 'f' 'f' 'r' 'n' 's']\n",
      "Wrong Labels []\n",
      "Training Features Shape: (119, 1728)\n",
      "Training Labels Shape: (119,)\n",
      "Testing Features Shape: (14, 1728)\n",
      "Testing Labels Shape: (14,)\n",
      "(119, 1728)\n",
      "(119,)\n",
      "['n' 'r' 'n' 'n' 'n' 'n' 'f' 's' 's' 'n' 'n' 'n' 'r' 'f']\n",
      "['n' 'r' 'n' 'n' 'n' 'n' 'f' 's' 's' 'n' 'n' 'n' 'r' 'f']\n",
      "Wrong Labels []\n",
      "Training Features Shape: (119, 1728)\n",
      "Training Labels Shape: (119,)\n",
      "Testing Features Shape: (14, 1728)\n",
      "Testing Labels Shape: (14,)\n",
      "(119, 1728)\n",
      "(119,)\n",
      "['n' 'n' 'n' 'n' 's' 'n' 'n' 'r' 'n' 'f' 's' 'n' 'r' 's']\n",
      "['n' 'n' 'n' 'n' 's' 'n' 'n' 'f' 'n' 'f' 's' 'n' 'r' 's']\n",
      "Wrong Labels [(14.539, 'r', 'f')]\n",
      "Training Features Shape: (119, 1728)\n",
      "Training Labels Shape: (119,)\n",
      "Testing Features Shape: (14, 1728)\n",
      "Testing Labels Shape: (14,)\n",
      "(119, 1728)\n",
      "(119,)\n",
      "['f' 'n' 'f' 'n' 'n' 'n' 's' 'r' 'n' 'n' 'n' 'r' 's' 'f']\n",
      "['f' 'n' 'f' 'n' 'n' 'n' 's' 'r' 'n' 'n' 'n' 'r' 's' 'r']\n",
      "Wrong Labels [(240.16, 'f', 'r')]\n",
      "Training Features Shape: (119, 1728)\n",
      "Training Labels Shape: (119,)\n",
      "Testing Features Shape: (14, 1728)\n",
      "Testing Labels Shape: (14,)\n",
      "(119, 1728)\n",
      "(119,)\n",
      "['f' 'r' 's' 'n' 'r' 's' 'n' 'n' 'r' 'r' 'n' 'n' 'f' 'n']\n",
      "['f' 'r' 's' 'n' 'r' 's' 'n' 'n' 'r' 'r' 'n' 'n' 'f' 'n']\n",
      "Wrong Labels []\n",
      "Training Features Shape: (119, 1728)\n",
      "Training Labels Shape: (119,)\n",
      "Testing Features Shape: (14, 1728)\n",
      "Testing Labels Shape: (14,)\n",
      "(119, 1728)\n",
      "(119,)\n",
      "['f' 'r' 'n' 'n' 'n' 'n' 'n' 'n' 'n' 's' 'n' 'f' 'n' 'n']\n",
      "['f' 'r' 'n' 'n' 'n' 'n' 'n' 'n' 'n' 's' 'n' 'f' 'n' 'n']\n",
      "Wrong Labels []\n",
      "Training Features Shape: (119, 1728)\n",
      "Training Labels Shape: (119,)\n",
      "Testing Features Shape: (14, 1728)\n",
      "Testing Labels Shape: (14,)\n",
      "(119, 1728)\n",
      "(119,)\n"
     ]
    },
    {
     "ename": "KeyboardInterrupt",
     "evalue": "",
     "output_type": "error",
     "traceback": [
      "\u001b[1;31m---------------------------------------------------------------------------\u001b[0m",
      "\u001b[1;31mKeyboardInterrupt\u001b[0m                         Traceback (most recent call last)",
      "\u001b[1;32m<ipython-input-12-4e94f1d268b8>\u001b[0m in \u001b[0;36m<module>\u001b[1;34m()\u001b[0m\n\u001b[0;32m      2\u001b[0m \u001b[1;32mfor\u001b[0m \u001b[0mi\u001b[0m \u001b[1;32min\u001b[0m \u001b[0mrange\u001b[0m\u001b[1;33m(\u001b[0m\u001b[1;36m100\u001b[0m\u001b[1;33m,\u001b[0m \u001b[1;36m200\u001b[0m\u001b[1;33m)\u001b[0m\u001b[1;33m:\u001b[0m\u001b[1;33m\u001b[0m\u001b[0m\n\u001b[0;32m      3\u001b[0m     \u001b[0mseed\u001b[0m \u001b[1;33m=\u001b[0m \u001b[0mi\u001b[0m\u001b[1;33m\u001b[0m\u001b[0m\n\u001b[1;32m----> 4\u001b[1;33m     \u001b[0mwrong_ones\u001b[0m\u001b[1;33m.\u001b[0m\u001b[0mextend\u001b[0m\u001b[1;33m(\u001b[0m\u001b[0mcreate_classifier\u001b[0m\u001b[1;33m(\u001b[0m\u001b[0mfeatures\u001b[0m\u001b[1;33m,\u001b[0m \u001b[0mlabels\u001b[0m\u001b[1;33m,\u001b[0m \u001b[1;36m1000\u001b[0m\u001b[1;33m,\u001b[0m \u001b[0mtest_proportion\u001b[0m\u001b[1;33m=\u001b[0m\u001b[1;36m0.1\u001b[0m\u001b[1;33m)\u001b[0m\u001b[1;33m[\u001b[0m\u001b[1;36m1\u001b[0m\u001b[1;33m]\u001b[0m\u001b[1;33m)\u001b[0m\u001b[1;33m\u001b[0m\u001b[0m\n\u001b[0m\u001b[0;32m      5\u001b[0m \u001b[0mwrong_ones\u001b[0m\u001b[1;33m.\u001b[0m\u001b[0msort\u001b[0m\u001b[1;33m(\u001b[0m\u001b[0mkey\u001b[0m\u001b[1;33m=\u001b[0m \u001b[1;32mlambda\u001b[0m \u001b[0mx\u001b[0m\u001b[1;33m:\u001b[0m \u001b[0mx\u001b[0m\u001b[1;33m[\u001b[0m\u001b[1;36m0\u001b[0m\u001b[1;33m]\u001b[0m\u001b[1;33m)\u001b[0m\u001b[1;33m\u001b[0m\u001b[0m\n\u001b[0;32m      6\u001b[0m \u001b[0mwrong_df\u001b[0m \u001b[1;33m=\u001b[0m \u001b[0mpd\u001b[0m\u001b[1;33m.\u001b[0m\u001b[0mDataFrame\u001b[0m\u001b[1;33m(\u001b[0m\u001b[0mwrong_ones\u001b[0m\u001b[1;33m,\u001b[0m \u001b[0mcolumns\u001b[0m \u001b[1;33m=\u001b[0m \u001b[1;33m[\u001b[0m\u001b[1;34m'time'\u001b[0m\u001b[1;33m,\u001b[0m \u001b[1;34m'guess'\u001b[0m\u001b[1;33m,\u001b[0m \u001b[1;34m'actual'\u001b[0m\u001b[1;33m]\u001b[0m\u001b[1;33m)\u001b[0m\u001b[1;33m\u001b[0m\u001b[0m\n",
      "\u001b[1;32m<ipython-input-9-eb60e1bbb123>\u001b[0m in \u001b[0;36mcreate_classifier\u001b[1;34m(features, labels, n_trees, test_proportion)\u001b[0m\n\u001b[0;32m     51\u001b[0m     \u001b[0mprint\u001b[0m\u001b[1;33m(\u001b[0m\u001b[0mtrain_feats\u001b[0m\u001b[1;33m.\u001b[0m\u001b[0mshape\u001b[0m\u001b[1;33m)\u001b[0m\u001b[1;33m\u001b[0m\u001b[0m\n\u001b[0;32m     52\u001b[0m     \u001b[0mprint\u001b[0m\u001b[1;33m(\u001b[0m\u001b[0mtrain_labs\u001b[0m\u001b[1;33m.\u001b[0m\u001b[0mshape\u001b[0m\u001b[1;33m)\u001b[0m\u001b[1;33m\u001b[0m\u001b[0m\n\u001b[1;32m---> 53\u001b[1;33m     \u001b[0mrf\u001b[0m\u001b[1;33m.\u001b[0m\u001b[0mfit\u001b[0m\u001b[1;33m(\u001b[0m\u001b[0mtrain_feats\u001b[0m\u001b[1;33m,\u001b[0m \u001b[0mtrain_labs\u001b[0m\u001b[1;33m)\u001b[0m\u001b[1;33m\u001b[0m\u001b[0m\n\u001b[0m\u001b[0;32m     54\u001b[0m     \u001b[1;31m# Use the forest's predict method on the test data\u001b[0m\u001b[1;33m\u001b[0m\u001b[1;33m\u001b[0m\u001b[0m\n\u001b[0;32m     55\u001b[0m     \u001b[0mpredictions\u001b[0m \u001b[1;33m=\u001b[0m \u001b[0mrf\u001b[0m\u001b[1;33m.\u001b[0m\u001b[0mpredict\u001b[0m\u001b[1;33m(\u001b[0m\u001b[0mtest_feats\u001b[0m\u001b[1;33m)\u001b[0m\u001b[1;33m\u001b[0m\u001b[0m\n",
      "\u001b[1;32mC:\\Users\\vjj14\\.conda\\envs\\dlc-windowsGPU\\lib\\site-packages\\sklearn\\ensemble\\forest.py\u001b[0m in \u001b[0;36mfit\u001b[1;34m(self, X, y, sample_weight)\u001b[0m\n\u001b[0;32m    314\u001b[0m             \u001b[1;32mfor\u001b[0m \u001b[0mi\u001b[0m \u001b[1;32min\u001b[0m \u001b[0mrange\u001b[0m\u001b[1;33m(\u001b[0m\u001b[0mn_more_estimators\u001b[0m\u001b[1;33m)\u001b[0m\u001b[1;33m:\u001b[0m\u001b[1;33m\u001b[0m\u001b[0m\n\u001b[0;32m    315\u001b[0m                 tree = self._make_estimator(append=False,\n\u001b[1;32m--> 316\u001b[1;33m                                             random_state=random_state)\n\u001b[0m\u001b[0;32m    317\u001b[0m                 \u001b[0mtrees\u001b[0m\u001b[1;33m.\u001b[0m\u001b[0mappend\u001b[0m\u001b[1;33m(\u001b[0m\u001b[0mtree\u001b[0m\u001b[1;33m)\u001b[0m\u001b[1;33m\u001b[0m\u001b[0m\n\u001b[0;32m    318\u001b[0m \u001b[1;33m\u001b[0m\u001b[0m\n",
      "\u001b[1;32mC:\\Users\\vjj14\\.conda\\envs\\dlc-windowsGPU\\lib\\site-packages\\sklearn\\ensemble\\base.py\u001b[0m in \u001b[0;36m_make_estimator\u001b[1;34m(self, append, random_state)\u001b[0m\n\u001b[0;32m    123\u001b[0m         \u001b[0msub\u001b[0m\u001b[1;33m-\u001b[0m\u001b[0mestimators\u001b[0m\u001b[1;33m.\u001b[0m\u001b[1;33m\u001b[0m\u001b[0m\n\u001b[0;32m    124\u001b[0m         \"\"\"\n\u001b[1;32m--> 125\u001b[1;33m         \u001b[0mestimator\u001b[0m \u001b[1;33m=\u001b[0m \u001b[0mclone\u001b[0m\u001b[1;33m(\u001b[0m\u001b[0mself\u001b[0m\u001b[1;33m.\u001b[0m\u001b[0mbase_estimator_\u001b[0m\u001b[1;33m)\u001b[0m\u001b[1;33m\u001b[0m\u001b[0m\n\u001b[0m\u001b[0;32m    126\u001b[0m         estimator.set_params(**dict((p, getattr(self, p))\n\u001b[0;32m    127\u001b[0m                                     for p in self.estimator_params))\n",
      "\u001b[1;32mC:\\Users\\vjj14\\.conda\\envs\\dlc-windowsGPU\\lib\\site-packages\\sklearn\\base.py\u001b[0m in \u001b[0;36mclone\u001b[1;34m(estimator, safe)\u001b[0m\n\u001b[0;32m     62\u001b[0m         \u001b[0mnew_object_params\u001b[0m\u001b[1;33m[\u001b[0m\u001b[0mname\u001b[0m\u001b[1;33m]\u001b[0m \u001b[1;33m=\u001b[0m \u001b[0mclone\u001b[0m\u001b[1;33m(\u001b[0m\u001b[0mparam\u001b[0m\u001b[1;33m,\u001b[0m \u001b[0msafe\u001b[0m\u001b[1;33m=\u001b[0m\u001b[1;32mFalse\u001b[0m\u001b[1;33m)\u001b[0m\u001b[1;33m\u001b[0m\u001b[0m\n\u001b[0;32m     63\u001b[0m     \u001b[0mnew_object\u001b[0m \u001b[1;33m=\u001b[0m \u001b[0mklass\u001b[0m\u001b[1;33m(\u001b[0m\u001b[1;33m**\u001b[0m\u001b[0mnew_object_params\u001b[0m\u001b[1;33m)\u001b[0m\u001b[1;33m\u001b[0m\u001b[0m\n\u001b[1;32m---> 64\u001b[1;33m     \u001b[0mparams_set\u001b[0m \u001b[1;33m=\u001b[0m \u001b[0mnew_object\u001b[0m\u001b[1;33m.\u001b[0m\u001b[0mget_params\u001b[0m\u001b[1;33m(\u001b[0m\u001b[0mdeep\u001b[0m\u001b[1;33m=\u001b[0m\u001b[1;32mFalse\u001b[0m\u001b[1;33m)\u001b[0m\u001b[1;33m\u001b[0m\u001b[0m\n\u001b[0m\u001b[0;32m     65\u001b[0m \u001b[1;33m\u001b[0m\u001b[0m\n\u001b[0;32m     66\u001b[0m     \u001b[1;31m# quick sanity check of the parameters of the clone\u001b[0m\u001b[1;33m\u001b[0m\u001b[1;33m\u001b[0m\u001b[0m\n",
      "\u001b[1;32mC:\\Users\\vjj14\\.conda\\envs\\dlc-windowsGPU\\lib\\site-packages\\sklearn\\base.py\u001b[0m in \u001b[0;36mget_params\u001b[1;34m(self, deep)\u001b[0m\n\u001b[0;32m    233\u001b[0m             \u001b[0mwarnings\u001b[0m\u001b[1;33m.\u001b[0m\u001b[0msimplefilter\u001b[0m\u001b[1;33m(\u001b[0m\u001b[1;34m\"always\"\u001b[0m\u001b[1;33m,\u001b[0m \u001b[0mDeprecationWarning\u001b[0m\u001b[1;33m)\u001b[0m\u001b[1;33m\u001b[0m\u001b[0m\n\u001b[0;32m    234\u001b[0m             \u001b[1;32mtry\u001b[0m\u001b[1;33m:\u001b[0m\u001b[1;33m\u001b[0m\u001b[0m\n\u001b[1;32m--> 235\u001b[1;33m                 \u001b[1;32mwith\u001b[0m \u001b[0mwarnings\u001b[0m\u001b[1;33m.\u001b[0m\u001b[0mcatch_warnings\u001b[0m\u001b[1;33m(\u001b[0m\u001b[0mrecord\u001b[0m\u001b[1;33m=\u001b[0m\u001b[1;32mTrue\u001b[0m\u001b[1;33m)\u001b[0m \u001b[1;32mas\u001b[0m \u001b[0mw\u001b[0m\u001b[1;33m:\u001b[0m\u001b[1;33m\u001b[0m\u001b[0m\n\u001b[0m\u001b[0;32m    236\u001b[0m                     \u001b[0mvalue\u001b[0m \u001b[1;33m=\u001b[0m \u001b[0mgetattr\u001b[0m\u001b[1;33m(\u001b[0m\u001b[0mself\u001b[0m\u001b[1;33m,\u001b[0m \u001b[0mkey\u001b[0m\u001b[1;33m,\u001b[0m \u001b[1;32mNone\u001b[0m\u001b[1;33m)\u001b[0m\u001b[1;33m\u001b[0m\u001b[0m\n\u001b[0;32m    237\u001b[0m                 \u001b[1;32mif\u001b[0m \u001b[0mlen\u001b[0m\u001b[1;33m(\u001b[0m\u001b[0mw\u001b[0m\u001b[1;33m)\u001b[0m \u001b[1;32mand\u001b[0m \u001b[0mw\u001b[0m\u001b[1;33m[\u001b[0m\u001b[1;36m0\u001b[0m\u001b[1;33m]\u001b[0m\u001b[1;33m.\u001b[0m\u001b[0mcategory\u001b[0m \u001b[1;33m==\u001b[0m \u001b[0mDeprecationWarning\u001b[0m\u001b[1;33m:\u001b[0m\u001b[1;33m\u001b[0m\u001b[0m\n",
      "\u001b[1;32mC:\\Users\\vjj14\\.conda\\envs\\dlc-windowsGPU\\lib\\warnings.py\u001b[0m in \u001b[0;36m__enter__\u001b[1;34m(self)\u001b[0m\n\u001b[0;32m    452\u001b[0m         \u001b[0mself\u001b[0m\u001b[1;33m.\u001b[0m\u001b[0m_entered\u001b[0m \u001b[1;33m=\u001b[0m \u001b[1;32mTrue\u001b[0m\u001b[1;33m\u001b[0m\u001b[0m\n\u001b[0;32m    453\u001b[0m         \u001b[0mself\u001b[0m\u001b[1;33m.\u001b[0m\u001b[0m_filters\u001b[0m \u001b[1;33m=\u001b[0m \u001b[0mself\u001b[0m\u001b[1;33m.\u001b[0m\u001b[0m_module\u001b[0m\u001b[1;33m.\u001b[0m\u001b[0mfilters\u001b[0m\u001b[1;33m\u001b[0m\u001b[0m\n\u001b[1;32m--> 454\u001b[1;33m         \u001b[0mself\u001b[0m\u001b[1;33m.\u001b[0m\u001b[0m_module\u001b[0m\u001b[1;33m.\u001b[0m\u001b[0mfilters\u001b[0m \u001b[1;33m=\u001b[0m \u001b[0mself\u001b[0m\u001b[1;33m.\u001b[0m\u001b[0m_filters\u001b[0m\u001b[1;33m[\u001b[0m\u001b[1;33m:\u001b[0m\u001b[1;33m]\u001b[0m\u001b[1;33m\u001b[0m\u001b[0m\n\u001b[0m\u001b[0;32m    455\u001b[0m         \u001b[0mself\u001b[0m\u001b[1;33m.\u001b[0m\u001b[0m_module\u001b[0m\u001b[1;33m.\u001b[0m\u001b[0m_filters_mutated\u001b[0m\u001b[1;33m(\u001b[0m\u001b[1;33m)\u001b[0m\u001b[1;33m\u001b[0m\u001b[0m\n\u001b[0;32m    456\u001b[0m         \u001b[0mself\u001b[0m\u001b[1;33m.\u001b[0m\u001b[0m_showwarning\u001b[0m \u001b[1;33m=\u001b[0m \u001b[0mself\u001b[0m\u001b[1;33m.\u001b[0m\u001b[0m_module\u001b[0m\u001b[1;33m.\u001b[0m\u001b[0mshowwarning\u001b[0m\u001b[1;33m\u001b[0m\u001b[0m\n",
      "\u001b[1;31mKeyboardInterrupt\u001b[0m: "
     ]
    }
   ],
   "source": [
    "wrong_ones = []\n",
    "for i in range(100, 200):\n",
    "    seed = i\n",
    "    wrong_ones.extend(create_classifier(features, labels, 1000, test_proportion=0.1)[1])\n",
    "wrong_ones.sort(key= lambda x: x[0])\n",
    "wrong_df = pd.DataFrame(wrong_ones, columns = ['time', 'guess', 'actual'])\n",
    "wrong_df.groupby(wrong_df.columns.tolist(),as_index=False).size()"
   ]
  },
  {
   "cell_type": "code",
   "execution_count": 11,
   "metadata": {},
   "outputs": [
    {
     "ename": "NameError",
     "evalue": "name 'wrong_df' is not defined",
     "output_type": "error",
     "traceback": [
      "\u001b[1;31m---------------------------------------------------------------------------\u001b[0m",
      "\u001b[1;31mNameError\u001b[0m                                 Traceback (most recent call last)",
      "\u001b[1;32m<ipython-input-11-1698bb0a9ecd>\u001b[0m in \u001b[0;36m<module>\u001b[1;34m()\u001b[0m\n\u001b[1;32m----> 1\u001b[1;33m \u001b[0mwrong_df\u001b[0m\u001b[1;33m\u001b[0m\u001b[0m\n\u001b[0m\u001b[0;32m      2\u001b[0m \u001b[0mwrong_df\u001b[0m\u001b[1;33m.\u001b[0m\u001b[0mgroupby\u001b[0m\u001b[1;33m(\u001b[0m\u001b[0mwrong_df\u001b[0m\u001b[1;33m.\u001b[0m\u001b[0mcolumns\u001b[0m\u001b[1;33m.\u001b[0m\u001b[0mtolist\u001b[0m\u001b[1;33m(\u001b[0m\u001b[1;33m)\u001b[0m\u001b[1;33m,\u001b[0m\u001b[0mas_index\u001b[0m\u001b[1;33m=\u001b[0m\u001b[1;32mFalse\u001b[0m\u001b[1;33m)\u001b[0m\u001b[1;33m.\u001b[0m\u001b[0msize\u001b[0m\u001b[1;33m(\u001b[0m\u001b[1;33m)\u001b[0m\u001b[1;33m\u001b[0m\u001b[0m\n",
      "\u001b[1;31mNameError\u001b[0m: name 'wrong_df' is not defined"
     ]
    }
   ],
   "source": [
    "wrong_df\n",
    "wrong_df.groupby(wrong_df.columns.tolist(),as_index=False).size()"
   ]
  },
  {
   "cell_type": "code",
   "execution_count": 109,
   "metadata": {},
   "outputs": [],
   "source": [
    "# 182: pellet goes up like a success?\n",
    "# 240: pellet dispenser goes down during reach\n",
    "# 83, 90: mouse drops pellet within/near acrylic, ambigious even to humans\n",
    "# "
   ]
  },
  {
   "cell_type": "markdown",
   "metadata": {},
   "source": [
    "# Find Success, Fails, and Reaches"
   ]
  },
  {
   "cell_type": "code",
   "execution_count": 38,
   "metadata": {},
   "outputs": [
    {
     "name": "stdout",
     "output_type": "stream",
     "text": [
      "[13.989, 14.506, 42.041, 45.645, 50.875, 65.99, 83.207, 90.188, 105.211, 113.303, 113.953, 132.163, 154.268, 181.995, 240.102, 253.699, 258.495, 323.3, 350.986, 364.474]\n",
      "[1.118, 1.793, 14.489, 15.665, 16.174, 18.376, 27.652, 32.173, 37.687, 38.313, 41.357, 42.3, 48.447, 55.046, 61.619, 62.311, 64.463, 105.629, 109.382, 121.744, 132.547, 133.181, 135.199, 135.591, 136.526, 240.11, 281.735, 303.581]\n",
      "[1.977, 21.137, 33.917, 50.908, 56.631, 65.998, 76.925, 123.997, 135.725, 138.286, 145.259, 154.276, 170.509, 190.086, 202.924, 240.569, 243.105, 272.409, 284.729, 295.039, 310.246, 351.094, 376.302, 432.582]\n"
     ]
    }
   ],
   "source": [
    "import operator\n",
    "#Helper Functions\n",
    "def get_predicted_times(classifier, df):\n",
    "    dataframe = df[cols]\n",
    "    inputs = []\n",
    "    num_frames = frames_before + frames_after\n",
    "    for index in range(num_frames, dataframe.shape[0] - num_frames, step_size):\n",
    "        temp_df = dataframe.iloc[index - frames_before: index + frames_after]\n",
    "        inputs.append(temp_df.values.flatten())\n",
    "    inputs = np.asarray(inputs)\n",
    "    predictions = classifier.predict(inputs)\n",
    "    return predictions, list(range(num_frames, dataframe.shape[0] - num_frames, step_size))\n",
    "def get_starts(lst):\n",
    "    starts = [lst[0]]\n",
    "    for i in range(1, len(lst)):\n",
    "        if lst[i] - lst[i-1] > 0.2:\n",
    "            starts.append(lst[i])\n",
    "    return starts\n",
    "\n",
    "#Find Reaches, \n",
    "def get_classified_starts(classifier, df):\n",
    "    predictions2, start_frames = get_predicted_times(classifier, df)\n",
    "    class_to_predictions = {}\n",
    "    for start, prediction in zip(start_frames, predictions2):\n",
    "        for c in classes:\n",
    "            if prediction == c:\n",
    "                if c in class_to_predictions.keys():\n",
    "                    class_to_predictions[c].append(frame_to_time(start))\n",
    "                else:\n",
    "                    class_to_predictions[c] = [frame_to_time(start)]\n",
    "    for c in classes:\n",
    "        hold = get_starts(class_to_predictions[c])\n",
    "        class_to_predictions[c] = hold\n",
    "    return class_to_predictions\n",
    "starts = get_classified_starts(blue[0], df)\n",
    "predicted_fails = starts['f']\n",
    "predicted_reaches = starts['r']\n",
    "predicted_successes = starts['s']\n",
    "print(predicted_fails)\n",
    "print(predicted_reaches)\n",
    "print(predicted_successes)\n",
    "x = (predicted_fails + predicted_reaches + predicted_successes)"
   ]
  },
  {
   "cell_type": "code",
   "execution_count": 37,
   "metadata": {},
   "outputs": [
    {
     "data": {
      "text/plain": [
       "458.55"
      ]
     },
     "execution_count": 37,
     "metadata": {},
     "output_type": "execute_result"
    }
   ],
   "source": [
    "df.shape[0]/120"
   ]
  },
  {
   "cell_type": "code",
   "execution_count": 32,
   "metadata": {},
   "outputs": [
    {
     "name": "stdout",
     "output_type": "stream",
     "text": [
      "[1.126, 1.802, 1.977, 13.989, 14.489, 14.514, 15.665, 16.191, 18.393, 21.146, 27.652, 32.182, 33.933, 37.687, 38.313, 41.366, 42.041, 42.316, 45.645, 48.447, 50.875, 50.925, 55.054, 56.631, 61.635, 62.311, 62.636, 64.463, 65.99, 66.015, 76.925, 83.207, 90.188, 105.228, 105.629, 109.382, 113.311, 113.962, 121.744, 123.997, 132.18, 132.555, 133.181, 135.208, 135.608, 135.758, 136.534, 138.286, 145.267, 154.276, 170.517, 182.003, 190.086, 202.924, 240.11, 240.586, 243.113, 253.699, 258.503, 272.417, 281.751, 284.729, 295.039, 303.598, 310.254, 323.317, 350.994, 351.094, 364.482, 376.319, 432.599]\n"
     ]
    }
   ],
   "source": [
    "y = sorted(x)\n",
    "print(y)\n",
    "import numpy as np\n",
    "np.savetxt(\"file_name.csv\", y, delimiter=\",\", fmt='%s', header='times')"
   ]
  },
  {
   "cell_type": "code",
   "execution_count": 13,
   "metadata": {},
   "outputs": [],
   "source": [
    "def frame_to_time(frame):\n",
    "    total_seconds = (frame/9351)*77.6\n",
    "    return round(total_seconds, 3)\n",
    "def time_to_frame(time):\n",
    "    return int(round(9351*(time/77.6)))"
   ]
  },
  {
   "cell_type": "code",
   "execution_count": 137,
   "metadata": {},
   "outputs": [
    {
     "data": {
      "text/plain": [
       "0.05"
      ]
     },
     "execution_count": 137,
     "metadata": {},
     "output_type": "execute_result"
    }
   ],
   "source": [
    "frame_to_time(6)"
   ]
  },
  {
   "cell_type": "code",
   "execution_count": 15,
   "metadata": {},
   "outputs": [],
   "source": [
    "reaches = [0.353, 12.325, 16.568, 17.55, 18.912, 20.41, 22.1, 22.92, 24.699, 27.4, 29.754, 30.431, 31.39, 32.692, 37.731, \n",
    "           38.258, 42.86, 45.714, 56.45, 76.803, 77.86, 86.2, 86.75, 91.13, 91.649, 97.563, 98.1, 106.739, 107.292, 116.412, \n",
    "           121.49, 122.236, 124.775, 125.375, 134.324, 134.859, 142.37, 143.0, 150.0, 150.955, 159.435, 160.04, 165.02, \n",
    "           165.633, 174.018, 177.129, 179.23, 183.719, 185.755, 192.041, 197.214, 198.66, 201.286, 203.34, 204.15, 206.253, \n",
    "           209.36, 213.027, 213.895, 217.676, 218.325, 218.982, 223.198, 226.56, 230.524, 233.61, 234.286, 235.838, 236.316, \n",
    "           237.091, 250.448, 251.206, 253.05]\n",
    "reaches_labels = ['r', 's', 'r', 'f', 'r', 'r', 'f', 'r', 'r', 'r', 'f', 'r', 'r', 'r?', 'f', 'r', 'r', 's', 'r', 'f', 'r', \n",
    "                  'f', 'r', 'f', 'r', 'f', 'r', 'f', 'r', 'f?', 'r', 'r', 'f', 'r', 'f', 'r', 'f', 'r', 'f', '?', 'f', 'r', \n",
    "                  'f', 'r', 's', 'r', 's', 'f', 'r', 's', 'f', 'r', 'f', 'r', 'r', 's', 'r', 'f', 'r', 'r', 'f', 'r', 's', \n",
    "                  'r', 's', 'r', 'r', 'f', 'f', 'f?', 'f', 'r', 'r']\n",
    "s = [reaches[i] for i in range(len(reaches)) if reaches_labels[i] == 's']\n",
    "r = [reaches[i] for i in range(len(reaches)) if reaches_labels[i] == 'r']\n",
    "f = [reaches[i] for i in range(len(reaches)) if reaches_labels[i] == 'f']"
   ]
  },
  {
   "cell_type": "code",
   "execution_count": 16,
   "metadata": {},
   "outputs": [
    {
     "name": "stdout",
     "output_type": "stream",
     "text": [
      "[16.282]\n",
      "[5.377, 5.826, 6.423, 11.402, 13.195, 13.643, 14.191, 16.182, 16.68, 17.477, 19.668, 20.315, 21.858, 23.9, 27.087, 31.468, 31.916, 33.012, 33.659, 35.601, 45.758, 50.986, 51.484, 54.82, 59.302, 59.75, 60.895, 62.14, 63.434, 65.775, 66.82, 67.368, 72.297, 72.895, 75.185]\n",
      "[6.473, 27.584, 45.808, 66.073]\n"
     ]
    }
   ],
   "source": [
    "df2 = pd.read_hdf(r\"C:\\Users\\vjj14\\Desktop\\DeepLabCut\\goprolensfront-vj-2019-06-25\\videos\\6_26_2.7k_copyDeepCut_resnet50_goprolensfrontJun25shuffle1_60002.h5\")\n",
    "df2.columns = df2.columns.droplevel()\n",
    "starts = get_classified_starts(blue[0], df2)\n",
    "predicted_fails = starts['f']\n",
    "predicted_reaches = starts['r']\n",
    "predicted_successes = starts['s']\n",
    "print(predicted_fails)\n",
    "print(predicted_reaches)\n",
    "print(predicted_successes)"
   ]
  },
  {
   "cell_type": "code",
   "execution_count": 163,
   "metadata": {},
   "outputs": [],
   "source": [
    "path_config_file = r\"C:\\Users\\vjj14\\Desktop\\DeepLabCut\\goprolensfront-vj-2019-06-25\""
   ]
  },
  {
   "cell_type": "code",
   "execution_count": 164,
   "metadata": {},
   "outputs": [
    {
     "data": {
      "text/plain": [
       "'if not exist \"C:\\\\Users\\\\vjj14\\\\Desktop\\\\DeepLabCut\\\\goprolensfront-vj\\\\vid_clips\" mkdir C:\\\\Users\\\\vjj14\\\\Desktop\\\\DeepLabCut\\\\goprolensfront-vjvid_clips'"
      ]
     },
     "execution_count": 164,
     "metadata": {},
     "output_type": "execute_result"
    }
   ],
   "source": [
    "'if not exist \"{}\" mkdir {}'.format(path_config_file[:-11] + \"\\\\vid_clips\", path_config_file[:-11] + \"vid_clips\")"
   ]
  },
  {
   "cell_type": "code",
   "execution_count": 167,
   "metadata": {},
   "outputs": [],
   "source": [
    "#2019.07.08_CC42970_N3_V3_2.7k_120FPS_Label\n",
    "reaches2 = [11.59, 17.76, 18.47, 20.81, 22.45, 25.49, 37.40, 41.88, 51.55, 57.35, 64.50, 78.54, 84.61, \n",
    "            96.27, 108.61, 117.01, 123.13, 130.13, 157.55, 164.34, 207.55]\n",
    "vids2 = ['11.59.mp4', '17.76.mp4', '18.47.mp4', '20.81.mp4', '22.45.mp4', '25.49.mp4', '37.4.mp4', '41.88.mp4', '51.55.mp4', \n",
    "         '57.35.mp4', '64.5.mp4', '78.54.mp4', '84.61.mp4', '96.27.mp4', '108.61.mp4', '117.01.mp4', '123.13.mp4', \n",
    "         '130.13.mp4', '157.55.mp4', '164.34.mp4', '207.55.mp4']\n",
    "#2019.07.08_CC42973_N2INJURED_V3_2.7k_120FPS_Label\n",
    "reaches3 = [21.19, 66.49, 71.22, 85.34, 92.22, 99.69, 116.29, 127.70, 135.33, 142.42, 147.11, \n",
    "                   151.60, 157.72, 163.40, 172.79, 183.10, 204.05, 208.73, 216.32]\n",
    "vids3 = ['21.19.mp4', '66.49.mp4', '71.22.mp4', '85.34.mp4', '92.22.mp4', '99.69.mp4', '116.29.mp4', '127.7.mp4', \n",
    "         '135.33.mp4', '142.42.mp4', '147.11.mp4', '151.6.mp4', '157.72.mp4', '163.4.mp4', '172.79.mp4', '183.1.mp4', \n",
    "         '204.05.mp4', '208.73.mp4', '216.32.mp4']"
   ]
  },
  {
   "cell_type": "code",
   "execution_count": 178,
   "metadata": {},
   "outputs": [],
   "source": [
    "import datetime\n",
    "import numpy as np\n",
    "project_name = 'gopro3lens'\n",
    "path_config_file= r\"C:\\Users\\vjj14\\Desktop\\DeepLabCut\\gopro3lens-vj-2019-07-08\\config.yaml\"\n",
    "video = \"2019.07.08_CC42970_N3_V3_2.7k_120FPS_Label\"\n",
    "#turns seconds into a string format ffmpeg uses\n",
    "def seconds_formatter(sec):\n",
    "    x = \"0\" + str(datetime.timedelta(seconds=sec))[:-3]\n",
    "    return x\n",
    "\n",
    "#Open up new batch file\n",
    "bat_file= path_config_file[:-11] + \"videos\\{}_create_videos.bat\".format(project_name)\n",
    "directory = path_config_file[:-11] + \"videos\\\\\" + video\n",
    "script_writer= open(bat_file,\"w\")\n",
    "\n",
    "script_writer.write('if not exist \"{}\" mkdir {} && '.format(directory, directory))\n",
    "\n",
    "#write series of shell commands to create videos for each attempt, connected by '&&' for the batch file\n",
    "vids = []\n",
    "for time in reaches2:\n",
    "    start_time = seconds_formatter(max(0, time - 1.25))\n",
    "    cmd = \"ffmpeg -i {0}.mp4 -ss {1} -t {2} -c copy {3}{4}.mp4\".format(video, start_time, 2, directory + \"\\\\\", np.round(time, 3))\n",
    "    vids.append(str(np.round(time, 3)) + \".mp4\")\n",
    "    script_writer.write(cmd + \" && \")\n",
    "script_writer.close()\n",
    "\n",
    "#open and write a list of videos to concatenate (.txt file) for ffmpeg to use\n",
    "list_file = path_config_file[:-11] + \"videos\\{}_video_list.txt\".format(project_name)\n",
    "list_writer = open(list_file, \"w+\")\n",
    "for v in vids:\n",
    "    list_writer.write('file ' + \"\\'\" + directory +\"\\{}\".format(v) + \"\\'\\n\")\n",
    "list_writer.close()\n",
    "\n",
    "#open batch file again and write command to produce a concatenated video, the final product\n",
    "script_writer = open(bat_file, \"a+\")\n",
    "script_writer.write(\"ffmpeg -f concat -safe 0 -i {0} -c copy output2.mp4\".format(list_file))\n",
    "script_writer.close()"
   ]
  },
  {
   "cell_type": "code",
   "execution_count": 181,
   "metadata": {},
   "outputs": [
    {
     "name": "stdout",
     "output_type": "stream",
     "text": [
      "ffmpeg -i 2019.07.08_CC42970_N3_V3_2.7k_120FPS_Label.mp4 -ss 00:03:26.300 -t 2 -c copy C:\\Users\\vjj14\\Desktop\\DeepLabCut\\gopro3lens-vj-2019-07-08\\videos\\2019.07.08_CC42970_N3_V3_2.7k_120FPS_Label\\207.55.mp4\n",
      "ffmpeg -f concat -safe 0 -i C:\\Users\\vjj14\\Desktop\\DeepLabCut\\gopro3lens-vj-2019-07-08\\videos\\gopro3lens_video_list.txt -c copy output2.mp4\n"
     ]
    },
    {
     "data": {
      "text/plain": [
       "'C:\\\\Users\\\\vjj14\\\\Desktop\\\\DeepLabCut\\\\gopro3lens-vj-2019-07-08\\\\videos\\\\2019.07.08_CC42970_N3_V3_2.7k_120FPS_Label'"
      ]
     },
     "execution_count": 181,
     "metadata": {},
     "output_type": "execute_result"
    }
   ],
   "source": [
    "cmd = \"ffmpeg -i {0}.mp4 -ss {1} -t {2} -c copy {3}{4}.mp4\".format(video, start_time, 2, directory + \"\\\\\", np.round(time, 3))\n",
    "print(cmd)\n",
    "print(\"ffmpeg -f concat -safe 0 -i {0} -c copy output2.mp4\".format(list_file))\n",
    "directory"
   ]
  },
  {
   "cell_type": "code",
   "execution_count": 31,
   "metadata": {},
   "outputs": [
    {
     "data": {
      "text/plain": [
       "'C:\\\\Users\\\\vjj14\\\\Desktop\\\\DeepLabCut\\\\gopro3lens-vj-2019-07-08\\\\2019.07.08_CC42970_N3_V3_2.7k_120FPS_Label\\\\asdf.mp4'"
      ]
     },
     "execution_count": 31,
     "metadata": {},
     "output_type": "execute_result"
    }
   ],
   "source": [
    "path_config_file= r\"C:\\Users\\vjj14\\Desktop\\DeepLabCut\\gopro3lens-vj-2019-07-08\\config.yaml\"\n",
    "\n",
    "path_config_file[:-11] + \"2019.07.08_CC42970_N3_V3_2.7k_120FPS_Label\" + \"\\\\\" + \"asdf.mp4\""
   ]
  },
  {
   "cell_type": "code",
   "execution_count": 180,
   "metadata": {},
   "outputs": [
    {
     "name": "stdout",
     "output_type": "stream",
     "text": [
      "['11.59.mp4', '17.76.mp4', '18.47.mp4', '20.81.mp4', '22.45.mp4', '25.49.mp4', '37.4.mp4', '41.88.mp4', '51.55.mp4', '57.35.mp4', '64.5.mp4', '78.54.mp4', '84.61.mp4', '96.27.mp4', '108.61.mp4', '117.01.mp4', '123.13.mp4', '130.13.mp4', '157.55.mp4', '164.34.mp4', '207.55.mp4']\n"
     ]
    }
   ],
   "source": [
    "print(vids)"
   ]
  },
  {
   "cell_type": "code",
   "execution_count": null,
   "metadata": {},
   "outputs": [],
   "source": []
  }
 ],
 "metadata": {
  "kernelspec": {
   "display_name": "Python 3",
   "language": "python",
   "name": "python3"
  },
  "language_info": {
   "codemirror_mode": {
    "name": "ipython",
    "version": 3
   },
   "file_extension": ".py",
   "mimetype": "text/x-python",
   "name": "python",
   "nbconvert_exporter": "python",
   "pygments_lexer": "ipython3",
   "version": "3.6.6"
  }
 },
 "nbformat": 4,
 "nbformat_minor": 2
}

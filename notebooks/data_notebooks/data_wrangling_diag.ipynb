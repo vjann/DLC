{
 "cells": [
  {
   "cell_type": "code",
   "execution_count": 2,
   "metadata": {},
   "outputs": [],
   "source": [
    "import numpy as np\n",
    "import pandas as pd\n",
    "import matplotlib as plt"
   ]
  },
  {
   "cell_type": "markdown",
   "metadata": {},
   "source": [
    "# Reading and Initializing"
   ]
  },
  {
   "cell_type": "code",
   "execution_count": 3,
   "metadata": {
    "scrolled": true
   },
   "outputs": [
    {
     "data": {
      "text/html": [
       "<div>\n",
       "<style scoped>\n",
       "    .dataframe tbody tr th:only-of-type {\n",
       "        vertical-align: middle;\n",
       "    }\n",
       "\n",
       "    .dataframe tbody tr th {\n",
       "        vertical-align: top;\n",
       "    }\n",
       "\n",
       "    .dataframe thead tr th {\n",
       "        text-align: left;\n",
       "    }\n",
       "</style>\n",
       "<table border=\"1\" class=\"dataframe\">\n",
       "  <thead>\n",
       "    <tr>\n",
       "      <th>bodyparts</th>\n",
       "      <th colspan=\"3\" halign=\"left\">leftEye</th>\n",
       "      <th colspan=\"3\" halign=\"left\">nose</th>\n",
       "      <th colspan=\"3\" halign=\"left\">hand</th>\n",
       "      <th>index</th>\n",
       "      <th>...</th>\n",
       "      <th>middle</th>\n",
       "      <th colspan=\"3\" halign=\"left\">ring</th>\n",
       "      <th colspan=\"3\" halign=\"left\">pinky</th>\n",
       "      <th colspan=\"3\" halign=\"left\">pellet</th>\n",
       "    </tr>\n",
       "    <tr>\n",
       "      <th>coords</th>\n",
       "      <th>x</th>\n",
       "      <th>y</th>\n",
       "      <th>likelihood</th>\n",
       "      <th>x</th>\n",
       "      <th>y</th>\n",
       "      <th>likelihood</th>\n",
       "      <th>x</th>\n",
       "      <th>y</th>\n",
       "      <th>likelihood</th>\n",
       "      <th>x</th>\n",
       "      <th>...</th>\n",
       "      <th>likelihood</th>\n",
       "      <th>x</th>\n",
       "      <th>y</th>\n",
       "      <th>likelihood</th>\n",
       "      <th>x</th>\n",
       "      <th>y</th>\n",
       "      <th>likelihood</th>\n",
       "      <th>x</th>\n",
       "      <th>y</th>\n",
       "      <th>likelihood</th>\n",
       "    </tr>\n",
       "  </thead>\n",
       "  <tbody>\n",
       "    <tr>\n",
       "      <th>0</th>\n",
       "      <td>331.064579</td>\n",
       "      <td>262.509875</td>\n",
       "      <td>0.988152</td>\n",
       "      <td>469.346648</td>\n",
       "      <td>460.900509</td>\n",
       "      <td>0.994061</td>\n",
       "      <td>317.968819</td>\n",
       "      <td>493.064616</td>\n",
       "      <td>0.955051</td>\n",
       "      <td>332.377578</td>\n",
       "      <td>...</td>\n",
       "      <td>0.030956</td>\n",
       "      <td>330.725804</td>\n",
       "      <td>267.746470</td>\n",
       "      <td>0.033122</td>\n",
       "      <td>324.893178</td>\n",
       "      <td>510.845040</td>\n",
       "      <td>0.118548</td>\n",
       "      <td>334.489067</td>\n",
       "      <td>269.850945</td>\n",
       "      <td>0.029727</td>\n",
       "    </tr>\n",
       "    <tr>\n",
       "      <th>1</th>\n",
       "      <td>330.585515</td>\n",
       "      <td>263.276449</td>\n",
       "      <td>0.986252</td>\n",
       "      <td>468.901771</td>\n",
       "      <td>461.842341</td>\n",
       "      <td>0.996860</td>\n",
       "      <td>315.217863</td>\n",
       "      <td>491.947519</td>\n",
       "      <td>0.979382</td>\n",
       "      <td>331.808349</td>\n",
       "      <td>...</td>\n",
       "      <td>0.031755</td>\n",
       "      <td>330.815574</td>\n",
       "      <td>268.049594</td>\n",
       "      <td>0.029958</td>\n",
       "      <td>326.399165</td>\n",
       "      <td>512.029730</td>\n",
       "      <td>0.062423</td>\n",
       "      <td>333.883134</td>\n",
       "      <td>270.018268</td>\n",
       "      <td>0.035835</td>\n",
       "    </tr>\n",
       "    <tr>\n",
       "      <th>2</th>\n",
       "      <td>329.447625</td>\n",
       "      <td>265.687315</td>\n",
       "      <td>0.970498</td>\n",
       "      <td>466.360386</td>\n",
       "      <td>464.228407</td>\n",
       "      <td>0.997528</td>\n",
       "      <td>315.545722</td>\n",
       "      <td>492.007372</td>\n",
       "      <td>0.976342</td>\n",
       "      <td>332.089359</td>\n",
       "      <td>...</td>\n",
       "      <td>0.047653</td>\n",
       "      <td>330.376154</td>\n",
       "      <td>268.013651</td>\n",
       "      <td>0.038346</td>\n",
       "      <td>327.496909</td>\n",
       "      <td>511.212395</td>\n",
       "      <td>0.064501</td>\n",
       "      <td>333.503396</td>\n",
       "      <td>270.671923</td>\n",
       "      <td>0.049036</td>\n",
       "    </tr>\n",
       "    <tr>\n",
       "      <th>3</th>\n",
       "      <td>327.880071</td>\n",
       "      <td>267.725319</td>\n",
       "      <td>0.979649</td>\n",
       "      <td>465.652474</td>\n",
       "      <td>466.173157</td>\n",
       "      <td>0.996836</td>\n",
       "      <td>315.954294</td>\n",
       "      <td>493.867136</td>\n",
       "      <td>0.980207</td>\n",
       "      <td>332.923160</td>\n",
       "      <td>...</td>\n",
       "      <td>0.034627</td>\n",
       "      <td>329.765588</td>\n",
       "      <td>268.370421</td>\n",
       "      <td>0.026978</td>\n",
       "      <td>325.673337</td>\n",
       "      <td>512.227060</td>\n",
       "      <td>0.081225</td>\n",
       "      <td>334.066101</td>\n",
       "      <td>270.950899</td>\n",
       "      <td>0.029051</td>\n",
       "    </tr>\n",
       "    <tr>\n",
       "      <th>4</th>\n",
       "      <td>328.126409</td>\n",
       "      <td>269.662511</td>\n",
       "      <td>0.990072</td>\n",
       "      <td>465.764715</td>\n",
       "      <td>467.997076</td>\n",
       "      <td>0.997026</td>\n",
       "      <td>318.587152</td>\n",
       "      <td>491.670550</td>\n",
       "      <td>0.965005</td>\n",
       "      <td>333.519781</td>\n",
       "      <td>...</td>\n",
       "      <td>0.031279</td>\n",
       "      <td>458.980267</td>\n",
       "      <td>478.278642</td>\n",
       "      <td>0.033875</td>\n",
       "      <td>336.294533</td>\n",
       "      <td>513.439205</td>\n",
       "      <td>0.165606</td>\n",
       "      <td>332.552677</td>\n",
       "      <td>271.173792</td>\n",
       "      <td>0.031113</td>\n",
       "    </tr>\n",
       "  </tbody>\n",
       "</table>\n",
       "<p>5 rows × 24 columns</p>\n",
       "</div>"
      ],
      "text/plain": [
       "bodyparts     leftEye                               nose              \\\n",
       "coords              x           y likelihood           x           y   \n",
       "0          331.064579  262.509875   0.988152  469.346648  460.900509   \n",
       "1          330.585515  263.276449   0.986252  468.901771  461.842341   \n",
       "2          329.447625  265.687315   0.970498  466.360386  464.228407   \n",
       "3          327.880071  267.725319   0.979649  465.652474  466.173157   \n",
       "4          328.126409  269.662511   0.990072  465.764715  467.997076   \n",
       "\n",
       "bodyparts                   hand                              index  \\\n",
       "coords    likelihood           x           y likelihood           x   \n",
       "0           0.994061  317.968819  493.064616   0.955051  332.377578   \n",
       "1           0.996860  315.217863  491.947519   0.979382  331.808349   \n",
       "2           0.997528  315.545722  492.007372   0.976342  332.089359   \n",
       "3           0.996836  315.954294  493.867136   0.980207  332.923160   \n",
       "4           0.997026  318.587152  491.670550   0.965005  333.519781   \n",
       "\n",
       "bodyparts    ...         middle        ring                         \\\n",
       "coords       ...     likelihood           x           y likelihood   \n",
       "0            ...       0.030956  330.725804  267.746470   0.033122   \n",
       "1            ...       0.031755  330.815574  268.049594   0.029958   \n",
       "2            ...       0.047653  330.376154  268.013651   0.038346   \n",
       "3            ...       0.034627  329.765588  268.370421   0.026978   \n",
       "4            ...       0.031279  458.980267  478.278642   0.033875   \n",
       "\n",
       "bodyparts       pinky                             pellet              \\\n",
       "coords              x           y likelihood           x           y   \n",
       "0          324.893178  510.845040   0.118548  334.489067  269.850945   \n",
       "1          326.399165  512.029730   0.062423  333.883134  270.018268   \n",
       "2          327.496909  511.212395   0.064501  333.503396  270.671923   \n",
       "3          325.673337  512.227060   0.081225  334.066101  270.950899   \n",
       "4          336.294533  513.439205   0.165606  332.552677  271.173792   \n",
       "\n",
       "bodyparts             \n",
       "coords    likelihood  \n",
       "0           0.029727  \n",
       "1           0.035835  \n",
       "2           0.049036  \n",
       "3           0.029051  \n",
       "4           0.031113  \n",
       "\n",
       "[5 rows x 24 columns]"
      ]
     },
     "execution_count": 3,
     "metadata": {},
     "output_type": "execute_result"
    }
   ],
   "source": [
    "df = pd.read_hdf(r\"C:\\Users\\vjj14\\Desktop\\DeepLabCut\\multi-diagonal-vj-2019-06-10\\videos\\diagonal1080p240fps_TrimDeepCut_resnet50_multi-diagonalJun10shuffle1_30001.h5\")\n",
    "#remove extra level \"scorer\"\n",
    "df.columns = df.columns.droplevel()\n",
    "df.head()"
   ]
  },
  {
   "cell_type": "code",
   "execution_count": 4,
   "metadata": {},
   "outputs": [
    {
     "data": {
      "text/html": [
       "<div>\n",
       "<style scoped>\n",
       "    .dataframe tbody tr th:only-of-type {\n",
       "        vertical-align: middle;\n",
       "    }\n",
       "\n",
       "    .dataframe tbody tr th {\n",
       "        vertical-align: top;\n",
       "    }\n",
       "\n",
       "    .dataframe thead tr th {\n",
       "        text-align: left;\n",
       "    }\n",
       "</style>\n",
       "<table border=\"1\" class=\"dataframe\">\n",
       "  <thead>\n",
       "    <tr>\n",
       "      <th>bodyparts</th>\n",
       "      <th colspan=\"3\" halign=\"left\">leftEye</th>\n",
       "      <th colspan=\"3\" halign=\"left\">nose</th>\n",
       "      <th colspan=\"3\" halign=\"left\">hand</th>\n",
       "      <th>index</th>\n",
       "      <th>...</th>\n",
       "      <th>middle</th>\n",
       "      <th colspan=\"3\" halign=\"left\">ring</th>\n",
       "      <th colspan=\"3\" halign=\"left\">pinky</th>\n",
       "      <th colspan=\"3\" halign=\"left\">pellet</th>\n",
       "    </tr>\n",
       "    <tr>\n",
       "      <th>coords</th>\n",
       "      <th>x</th>\n",
       "      <th>y</th>\n",
       "      <th>likelihood</th>\n",
       "      <th>x</th>\n",
       "      <th>y</th>\n",
       "      <th>likelihood</th>\n",
       "      <th>x</th>\n",
       "      <th>y</th>\n",
       "      <th>likelihood</th>\n",
       "      <th>x</th>\n",
       "      <th>...</th>\n",
       "      <th>likelihood</th>\n",
       "      <th>x</th>\n",
       "      <th>y</th>\n",
       "      <th>likelihood</th>\n",
       "      <th>x</th>\n",
       "      <th>y</th>\n",
       "      <th>likelihood</th>\n",
       "      <th>x</th>\n",
       "      <th>y</th>\n",
       "      <th>likelihood</th>\n",
       "    </tr>\n",
       "  </thead>\n",
       "  <tbody>\n",
       "    <tr>\n",
       "      <th>count</th>\n",
       "      <td>3824.000000</td>\n",
       "      <td>3824.000000</td>\n",
       "      <td>3824.000000</td>\n",
       "      <td>3824.000000</td>\n",
       "      <td>3824.000000</td>\n",
       "      <td>3824.000000</td>\n",
       "      <td>3824.000000</td>\n",
       "      <td>3824.000000</td>\n",
       "      <td>3824.000000</td>\n",
       "      <td>3824.000000</td>\n",
       "      <td>...</td>\n",
       "      <td>3824.000000</td>\n",
       "      <td>3824.000000</td>\n",
       "      <td>3824.000000</td>\n",
       "      <td>3824.000000</td>\n",
       "      <td>3824.000000</td>\n",
       "      <td>3824.000000</td>\n",
       "      <td>3824.000000</td>\n",
       "      <td>3824.000000</td>\n",
       "      <td>3824.000000</td>\n",
       "      <td>3824.000000</td>\n",
       "    </tr>\n",
       "    <tr>\n",
       "      <th>mean</th>\n",
       "      <td>298.030422</td>\n",
       "      <td>338.549852</td>\n",
       "      <td>0.946013</td>\n",
       "      <td>428.665028</td>\n",
       "      <td>522.746868</td>\n",
       "      <td>0.801029</td>\n",
       "      <td>312.324585</td>\n",
       "      <td>516.477019</td>\n",
       "      <td>0.766931</td>\n",
       "      <td>329.149471</td>\n",
       "      <td>...</td>\n",
       "      <td>0.435921</td>\n",
       "      <td>335.530763</td>\n",
       "      <td>509.367127</td>\n",
       "      <td>0.488388</td>\n",
       "      <td>314.014264</td>\n",
       "      <td>512.876957</td>\n",
       "      <td>0.122548</td>\n",
       "      <td>445.699290</td>\n",
       "      <td>522.160430</td>\n",
       "      <td>0.410658</td>\n",
       "    </tr>\n",
       "    <tr>\n",
       "      <th>std</th>\n",
       "      <td>94.334820</td>\n",
       "      <td>233.734928</td>\n",
       "      <td>0.196046</td>\n",
       "      <td>124.257455</td>\n",
       "      <td>272.841902</td>\n",
       "      <td>0.307140</td>\n",
       "      <td>119.719761</td>\n",
       "      <td>165.081872</td>\n",
       "      <td>0.358269</td>\n",
       "      <td>117.262304</td>\n",
       "      <td>...</td>\n",
       "      <td>0.395404</td>\n",
       "      <td>125.643158</td>\n",
       "      <td>121.803751</td>\n",
       "      <td>0.415026</td>\n",
       "      <td>124.648078</td>\n",
       "      <td>124.625095</td>\n",
       "      <td>0.172473</td>\n",
       "      <td>166.827036</td>\n",
       "      <td>227.084829</td>\n",
       "      <td>0.438040</td>\n",
       "    </tr>\n",
       "    <tr>\n",
       "      <th>min</th>\n",
       "      <td>-1.923309</td>\n",
       "      <td>1.994571</td>\n",
       "      <td>0.017559</td>\n",
       "      <td>-0.133329</td>\n",
       "      <td>4.308095</td>\n",
       "      <td>0.014788</td>\n",
       "      <td>-0.165105</td>\n",
       "      <td>113.670805</td>\n",
       "      <td>0.017187</td>\n",
       "      <td>-0.113954</td>\n",
       "      <td>...</td>\n",
       "      <td>0.008621</td>\n",
       "      <td>1.567510</td>\n",
       "      <td>4.329168</td>\n",
       "      <td>0.009262</td>\n",
       "      <td>1.242477</td>\n",
       "      <td>1.326354</td>\n",
       "      <td>0.009668</td>\n",
       "      <td>2.222582</td>\n",
       "      <td>175.090603</td>\n",
       "      <td>0.012107</td>\n",
       "    </tr>\n",
       "    <tr>\n",
       "      <th>25%</th>\n",
       "      <td>217.295990</td>\n",
       "      <td>226.919893</td>\n",
       "      <td>0.985361</td>\n",
       "      <td>353.781831</td>\n",
       "      <td>429.244226</td>\n",
       "      <td>0.762989</td>\n",
       "      <td>225.974747</td>\n",
       "      <td>452.737998</td>\n",
       "      <td>0.581151</td>\n",
       "      <td>264.542973</td>\n",
       "      <td>...</td>\n",
       "      <td>0.036545</td>\n",
       "      <td>254.000751</td>\n",
       "      <td>479.180825</td>\n",
       "      <td>0.039700</td>\n",
       "      <td>237.030515</td>\n",
       "      <td>480.937084</td>\n",
       "      <td>0.036157</td>\n",
       "      <td>332.088738</td>\n",
       "      <td>317.847394</td>\n",
       "      <td>0.033187</td>\n",
       "    </tr>\n",
       "    <tr>\n",
       "      <th>50%</th>\n",
       "      <td>320.984722</td>\n",
       "      <td>289.095332</td>\n",
       "      <td>0.992309</td>\n",
       "      <td>461.840083</td>\n",
       "      <td>482.678488</td>\n",
       "      <td>0.968742</td>\n",
       "      <td>316.164024</td>\n",
       "      <td>494.482459</td>\n",
       "      <td>0.984132</td>\n",
       "      <td>331.228223</td>\n",
       "      <td>...</td>\n",
       "      <td>0.293029</td>\n",
       "      <td>328.941772</td>\n",
       "      <td>504.827144</td>\n",
       "      <td>0.445439</td>\n",
       "      <td>322.177735</td>\n",
       "      <td>510.274868</td>\n",
       "      <td>0.061380</td>\n",
       "      <td>379.693004</td>\n",
       "      <td>523.894634</td>\n",
       "      <td>0.054760</td>\n",
       "    </tr>\n",
       "    <tr>\n",
       "      <th>75%</th>\n",
       "      <td>348.351717</td>\n",
       "      <td>387.048422</td>\n",
       "      <td>0.995970</td>\n",
       "      <td>485.047035</td>\n",
       "      <td>533.089769</td>\n",
       "      <td>0.990589</td>\n",
       "      <td>352.591593</td>\n",
       "      <td>542.986051</td>\n",
       "      <td>0.994048</td>\n",
       "      <td>376.649458</td>\n",
       "      <td>...</td>\n",
       "      <td>0.887745</td>\n",
       "      <td>393.368880</td>\n",
       "      <td>568.625827</td>\n",
       "      <td>0.941154</td>\n",
       "      <td>357.562346</td>\n",
       "      <td>562.473132</td>\n",
       "      <td>0.119280</td>\n",
       "      <td>608.877273</td>\n",
       "      <td>659.724786</td>\n",
       "      <td>0.946182</td>\n",
       "    </tr>\n",
       "    <tr>\n",
       "      <th>max</th>\n",
       "      <td>805.917506</td>\n",
       "      <td>1918.109475</td>\n",
       "      <td>0.999552</td>\n",
       "      <td>1027.056381</td>\n",
       "      <td>1921.295711</td>\n",
       "      <td>0.998826</td>\n",
       "      <td>1018.285955</td>\n",
       "      <td>1920.272747</td>\n",
       "      <td>0.999591</td>\n",
       "      <td>1018.182034</td>\n",
       "      <td>...</td>\n",
       "      <td>0.997186</td>\n",
       "      <td>661.964566</td>\n",
       "      <td>1917.787087</td>\n",
       "      <td>0.998812</td>\n",
       "      <td>633.376541</td>\n",
       "      <td>1918.141732</td>\n",
       "      <td>0.995000</td>\n",
       "      <td>1038.993937</td>\n",
       "      <td>1917.255144</td>\n",
       "      <td>0.993218</td>\n",
       "    </tr>\n",
       "  </tbody>\n",
       "</table>\n",
       "<p>8 rows × 24 columns</p>\n",
       "</div>"
      ],
      "text/plain": [
       "bodyparts      leftEye                                   nose               \\\n",
       "coords               x            y   likelihood            x            y   \n",
       "count      3824.000000  3824.000000  3824.000000  3824.000000  3824.000000   \n",
       "mean        298.030422   338.549852     0.946013   428.665028   522.746868   \n",
       "std          94.334820   233.734928     0.196046   124.257455   272.841902   \n",
       "min          -1.923309     1.994571     0.017559    -0.133329     4.308095   \n",
       "25%         217.295990   226.919893     0.985361   353.781831   429.244226   \n",
       "50%         320.984722   289.095332     0.992309   461.840083   482.678488   \n",
       "75%         348.351717   387.048422     0.995970   485.047035   533.089769   \n",
       "max         805.917506  1918.109475     0.999552  1027.056381  1921.295711   \n",
       "\n",
       "bodyparts                      hand                                  index  \\\n",
       "coords      likelihood            x            y   likelihood            x   \n",
       "count      3824.000000  3824.000000  3824.000000  3824.000000  3824.000000   \n",
       "mean          0.801029   312.324585   516.477019     0.766931   329.149471   \n",
       "std           0.307140   119.719761   165.081872     0.358269   117.262304   \n",
       "min           0.014788    -0.165105   113.670805     0.017187    -0.113954   \n",
       "25%           0.762989   225.974747   452.737998     0.581151   264.542973   \n",
       "50%           0.968742   316.164024   494.482459     0.984132   331.228223   \n",
       "75%           0.990589   352.591593   542.986051     0.994048   376.649458   \n",
       "max           0.998826  1018.285955  1920.272747     0.999591  1018.182034   \n",
       "\n",
       "bodyparts     ...            middle         ring                            \\\n",
       "coords        ...        likelihood            x            y   likelihood   \n",
       "count         ...       3824.000000  3824.000000  3824.000000  3824.000000   \n",
       "mean          ...          0.435921   335.530763   509.367127     0.488388   \n",
       "std           ...          0.395404   125.643158   121.803751     0.415026   \n",
       "min           ...          0.008621     1.567510     4.329168     0.009262   \n",
       "25%           ...          0.036545   254.000751   479.180825     0.039700   \n",
       "50%           ...          0.293029   328.941772   504.827144     0.445439   \n",
       "75%           ...          0.887745   393.368880   568.625827     0.941154   \n",
       "max           ...          0.997186   661.964566  1917.787087     0.998812   \n",
       "\n",
       "bodyparts        pinky                                 pellet               \\\n",
       "coords               x            y   likelihood            x            y   \n",
       "count      3824.000000  3824.000000  3824.000000  3824.000000  3824.000000   \n",
       "mean        314.014264   512.876957     0.122548   445.699290   522.160430   \n",
       "std         124.648078   124.625095     0.172473   166.827036   227.084829   \n",
       "min           1.242477     1.326354     0.009668     2.222582   175.090603   \n",
       "25%         237.030515   480.937084     0.036157   332.088738   317.847394   \n",
       "50%         322.177735   510.274868     0.061380   379.693004   523.894634   \n",
       "75%         357.562346   562.473132     0.119280   608.877273   659.724786   \n",
       "max         633.376541  1918.141732     0.995000  1038.993937  1917.255144   \n",
       "\n",
       "bodyparts               \n",
       "coords      likelihood  \n",
       "count      3824.000000  \n",
       "mean          0.410658  \n",
       "std           0.438040  \n",
       "min           0.012107  \n",
       "25%           0.033187  \n",
       "50%           0.054760  \n",
       "75%           0.946182  \n",
       "max           0.993218  \n",
       "\n",
       "[8 rows x 24 columns]"
      ]
     },
     "execution_count": 4,
     "metadata": {},
     "output_type": "execute_result"
    }
   ],
   "source": [
    "df.describe()"
   ]
  },
  {
   "cell_type": "code",
   "execution_count": 5,
   "metadata": {},
   "outputs": [],
   "source": [
    "def frame_to_time(frame):\n",
    "    total_seconds = (frame/3824)*127\n",
    "    return total_seconds\n",
    "def time_to_frame(time):\n",
    "    return 3824*(time/127)"
   ]
  },
  {
   "cell_type": "code",
   "execution_count": 6,
   "metadata": {},
   "outputs": [
    {
     "data": {
      "text/plain": [
       "<matplotlib.axes._subplots.AxesSubplot at 0x2e2e1938eb8>"
      ]
     },
     "execution_count": 6,
     "metadata": {},
     "output_type": "execute_result"
    }
   ],
   "source": [
    "labels = {key: df[df[key, 'likelihood'] > 0.9][key] for key in list(df.columns.levels[0])}\n",
    "{labels[key].insert(0, \"frame\", labels[key].index, True) for key in labels.keys()}\n",
    "{labels[key].insert(0, \"time\", labels[key]['frame'].map(frame_to_time), True) for key in labels.keys()}\n",
    "pellet = labels['pellet']\n",
    "hand = labels['hand']\n",
    "index = labels['index']\n",
    "middle = labels['middle']\n",
    "ring = labels['ring']\n",
    "pinky = labels['pinky']\n",
    "nose = labels['nose']\n",
    "leftEye = labels['leftEye']\n",
    "pellet.plot(kind='scatter', x='x', y='y')\n",
    "hand.plot(kind='scatter', x='x', y='y')\n",
    "nose.plot(kind='scatter', x='x', y='y')"
   ]
  },
  {
   "cell_type": "markdown",
   "metadata": {},
   "source": [
    "### example of what a success looks like"
   ]
  },
  {
   "cell_type": "code",
   "execution_count": 7,
   "metadata": {},
   "outputs": [
    {
     "data": {
      "text/plain": [
       "<matplotlib.axes._subplots.AxesSubplot at 0x2e2deeafdd8>"
      ]
     },
     "execution_count": 7,
     "metadata": {},
     "output_type": "execute_result"
    },
    {
     "data": {
      "image/png": "[encoded data removed]",
      "text/plain": [
       "<Figure size 432x288 with 2 Axes>"
      ]
     },
     "metadata": {
      "needs_background": "light"
     },
     "output_type": "display_data"
    }
   ],
   "source": [
    "a_success = pellet[(pellet['time'] > 18) & (pellet['time'] < 22)]\n",
    "a_success.plot(kind='scatter', x='x', y='y', c=a_success['time'], colormap='viridis', sharex=False)"
   ]
  },
  {
   "cell_type": "code",
   "execution_count": 8,
   "metadata": {},
   "outputs": [
    {
     "data": {
      "text/plain": [
       "<matplotlib.axes._subplots.AxesSubplot at 0x2e2e1dca828>"
      ]
     },
     "execution_count": 8,
     "metadata": {},
     "output_type": "execute_result"
    },
    {
     "data": {
      "image/png": "[encoded data removed]",
      "text/plain": [
       "<Figure size 432x288 with 2 Axes>"
      ]
     },
     "metadata": {
      "needs_background": "light"
     },
     "output_type": "display_data"
    }
   ],
   "source": [
    "hand = labels['hand']\n",
    "hand.plot(kind='scatter', x='x', y='y', c=hand['time'], colormap='viridis', sharex=False)"
   ]
  },
  {
   "cell_type": "markdown",
   "metadata": {},
   "source": [
    "# Isolating attempts\n",
    "### Used an line: if the hand/fingers pass the line, it is an attempt"
   ]
  },
  {
   "cell_type": "code",
   "execution_count": 9,
   "metadata": {},
   "outputs": [
    {
     "data": {
      "text/plain": [
       "<matplotlib.axes._subplots.AxesSubplot at 0x2e2e1a589e8>"
      ]
     },
     "execution_count": 9,
     "metadata": {},
     "output_type": "execute_result"
    },
    {
     "data": {
      "image/png": "[encoded data removed]",
      "text/plain": [
       "<Figure size 432x288 with 1 Axes>"
      ]
     },
     "metadata": {
      "needs_background": "light"
     },
     "output_type": "display_data"
    },
    {
     "data": {
      "image/png": "[encoded data removed]",
      "text/plain": [
       "<Figure size 432x288 with 1 Axes>"
      ]
     },
     "metadata": {
      "needs_background": "light"
     },
     "output_type": "display_data"
    }
   ],
   "source": [
    "hand_reach = hand[hand.apply(lambda x: x['y'] > ((-638/878)*x['x'] + 1000), axis=1)]\n",
    "# hand_reach.plot(kind='scatter', x='x', y='y', c=hand_reach['time'], colormap='viridis', sharex=False)\n",
    "hand_reach['time'].hist(bins=100)\n",
    "hand_reach.plot(kind='scatter', x='time', y='y')"
   ]
  },
  {
   "cell_type": "markdown",
   "metadata": {},
   "source": [
    "### Added a distance from pellet dispensing position: if a hand is within a certain distance (90 pixels here), it is an attempt"
   ]
  },
  {
   "cell_type": "code",
   "execution_count": 10,
   "metadata": {},
   "outputs": [
    {
     "data": {
      "text/plain": [
       "<matplotlib.axes._subplots.AxesSubplot at 0x2e2e19d10f0>"
      ]
     },
     "execution_count": 10,
     "metadata": {},
     "output_type": "execute_result"
    },
    {
     "data": {
      "image/png": "[encoded data removed]",
      "text/plain": [
       "<Figure size 432x288 with 1 Axes>"
      ]
     },
     "metadata": {
      "needs_background": "light"
     },
     "output_type": "display_data"
    }
   ],
   "source": [
    "def dist_from_dispenser(x, y):\n",
    "    return ((x-600)**2 + (y-670)**2)**0.5\n",
    "hand['d_from_dispenser'] = hand.apply(lambda row: dist_from_dispenser(x = row['x'], y = row['y']), axis=1)\n",
    "hand_reach2 = hand[hand['d_from_dispenser'] < 90.1]\n",
    "hand_reach2['frame'].hist(bins=30)"
   ]
  },
  {
   "cell_type": "markdown",
   "metadata": {},
   "source": [
    "# Trying to see finger spread"
   ]
  },
  {
   "cell_type": "code",
   "execution_count": 11,
   "metadata": {},
   "outputs": [
    {
     "data": {
      "text/html": [
       "<div>\n",
       "<style scoped>\n",
       "    .dataframe tbody tr th:only-of-type {\n",
       "        vertical-align: middle;\n",
       "    }\n",
       "\n",
       "    .dataframe tbody tr th {\n",
       "        vertical-align: top;\n",
       "    }\n",
       "\n",
       "    .dataframe thead tr th {\n",
       "        text-align: left;\n",
       "    }\n",
       "</style>\n",
       "<table border=\"1\" class=\"dataframe\">\n",
       "  <thead>\n",
       "    <tr>\n",
       "      <th>bodyparts</th>\n",
       "      <th colspan=\"3\" halign=\"left\">leftEye</th>\n",
       "      <th colspan=\"3\" halign=\"left\">nose</th>\n",
       "      <th colspan=\"3\" halign=\"left\">hand</th>\n",
       "      <th>index</th>\n",
       "      <th>...</th>\n",
       "      <th>middle</th>\n",
       "      <th colspan=\"3\" halign=\"left\">ring</th>\n",
       "      <th colspan=\"3\" halign=\"left\">pinky</th>\n",
       "      <th colspan=\"3\" halign=\"left\">pellet</th>\n",
       "    </tr>\n",
       "    <tr>\n",
       "      <th>coords</th>\n",
       "      <th>x</th>\n",
       "      <th>y</th>\n",
       "      <th>likelihood</th>\n",
       "      <th>x</th>\n",
       "      <th>y</th>\n",
       "      <th>likelihood</th>\n",
       "      <th>x</th>\n",
       "      <th>y</th>\n",
       "      <th>likelihood</th>\n",
       "      <th>x</th>\n",
       "      <th>...</th>\n",
       "      <th>likelihood</th>\n",
       "      <th>x</th>\n",
       "      <th>y</th>\n",
       "      <th>likelihood</th>\n",
       "      <th>x</th>\n",
       "      <th>y</th>\n",
       "      <th>likelihood</th>\n",
       "      <th>x</th>\n",
       "      <th>y</th>\n",
       "      <th>likelihood</th>\n",
       "    </tr>\n",
       "  </thead>\n",
       "  <tbody>\n",
       "    <tr>\n",
       "      <th>count</th>\n",
       "      <td>178.000000</td>\n",
       "      <td>178.000000</td>\n",
       "      <td>178.000000</td>\n",
       "      <td>178.000000</td>\n",
       "      <td>178.000000</td>\n",
       "      <td>178.000000</td>\n",
       "      <td>178.000000</td>\n",
       "      <td>178.000000</td>\n",
       "      <td>178.000000</td>\n",
       "      <td>178.000000</td>\n",
       "      <td>...</td>\n",
       "      <td>178.000000</td>\n",
       "      <td>178.000000</td>\n",
       "      <td>178.000000</td>\n",
       "      <td>178.000000</td>\n",
       "      <td>178.000000</td>\n",
       "      <td>178.000000</td>\n",
       "      <td>178.000000</td>\n",
       "      <td>178.000000</td>\n",
       "      <td>178.000000</td>\n",
       "      <td>178.000000</td>\n",
       "    </tr>\n",
       "    <tr>\n",
       "      <th>mean</th>\n",
       "      <td>324.886144</td>\n",
       "      <td>358.429025</td>\n",
       "      <td>0.843754</td>\n",
       "      <td>417.011281</td>\n",
       "      <td>547.007166</td>\n",
       "      <td>0.556219</td>\n",
       "      <td>269.308233</td>\n",
       "      <td>516.213556</td>\n",
       "      <td>0.812530</td>\n",
       "      <td>304.635863</td>\n",
       "      <td>...</td>\n",
       "      <td>0.827200</td>\n",
       "      <td>292.933150</td>\n",
       "      <td>562.027068</td>\n",
       "      <td>0.886276</td>\n",
       "      <td>259.880536</td>\n",
       "      <td>554.057332</td>\n",
       "      <td>0.692807</td>\n",
       "      <td>522.833089</td>\n",
       "      <td>658.073198</td>\n",
       "      <td>0.642661</td>\n",
       "    </tr>\n",
       "    <tr>\n",
       "      <th>std</th>\n",
       "      <td>139.719293</td>\n",
       "      <td>407.522769</td>\n",
       "      <td>0.330372</td>\n",
       "      <td>208.316906</td>\n",
       "      <td>479.601301</td>\n",
       "      <td>0.375276</td>\n",
       "      <td>165.661383</td>\n",
       "      <td>116.325686</td>\n",
       "      <td>0.254854</td>\n",
       "      <td>177.116302</td>\n",
       "      <td>...</td>\n",
       "      <td>0.142240</td>\n",
       "      <td>177.515961</td>\n",
       "      <td>120.446309</td>\n",
       "      <td>0.108482</td>\n",
       "      <td>165.358049</td>\n",
       "      <td>127.079013</td>\n",
       "      <td>0.163155</td>\n",
       "      <td>136.057299</td>\n",
       "      <td>75.516494</td>\n",
       "      <td>0.289657</td>\n",
       "    </tr>\n",
       "    <tr>\n",
       "      <th>min</th>\n",
       "      <td>-0.950225</td>\n",
       "      <td>13.808448</td>\n",
       "      <td>0.021803</td>\n",
       "      <td>1.226948</td>\n",
       "      <td>5.057628</td>\n",
       "      <td>0.015586</td>\n",
       "      <td>2.825864</td>\n",
       "      <td>243.560160</td>\n",
       "      <td>0.086405</td>\n",
       "      <td>53.436694</td>\n",
       "      <td>...</td>\n",
       "      <td>0.415841</td>\n",
       "      <td>49.989796</td>\n",
       "      <td>288.062339</td>\n",
       "      <td>0.430733</td>\n",
       "      <td>34.324840</td>\n",
       "      <td>166.979424</td>\n",
       "      <td>0.402826</td>\n",
       "      <td>224.842815</td>\n",
       "      <td>187.909006</td>\n",
       "      <td>0.022037</td>\n",
       "    </tr>\n",
       "    <tr>\n",
       "      <th>25%</th>\n",
       "      <td>257.338197</td>\n",
       "      <td>113.240408</td>\n",
       "      <td>0.966650</td>\n",
       "      <td>384.972240</td>\n",
       "      <td>319.544989</td>\n",
       "      <td>0.190810</td>\n",
       "      <td>229.859835</td>\n",
       "      <td>402.752220</td>\n",
       "      <td>0.758288</td>\n",
       "      <td>151.839930</td>\n",
       "      <td>...</td>\n",
       "      <td>0.746069</td>\n",
       "      <td>149.271545</td>\n",
       "      <td>437.652962</td>\n",
       "      <td>0.838059</td>\n",
       "      <td>130.774749</td>\n",
       "      <td>430.545776</td>\n",
       "      <td>0.570333</td>\n",
       "      <td>433.238471</td>\n",
       "      <td>625.754696</td>\n",
       "      <td>0.421252</td>\n",
       "    </tr>\n",
       "    <tr>\n",
       "      <th>50%</th>\n",
       "      <td>352.093569</td>\n",
       "      <td>229.554836</td>\n",
       "      <td>0.983932</td>\n",
       "      <td>471.983699</td>\n",
       "      <td>486.740653</td>\n",
       "      <td>0.536467</td>\n",
       "      <td>249.520914</td>\n",
       "      <td>568.406168</td>\n",
       "      <td>0.943157</td>\n",
       "      <td>295.637614</td>\n",
       "      <td>...</td>\n",
       "      <td>0.870977</td>\n",
       "      <td>274.731840</td>\n",
       "      <td>621.993171</td>\n",
       "      <td>0.911149</td>\n",
       "      <td>242.629797</td>\n",
       "      <td>614.643894</td>\n",
       "      <td>0.681204</td>\n",
       "      <td>607.182767</td>\n",
       "      <td>667.254964</td>\n",
       "      <td>0.716633</td>\n",
       "    </tr>\n",
       "    <tr>\n",
       "      <th>75%</th>\n",
       "      <td>381.271781</td>\n",
       "      <td>379.969435</td>\n",
       "      <td>0.992569</td>\n",
       "      <td>563.780034</td>\n",
       "      <td>511.011188</td>\n",
       "      <td>0.976686</td>\n",
       "      <td>259.442234</td>\n",
       "      <td>590.073181</td>\n",
       "      <td>0.984312</td>\n",
       "      <td>298.288101</td>\n",
       "      <td>...</td>\n",
       "      <td>0.948891</td>\n",
       "      <td>285.972636</td>\n",
       "      <td>627.217424</td>\n",
       "      <td>0.974306</td>\n",
       "      <td>245.673808</td>\n",
       "      <td>619.656996</td>\n",
       "      <td>0.820658</td>\n",
       "      <td>617.385968</td>\n",
       "      <td>708.427440</td>\n",
       "      <td>0.921905</td>\n",
       "    </tr>\n",
       "    <tr>\n",
       "      <th>max</th>\n",
       "      <td>646.778714</td>\n",
       "      <td>1866.448138</td>\n",
       "      <td>0.999122</td>\n",
       "      <td>835.183619</td>\n",
       "      <td>1917.895181</td>\n",
       "      <td>0.995640</td>\n",
       "      <td>652.124409</td>\n",
       "      <td>651.007419</td>\n",
       "      <td>0.998184</td>\n",
       "      <td>653.369447</td>\n",
       "      <td>...</td>\n",
       "      <td>0.994656</td>\n",
       "      <td>657.575350</td>\n",
       "      <td>704.739766</td>\n",
       "      <td>0.998731</td>\n",
       "      <td>589.153500</td>\n",
       "      <td>707.522385</td>\n",
       "      <td>0.995000</td>\n",
       "      <td>663.193663</td>\n",
       "      <td>740.155546</td>\n",
       "      <td>0.975595</td>\n",
       "    </tr>\n",
       "  </tbody>\n",
       "</table>\n",
       "<p>8 rows × 24 columns</p>\n",
       "</div>"
      ],
      "text/plain": [
       "bodyparts     leftEye                                 nose               \\\n",
       "coords              x            y  likelihood           x            y   \n",
       "count      178.000000   178.000000  178.000000  178.000000   178.000000   \n",
       "mean       324.886144   358.429025    0.843754  417.011281   547.007166   \n",
       "std        139.719293   407.522769    0.330372  208.316906   479.601301   \n",
       "min         -0.950225    13.808448    0.021803    1.226948     5.057628   \n",
       "25%        257.338197   113.240408    0.966650  384.972240   319.544989   \n",
       "50%        352.093569   229.554836    0.983932  471.983699   486.740653   \n",
       "75%        381.271781   379.969435    0.992569  563.780034   511.011188   \n",
       "max        646.778714  1866.448138    0.999122  835.183619  1917.895181   \n",
       "\n",
       "bodyparts                    hand                               index  \\\n",
       "coords     likelihood           x           y  likelihood           x   \n",
       "count      178.000000  178.000000  178.000000  178.000000  178.000000   \n",
       "mean         0.556219  269.308233  516.213556    0.812530  304.635863   \n",
       "std          0.375276  165.661383  116.325686    0.254854  177.116302   \n",
       "min          0.015586    2.825864  243.560160    0.086405   53.436694   \n",
       "25%          0.190810  229.859835  402.752220    0.758288  151.839930   \n",
       "50%          0.536467  249.520914  568.406168    0.943157  295.637614   \n",
       "75%          0.976686  259.442234  590.073181    0.984312  298.288101   \n",
       "max          0.995640  652.124409  651.007419    0.998184  653.369447   \n",
       "\n",
       "bodyparts     ...          middle        ring                          \\\n",
       "coords        ...      likelihood           x           y  likelihood   \n",
       "count         ...      178.000000  178.000000  178.000000  178.000000   \n",
       "mean          ...        0.827200  292.933150  562.027068    0.886276   \n",
       "std           ...        0.142240  177.515961  120.446309    0.108482   \n",
       "min           ...        0.415841   49.989796  288.062339    0.430733   \n",
       "25%           ...        0.746069  149.271545  437.652962    0.838059   \n",
       "50%           ...        0.870977  274.731840  621.993171    0.911149   \n",
       "75%           ...        0.948891  285.972636  627.217424    0.974306   \n",
       "max           ...        0.994656  657.575350  704.739766    0.998731   \n",
       "\n",
       "bodyparts       pinky                              pellet              \\\n",
       "coords              x           y  likelihood           x           y   \n",
       "count      178.000000  178.000000  178.000000  178.000000  178.000000   \n",
       "mean       259.880536  554.057332    0.692807  522.833089  658.073198   \n",
       "std        165.358049  127.079013    0.163155  136.057299   75.516494   \n",
       "min         34.324840  166.979424    0.402826  224.842815  187.909006   \n",
       "25%        130.774749  430.545776    0.570333  433.238471  625.754696   \n",
       "50%        242.629797  614.643894    0.681204  607.182767  667.254964   \n",
       "75%        245.673808  619.656996    0.820658  617.385968  708.427440   \n",
       "max        589.153500  707.522385    0.995000  663.193663  740.155546   \n",
       "\n",
       "bodyparts              \n",
       "coords     likelihood  \n",
       "count      178.000000  \n",
       "mean         0.642661  \n",
       "std          0.289657  \n",
       "min          0.022037  \n",
       "25%          0.421252  \n",
       "50%          0.716633  \n",
       "75%          0.921905  \n",
       "max          0.975595  \n",
       "\n",
       "[8 rows x 24 columns]"
      ]
     },
     "execution_count": 11,
     "metadata": {},
     "output_type": "execute_result"
    }
   ],
   "source": [
    "lkh = 0.4\n",
    "all_finger = df[(df['index', 'likelihood'] > lkh) & (df['middle', 'likelihood'] > lkh) & (df['ring', 'likelihood'] > lkh) & (df['pinky', 'likelihood'] > lkh)]\n",
    "all_finger.describe()"
   ]
  },
  {
   "cell_type": "code",
   "execution_count": 12,
   "metadata": {},
   "outputs": [
    {
     "name": "stderr",
     "output_type": "stream",
     "text": [
      "C:\\Users\\vjj14\\.conda\\envs\\dlc-windowsGPU\\lib\\site-packages\\ipykernel_launcher.py:10: SettingWithCopyWarning: \n",
      "A value is trying to be set on a copy of a slice from a DataFrame.\n",
      "Try using .loc[row_indexer,col_indexer] = value instead\n",
      "\n",
      "See the caveats in the documentation: http://pandas.pydata.org/pandas-docs/stable/indexing.html#indexing-view-versus-copy\n",
      "  # Remove the CWD from sys.path while we load stuff.\n"
     ]
    },
    {
     "data": {
      "text/html": [
       "<div>\n",
       "<style scoped>\n",
       "    .dataframe tbody tr th:only-of-type {\n",
       "        vertical-align: middle;\n",
       "    }\n",
       "\n",
       "    .dataframe tbody tr th {\n",
       "        vertical-align: top;\n",
       "    }\n",
       "\n",
       "    .dataframe thead tr th {\n",
       "        text-align: left;\n",
       "    }\n",
       "</style>\n",
       "<table border=\"1\" class=\"dataframe\">\n",
       "  <thead>\n",
       "    <tr>\n",
       "      <th>bodyparts</th>\n",
       "      <th>frame</th>\n",
       "      <th colspan=\"3\" halign=\"left\">leftEye</th>\n",
       "      <th colspan=\"3\" halign=\"left\">nose</th>\n",
       "      <th colspan=\"3\" halign=\"left\">hand</th>\n",
       "      <th>...</th>\n",
       "      <th colspan=\"3\" halign=\"left\">ring</th>\n",
       "      <th colspan=\"3\" halign=\"left\">pinky</th>\n",
       "      <th colspan=\"3\" halign=\"left\">pellet</th>\n",
       "      <th>spread</th>\n",
       "    </tr>\n",
       "    <tr>\n",
       "      <th>coords</th>\n",
       "      <th></th>\n",
       "      <th>x</th>\n",
       "      <th>y</th>\n",
       "      <th>likelihood</th>\n",
       "      <th>x</th>\n",
       "      <th>y</th>\n",
       "      <th>likelihood</th>\n",
       "      <th>x</th>\n",
       "      <th>y</th>\n",
       "      <th>likelihood</th>\n",
       "      <th>...</th>\n",
       "      <th>x</th>\n",
       "      <th>y</th>\n",
       "      <th>likelihood</th>\n",
       "      <th>x</th>\n",
       "      <th>y</th>\n",
       "      <th>likelihood</th>\n",
       "      <th>x</th>\n",
       "      <th>y</th>\n",
       "      <th>likelihood</th>\n",
       "      <th></th>\n",
       "    </tr>\n",
       "  </thead>\n",
       "  <tbody>\n",
       "    <tr>\n",
       "      <th>576</th>\n",
       "      <td>576</td>\n",
       "      <td>383.594581</td>\n",
       "      <td>373.288370</td>\n",
       "      <td>0.997343</td>\n",
       "      <td>560.473152</td>\n",
       "      <td>493.999619</td>\n",
       "      <td>0.991205</td>\n",
       "      <td>556.645643</td>\n",
       "      <td>605.269211</td>\n",
       "      <td>0.983851</td>\n",
       "      <td>...</td>\n",
       "      <td>610.624513</td>\n",
       "      <td>656.391115</td>\n",
       "      <td>0.729184</td>\n",
       "      <td>582.993076</td>\n",
       "      <td>658.385011</td>\n",
       "      <td>0.659740</td>\n",
       "      <td>613.547574</td>\n",
       "      <td>662.549953</td>\n",
       "      <td>0.763436</td>\n",
       "      <td>2339.388703</td>\n",
       "    </tr>\n",
       "    <tr>\n",
       "      <th>577</th>\n",
       "      <td>577</td>\n",
       "      <td>383.222801</td>\n",
       "      <td>371.563633</td>\n",
       "      <td>0.995388</td>\n",
       "      <td>562.899114</td>\n",
       "      <td>493.119970</td>\n",
       "      <td>0.991689</td>\n",
       "      <td>567.319237</td>\n",
       "      <td>612.886802</td>\n",
       "      <td>0.997060</td>\n",
       "      <td>...</td>\n",
       "      <td>627.129634</td>\n",
       "      <td>674.939909</td>\n",
       "      <td>0.958870</td>\n",
       "      <td>583.695639</td>\n",
       "      <td>673.740555</td>\n",
       "      <td>0.893615</td>\n",
       "      <td>617.324400</td>\n",
       "      <td>671.743406</td>\n",
       "      <td>0.133348</td>\n",
       "      <td>2379.984166</td>\n",
       "    </tr>\n",
       "    <tr>\n",
       "      <th>578</th>\n",
       "      <td>578</td>\n",
       "      <td>384.028888</td>\n",
       "      <td>372.096202</td>\n",
       "      <td>0.995799</td>\n",
       "      <td>562.919186</td>\n",
       "      <td>493.733319</td>\n",
       "      <td>0.992080</td>\n",
       "      <td>575.682908</td>\n",
       "      <td>618.879099</td>\n",
       "      <td>0.888841</td>\n",
       "      <td>...</td>\n",
       "      <td>640.557799</td>\n",
       "      <td>687.643307</td>\n",
       "      <td>0.965614</td>\n",
       "      <td>589.153500</td>\n",
       "      <td>679.839467</td>\n",
       "      <td>0.925547</td>\n",
       "      <td>617.789979</td>\n",
       "      <td>677.711568</td>\n",
       "      <td>0.145994</td>\n",
       "      <td>2404.879674</td>\n",
       "    </tr>\n",
       "    <tr>\n",
       "      <th>583</th>\n",
       "      <td>583</td>\n",
       "      <td>381.321818</td>\n",
       "      <td>371.088487</td>\n",
       "      <td>0.992712</td>\n",
       "      <td>568.188372</td>\n",
       "      <td>487.405372</td>\n",
       "      <td>0.989360</td>\n",
       "      <td>652.124409</td>\n",
       "      <td>618.373772</td>\n",
       "      <td>0.910354</td>\n",
       "      <td>...</td>\n",
       "      <td>635.304246</td>\n",
       "      <td>685.565730</td>\n",
       "      <td>0.981028</td>\n",
       "      <td>582.719622</td>\n",
       "      <td>678.597255</td>\n",
       "      <td>0.977672</td>\n",
       "      <td>604.732680</td>\n",
       "      <td>671.349653</td>\n",
       "      <td>0.595290</td>\n",
       "      <td>2414.632736</td>\n",
       "    </tr>\n",
       "    <tr>\n",
       "      <th>584</th>\n",
       "      <td>584</td>\n",
       "      <td>381.428136</td>\n",
       "      <td>374.448953</td>\n",
       "      <td>0.991321</td>\n",
       "      <td>568.996868</td>\n",
       "      <td>486.735728</td>\n",
       "      <td>0.986084</td>\n",
       "      <td>572.816251</td>\n",
       "      <td>619.063977</td>\n",
       "      <td>0.939528</td>\n",
       "      <td>...</td>\n",
       "      <td>635.786632</td>\n",
       "      <td>676.075787</td>\n",
       "      <td>0.996480</td>\n",
       "      <td>577.893967</td>\n",
       "      <td>673.673631</td>\n",
       "      <td>0.995000</td>\n",
       "      <td>606.142887</td>\n",
       "      <td>669.382219</td>\n",
       "      <td>0.576901</td>\n",
       "      <td>2376.284738</td>\n",
       "    </tr>\n",
       "  </tbody>\n",
       "</table>\n",
       "<p>5 rows × 26 columns</p>\n",
       "</div>"
      ],
      "text/plain": [
       "bodyparts frame     leftEye                               nose              \\\n",
       "coords                    x           y likelihood           x           y   \n",
       "576         576  383.594581  373.288370   0.997343  560.473152  493.999619   \n",
       "577         577  383.222801  371.563633   0.995388  562.899114  493.119970   \n",
       "578         578  384.028888  372.096202   0.995799  562.919186  493.733319   \n",
       "583         583  381.321818  371.088487   0.992712  568.188372  487.405372   \n",
       "584         584  381.428136  374.448953   0.991321  568.996868  486.735728   \n",
       "\n",
       "bodyparts                   hand                            ...       \\\n",
       "coords    likelihood           x           y likelihood     ...        \n",
       "576         0.991205  556.645643  605.269211   0.983851     ...        \n",
       "577         0.991689  567.319237  612.886802   0.997060     ...        \n",
       "578         0.992080  575.682908  618.879099   0.888841     ...        \n",
       "583         0.989360  652.124409  618.373772   0.910354     ...        \n",
       "584         0.986084  572.816251  619.063977   0.939528     ...        \n",
       "\n",
       "bodyparts        ring                              pinky              \\\n",
       "coords              x           y likelihood           x           y   \n",
       "576        610.624513  656.391115   0.729184  582.993076  658.385011   \n",
       "577        627.129634  674.939909   0.958870  583.695639  673.740555   \n",
       "578        640.557799  687.643307   0.965614  589.153500  679.839467   \n",
       "583        635.304246  685.565730   0.981028  582.719622  678.597255   \n",
       "584        635.786632  676.075787   0.996480  577.893967  673.673631   \n",
       "\n",
       "bodyparts                 pellet                              spread  \n",
       "coords    likelihood           x           y likelihood               \n",
       "576         0.659740  613.547574  662.549953   0.763436  2339.388703  \n",
       "577         0.893615  617.324400  671.743406   0.133348  2379.984166  \n",
       "578         0.925547  617.789979  677.711568   0.145994  2404.879674  \n",
       "583         0.977672  604.732680  671.349653   0.595290  2414.632736  \n",
       "584         0.995000  606.142887  669.382219   0.576901  2376.284738  \n",
       "\n",
       "[5 rows x 26 columns]"
      ]
     },
     "execution_count": 12,
     "metadata": {},
     "output_type": "execute_result"
    },
    {
     "data": {
      "image/png": "[encoded data removed]",
      "text/plain": [
       "<Figure size 432x288 with 1 Axes>"
      ]
     },
     "metadata": {
      "needs_background": "light"
     },
     "output_type": "display_data"
    }
   ],
   "source": [
    "all_finger = df[(df['index', 'likelihood'] > lkh) & (df['middle', 'likelihood'] > lkh) & (df['ring', 'likelihood'] > lkh) & (df['pinky', 'likelihood'] > lkh)]\n",
    "def spread(row):\n",
    "    row = row.values\n",
    "    array = np.delete(row, 11)\n",
    "    array = np.delete(array, 8)\n",
    "    array = np.delete(array, 5)\n",
    "    array = np.delete(array, 2)\n",
    "    differences = np.diff(array)\n",
    "    return (sum(array**2))**0.5\n",
    "all_finger['spread'] = all_finger.apply(lambda row: spread(row), axis=1)\n",
    "# all_finger.sort_values('spread', ascending=False).head()\n",
    "all_finger.insert(0, \"frame\", all_finger.index, True)\n",
    "all_finger.plot(kind='scatter', x = 'frame', y='spread')\n",
    "all_finger.head()"
   ]
  },
  {
   "cell_type": "code",
   "execution_count": 13,
   "metadata": {},
   "outputs": [
    {
     "data": {
      "text/plain": [
       "16.605648535564853"
      ]
     },
     "execution_count": 13,
     "metadata": {},
     "output_type": "execute_result"
    }
   ],
   "source": [
    "frame_to_time(500)"
   ]
  },
  {
   "cell_type": "markdown",
   "metadata": {},
   "source": [
    "### trying to see the difference between two network's analyzation of the same video (incomplete)"
   ]
  },
  {
   "cell_type": "code",
   "execution_count": 14,
   "metadata": {},
   "outputs": [
    {
     "data": {
      "text/plain": [
       "(700, 100)"
      ]
     },
     "execution_count": 14,
     "metadata": {},
     "output_type": "execute_result"
    },
    {
     "data": {
      "image/png": "[encoded data removed]",
      "text/plain": [
       "<Figure size 432x288 with 1 Axes>"
      ]
     },
     "metadata": {
      "needs_background": "light"
     },
     "output_type": "display_data"
    },
    {
     "data": {
      "image/png": "[encoded data removed]",
      "text/plain": [
       "<Figure size 432x288 with 1 Axes>"
      ]
     },
     "metadata": {
      "needs_background": "light"
     },
     "output_type": "display_data"
    }
   ],
   "source": [
    "df2 = pd.read_hdf(r\"C:\\Users\\vjj14\\Desktop\\DeepLabCut\\multi-diagonal-vj-2019-06-10\\videos\\diagonal1080p240fps_TrimDeepCut_resnet50_multi-diagonalJun10shuffle1_30000.h5\")\n",
    "#remove extra level \"scorer\"\n",
    "df2.columns = df2.columns.droplevel()\n",
    "labels2 = {key: df2[df2[key, 'likelihood'] > 0.9][key] for key in list(df2.columns.levels[0])}\n",
    "{labels2[key].insert(0, \"frame\", labels2[key].index, True) for key in labels2.keys()}\n",
    "{labels2[key].insert(0, \"time\", labels2[key]['frame'].map(frame_to_time), True) for key in labels2.keys()}\n",
    "pellet2 = labels2['pellet']\n",
    "hand2 = labels2['hand']\n",
    "index2 = labels2['index']\n",
    "middle2 = labels2['middle']\n",
    "ring2 = labels2['ring']\n",
    "pinky2 = labels2['pinky']\n",
    "nose2 = labels2['nose']\n",
    "leftEye2 = labels2['leftEye']\n",
    "p=middle.plot(kind='scatter', x='x', y='y')\n",
    "p.set_xlim(0, 650)\n",
    "p.set_ylim(700, 100)\n",
    "p2=middle2.plot(kind='scatter', x='x', y='y')\n",
    "p2.set_xlim(0, 650)\n",
    "p2.set_ylim(700, 100)\n"
   ]
  },
  {
   "cell_type": "code",
   "execution_count": 15,
   "metadata": {},
   "outputs": [
    {
     "data": {
      "text/plain": [
       "<matplotlib.axes._subplots.AxesSubplot at 0x2e2e1b0f9e8>"
      ]
     },
     "execution_count": 15,
     "metadata": {},
     "output_type": "execute_result"
    },
    {
     "data": {
      "image/png": "[encoded data removed]",
      "text/plain": [
       "<Figure size 432x288 with 1 Axes>"
      ]
     },
     "metadata": {
      "needs_background": "light"
     },
     "output_type": "display_data"
    }
   ],
   "source": [
    "hand.diff().plot(kind='scatter', x='x', y='y')"
   ]
  },
  {
   "cell_type": "code",
   "execution_count": 16,
   "metadata": {},
   "outputs": [],
   "source": [
    "def delta_x_per_frame(row):\n",
    "    return row['x'] / row['frame']\n",
    "def delta_y_per_frame(row):\n",
    "    return row['y'] / row['frame']"
   ]
  },
  {
   "cell_type": "code",
   "execution_count": 17,
   "metadata": {},
   "outputs": [
    {
     "data": {
      "text/plain": [
       "369"
      ]
     },
     "execution_count": 17,
     "metadata": {},
     "output_type": "execute_result"
    }
   ],
   "source": [
    "hand_diff = labels['hand'].diff()\n",
    "hand_diff['delta_x'] = hand_diff.apply(delta_x_per_frame, axis=1) #passes a Series object, row-wise\n",
    "hand_diff['delta_y'] = hand_diff.apply(delta_y_per_frame, axis=1)\n",
    "sum(hand_diff['delta_x'] < -2)"
   ]
  },
  {
   "cell_type": "code",
   "execution_count": 21,
   "metadata": {},
   "outputs": [
    {
     "name": "stderr",
     "output_type": "stream",
     "text": [
      "C:\\Users\\vjj14\\.conda\\envs\\dlc-windowsGPU\\lib\\site-packages\\ipykernel_launcher.py:2: RuntimeWarning: divide by zero encountered in double_scalars\n",
      "  \n",
      "C:\\Users\\vjj14\\.conda\\envs\\dlc-windowsGPU\\lib\\site-packages\\ipykernel_launcher.py:4: RuntimeWarning: divide by zero encountered in double_scalars\n",
      "  after removing the cwd from sys.path.\n"
     ]
    },
    {
     "name": "stdout",
     "output_type": "stream",
     "text": [
      "hand\n",
      "405\n",
      "403\n",
      "index\n",
      "0\n",
      "33\n",
      "leftEye\n",
      "295\n",
      "299\n",
      "middle\n",
      "0\n",
      "2\n",
      "nose\n",
      "459\n",
      "453\n",
      "pellet\n",
      "0\n",
      "0\n",
      "pinky\n",
      "0\n",
      "0\n",
      "ring\n",
      "0\n",
      "2\n"
     ]
    }
   ],
   "source": [
    "params = ['delta_x', 'delta_y']\n",
    "max_delta = 2\n",
    "for lab in labels2.keys():\n",
    "    labels[lab]['delta_x'] = labels[lab].apply(delta_x_per_frame, axis=1) #passes a Series object, row-wise\n",
    "    labels[lab]['delta_y'] = labels[lab].apply(delta_y_per_frame, axis=1)\n",
    "    labels2[lab]['delta_x'] = labels2[lab].apply(delta_x_per_frame, axis=1) #passes a Series object, row-wise\n",
    "    labels2[lab]['delta_y'] = labels2[lab].apply(delta_y_per_frame, axis=1)\n",
    "    print(lab)\n",
    "    one = 0\n",
    "    two = 0\n",
    "    for param in params:\n",
    "        one += sum(labels[lab][param] > max_delta) + sum(labels[lab][param] < -1*max_delta)\n",
    "        two += sum(labels2[lab][param] > max_delta) + sum(labels2[lab][param] < -1*max_delta)\n",
    "    print(one)\n",
    "    print(two)"
   ]
  },
  {
   "cell_type": "code",
   "execution_count": 22,
   "metadata": {},
   "outputs": [
    {
     "name": "stdout",
     "output_type": "stream",
     "text": [
      "9.833638304471858\n",
      "6.883476859331074\n"
     ]
    },
    {
     "data": {
      "image/png": "[encoded data removed]",
      "text/plain": [
       "<Figure size 432x288 with 1 Axes>"
      ]
     },
     "metadata": {
      "needs_background": "light"
     },
     "output_type": "display_data"
    }
   ],
   "source": [
    "labels['nose'].diff()['x'].hist(bins = 100, range = (-20, 20))\n",
    "labels['nose']['delta_x'].hist(bins = 100, range = (-20, 20))\n",
    "print(labels['hand'].diff()['x'].quantile(0.99))\n",
    "print(hand_diff['delta_x'].quantile(0.99))"
   ]
  },
  {
   "cell_type": "code",
   "execution_count": 23,
   "metadata": {},
   "outputs": [
    {
     "data": {
      "text/plain": [
       "64.76202928870293"
      ]
     },
     "execution_count": 23,
     "metadata": {},
     "output_type": "execute_result"
    },
    {
     "data": {
      "image/png": "[encoded data removed]",
      "text/plain": [
       "<Figure size 432x288 with 1 Axes>"
      ]
     },
     "metadata": {
      "needs_background": "light"
     },
     "output_type": "display_data"
    }
   ],
   "source": [
    "ax = hand_diff.reset_index().plot(kind='scatter', x='index', y = 'delta_x')\n",
    "ax.set_ylim(-20, 20)\n",
    "frame_to_time(1950)"
   ]
  },
  {
   "cell_type": "code",
   "execution_count": 24,
   "metadata": {},
   "outputs": [
    {
     "name": "stdout",
     "output_type": "stream",
     "text": [
      "46\n",
      "49\n"
     ]
    }
   ],
   "source": [
    "print(sum(hand.diff()['y'] > 8) + sum(hand.diff()['y'] < -8))\n",
    "print(sum(hand2.diff()['y'] > 8) + sum(hand.diff()['y'] < -8))"
   ]
  },
  {
   "cell_type": "code",
   "execution_count": 25,
   "metadata": {},
   "outputs": [
    {
     "data": {
      "text/plain": [
       "<matplotlib.axes._subplots.AxesSubplot at 0x2e2e33824a8>"
      ]
     },
     "execution_count": 25,
     "metadata": {},
     "output_type": "execute_result"
    },
    {
     "data": {
      "image/png": "[encoded data removed]",
      "text/plain": [
       "<Figure size 432x288 with 1 Axes>"
      ]
     },
     "metadata": {
      "needs_background": "light"
     },
     "output_type": "display_data"
    }
   ],
   "source": [
    "hand2.diff().plot(kind='scatter', x='x', y='y')"
   ]
  },
  {
   "cell_type": "code",
   "execution_count": null,
   "metadata": {},
   "outputs": [],
   "source": []
  }
 ],
 "metadata": {
  "kernelspec": {
   "display_name": "Python 3",
   "language": "python",
   "name": "python3"
  },
  "language_info": {
   "codemirror_mode": {
    "name": "ipython",
    "version": 3
   },
   "file_extension": ".py",
   "mimetype": "text/x-python",
   "name": "python",
   "nbconvert_exporter": "python",
   "pygments_lexer": "ipython3",
   "version": "3.6.6"
  }
 },
 "nbformat": 4,
 "nbformat_minor": 2
}
